{
  "nbformat": 4,
  "nbformat_minor": 0,
  "metadata": {
    "colab": {
      "name": "CodeSignal Intro.ipynb",
      "provenance": [],
      "collapsed_sections": []
    },
    "kernelspec": {
      "name": "python3",
      "display_name": "Python 3"
    }
  },
  "cells": [
    {
      "cell_type": "markdown",
      "metadata": {
        "id": "BGjGwPQGgwCe"
      },
      "source": [
        "# Century from Year\r\n",
        "Given a year, return the century it is in. The first century spans from the year 1 up to and including the year 100, the second - from the year 101 up to and including the year 200, etc.\r\n",
        "\r\n",
        "Example\r\n",
        "\r\n",
        "For year = 1905, the output should be\r\n",
        "centuryFromYear(year) = 20;\r\n",
        "For year = 1700, the output should be\r\n",
        "centuryFromYear(year) = 17.\r\n",
        "Input/Output\r\n",
        "\r\n",
        "[execution time limit] 4 seconds (py3)\r\n",
        "\r\n",
        "[input] integer year\r\n",
        "\r\n",
        "A positive integer, designating the year.\r\n",
        "\r\n",
        "Guaranteed constraints:\r\n",
        "1 ≤ year ≤ 2005.\r\n",
        "\r\n",
        "[output] integer\r\n",
        "\r\n",
        "The number of the century the year is in."
      ]
    },
    {
      "cell_type": "code",
      "metadata": {
        "id": "PcbGe_uPgpn_"
      },
      "source": [
        "from math import ceil\r\n",
        "def centuryFromYear(year):\r\n",
        "    return ceil(year / 100)"
      ],
      "execution_count": null,
      "outputs": []
    },
    {
      "cell_type": "markdown",
      "metadata": {
        "id": "loVUQYkIHEuJ"
      },
      "source": [
        "# allLongestStrings\r\n",
        "\r\n",
        "Given an array of strings, return another array containing all of its longest strings.\r\n",
        "\r\n",
        "Example\r\n",
        "\r\n",
        "For inputArray = [\"aba\", \"aa\", \"ad\", \"vcd\", \"aba\"], the output should be\r\n",
        "allLongestStrings(inputArray) = [\"aba\", \"vcd\", \"aba\"]."
      ]
    },
    {
      "cell_type": "code",
      "metadata": {
        "id": "ppLYS5zzHDAr"
      },
      "source": [
        "def allLongestStrings(inputArray):\r\n",
        "    longest = 0\r\n",
        "    result = []\r\n",
        "    for each in inputArray:\r\n",
        "        if len(each) > longest:\r\n",
        "            longest = len(each)\r\n",
        "    for each in inputArray:\r\n",
        "        if len(each) == longest:\r\n",
        "            result.append(each)\r\n",
        "    return result"
      ],
      "execution_count": null,
      "outputs": []
    },
    {
      "cell_type": "markdown",
      "metadata": {
        "id": "JEmaS4fq0f2N"
      },
      "source": [
        "\r\n",
        "# commonCharacterCount\r\n",
        "Given two strings, find the number of common characters between them.\r\n",
        "\r\n",
        "Example\r\n",
        "\r\n",
        "For s1 = \"aabcc\" and s2 = \"adcaa\", the output should be\r\n",
        "commonCharacterCount(s1, s2) = 3.\r\n",
        "\r\n",
        "Strings have 3 common characters - 2 \"a\"s and 1 \"c\"."
      ]
    },
    {
      "cell_type": "code",
      "metadata": {
        "id": "kWpf0DV46Kpa"
      },
      "source": [
        "def commonCharacterCount(s1, s2):\r\n",
        "    count = 0\r\n",
        "    for each in set(s1):\r\n",
        "        if each in s2:\r\n",
        "            count += min(s1.count(each), s2.count(each))\r\n",
        "    return count\r\n",
        "  "
      ],
      "execution_count": null,
      "outputs": []
    },
    {
      "cell_type": "markdown",
      "metadata": {
        "id": "1VEHxQLopcbq"
      },
      "source": [
        "# isLucky\r\n",
        "\r\n",
        "Ticket numbers usually consist of an even number of digits. A ticket number is considered lucky if the sum of the first half of the digits is equal to the sum of the second half.\r\n",
        "\r\n",
        "Given a ticket number n, determine if it's lucky or not.\r\n",
        "\r\n",
        "Example\r\n",
        "\r\n",
        "For n = 1230, the output should be\r\n",
        "isLucky(n) = true;\r\n",
        "For n = 239017, the output should be\r\n",
        "isLucky(n) = false."
      ]
    },
    {
      "cell_type": "code",
      "metadata": {
        "id": "jBSo7INRpXKP"
      },
      "source": [
        "def isLucky(n):\r\n",
        "    sum1 = 0\r\n",
        "    sum2 = 0\r\n",
        "    mid = len(str(n))//2\r\n",
        "    for i, v in enumerate(str(n)):\r\n",
        "        if i < mid:\r\n",
        "            sum1 += int(v)\r\n",
        "        else:\r\n",
        "            sum2 += int(v)\r\n",
        "    \r\n",
        "    return sum1 == sum2"
      ],
      "execution_count": null,
      "outputs": []
    },
    {
      "cell_type": "code",
      "metadata": {
        "id": "L9huFI47q0gv"
      },
      "source": [
        "def isLucky(n):\r\n",
        "    n = list(map(int,str(n)))\r\n",
        "    l = len(n)//2\r\n",
        "    return sum(n[:l]) == sum(n[l:])\r\n",
        "    '''\r\n",
        "    this solution is noteworthy because it uses 'map' to apply the int function \r\n",
        "    to all elements of of an iterable. Map is still considered O[n] time but \r\n",
        "    very slightly out performs list comprehension unless called within a lambda."
      ],
      "execution_count": null,
      "outputs": []
    },
    {
      "cell_type": "markdown",
      "metadata": {
        "id": "dAc2cJqtKQtf"
      },
      "source": [
        "Some people are standing in a row in a park. There are trees between them which cannot be moved. Your task is to rearrange the people by their heights in a non-descending order without moving the trees. People can be very tall!\r\n",
        "\r\n",
        "Example\r\n",
        "\r\n",
        "For a = [-1, 150, 190, 170, -1, -1, 160, 180], the output should be\r\n",
        "sortByHeight(a) = [-1, 150, 160, 170, -1, -1, 180, 190]."
      ]
    },
    {
      "cell_type": "code",
      "metadata": {
        "id": "I2tyH4ivKR33"
      },
      "source": [
        "def sortByHeight(a):\r\n",
        "    b = []\r\n",
        "    for i in a:\r\n",
        "        if i != -1:\r\n",
        "            b.append(i) \r\n",
        "            # list comprehension: b = sorted([i for i in a if i != -1])\r\n",
        "    for i in range(len(a)):\r\n",
        "        if a[i] != -1:\r\n",
        "            a[i] = min(b) #if sorted a[i] = b.pop(0)\r\n",
        "            b.remove(min(b))\r\n",
        "    return a"
      ],
      "execution_count": null,
      "outputs": []
    }
  ]
}