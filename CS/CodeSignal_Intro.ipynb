{
  "nbformat": 4,
  "nbformat_minor": 0,
  "metadata": {
    "colab": {
      "name": "CodeSignal Intro.ipynb",
      "provenance": [],
      "collapsed_sections": []
    },
    "kernelspec": {
      "name": "python3",
      "display_name": "Python 3"
    }
  },
  "cells": [
    {
      "cell_type": "markdown",
      "metadata": {
        "id": "BGjGwPQGgwCe"
      },
      "source": [
        "# Century from Year\r\n",
        "Given a year, return the century it is in. The first century spans from the year 1 up to and including the year 100, the second - from the year 101 up to and including the year 200, etc.\r\n",
        "\r\n",
        "Example\r\n",
        "\r\n",
        "For year = 1905, the output should be\r\n",
        "centuryFromYear(year) = 20;\r\n",
        "For year = 1700, the output should be\r\n",
        "centuryFromYear(year) = 17.\r\n",
        "Input/Output\r\n",
        "\r\n",
        "[execution time limit] 4 seconds (py3)\r\n",
        "\r\n",
        "[input] integer year\r\n",
        "\r\n",
        "A positive integer, designating the year.\r\n",
        "\r\n",
        "Guaranteed constraints:\r\n",
        "1 ≤ year ≤ 2005.\r\n",
        "\r\n",
        "[output] integer\r\n",
        "\r\n",
        "The number of the century the year is in."
      ]
    },
    {
      "cell_type": "code",
      "metadata": {
        "id": "PcbGe_uPgpn_"
      },
      "source": [
        "from math import ceil\r\n",
        "def centuryFromYear(year):\r\n",
        "    return ceil(year / 100)"
      ],
      "execution_count": null,
      "outputs": []
    },
    {
      "cell_type": "markdown",
      "metadata": {
        "id": "loVUQYkIHEuJ"
      },
      "source": [
        "# allLongestStrings\r\n",
        "\r\n",
        "Given an array of strings, return another array containing all of its longest strings.\r\n",
        "\r\n",
        "Example\r\n",
        "\r\n",
        "For inputArray = [\"aba\", \"aa\", \"ad\", \"vcd\", \"aba\"], the output should be\r\n",
        "allLongestStrings(inputArray) = [\"aba\", \"vcd\", \"aba\"]."
      ]
    },
    {
      "cell_type": "code",
      "metadata": {
        "id": "ppLYS5zzHDAr"
      },
      "source": [
        "def allLongestStrings(inputArray):\r\n",
        "    longest = 0\r\n",
        "    result = []\r\n",
        "    for each in inputArray:\r\n",
        "        if len(each) > longest:\r\n",
        "            longest = len(each)\r\n",
        "    for each in inputArray:\r\n",
        "        if len(each) == longest:\r\n",
        "            result.append(each)\r\n",
        "    return result"
      ],
      "execution_count": null,
      "outputs": []
    },
    {
      "cell_type": "markdown",
      "metadata": {
        "id": "JEmaS4fq0f2N"
      },
      "source": [
        "\r\n",
        "# commonCharacterCount\r\n",
        "Given two strings, find the number of common characters between them.\r\n",
        "\r\n",
        "Example\r\n",
        "\r\n",
        "For s1 = \"aabcc\" and s2 = \"adcaa\", the output should be\r\n",
        "commonCharacterCount(s1, s2) = 3.\r\n",
        "\r\n",
        "Strings have 3 common characters - 2 \"a\"s and 1 \"c\"."
      ]
    },
    {
      "cell_type": "code",
      "metadata": {
        "id": "kWpf0DV46Kpa"
      },
      "source": [
        "def commonCharacterCount(s1, s2):\r\n",
        "    count = 0\r\n",
        "    for each in set(s1):\r\n",
        "        if each in s2:\r\n",
        "            count += min(s1.count(each), s2.count(each))\r\n",
        "    return count\r\n",
        "  "
      ],
      "execution_count": null,
      "outputs": []
    },
    {
      "cell_type": "markdown",
      "metadata": {
        "id": "1VEHxQLopcbq"
      },
      "source": [
        "# isLucky\r\n",
        "\r\n",
        "Ticket numbers usually consist of an even number of digits. A ticket number is considered lucky if the sum of the first half of the digits is equal to the sum of the second half.\r\n",
        "\r\n",
        "Given a ticket number n, determine if it's lucky or not.\r\n",
        "\r\n",
        "Example\r\n",
        "\r\n",
        "For n = 1230, the output should be\r\n",
        "isLucky(n) = true;\r\n",
        "For n = 239017, the output should be\r\n",
        "isLucky(n) = false."
      ]
    },
    {
      "cell_type": "code",
      "metadata": {
        "id": "jBSo7INRpXKP"
      },
      "source": [
        "def isLucky(n):\r\n",
        "    sum1 = 0\r\n",
        "    sum2 = 0\r\n",
        "    mid = len(str(n))//2\r\n",
        "    for i, v in enumerate(str(n)):\r\n",
        "        if i < mid:\r\n",
        "            sum1 += int(v)\r\n",
        "        else:\r\n",
        "            sum2 += int(v)\r\n",
        "    \r\n",
        "    return sum1 == sum2"
      ],
      "execution_count": null,
      "outputs": []
    },
    {
      "cell_type": "code",
      "metadata": {
        "id": "L9huFI47q0gv"
      },
      "source": [
        "def isLucky(n):\r\n",
        "    n = list(map(int,str(n)))\r\n",
        "    l = len(n)//2\r\n",
        "    return sum(n[:l]) == sum(n[l:])\r\n",
        "    '''\r\n",
        "    this solution is noteworthy because it uses 'map' to apply the int function \r\n",
        "    to all elements of of an iterable. Map is still considered O[n] time but \r\n",
        "    very slightly out performs list comprehension unless called within a lambda."
      ],
      "execution_count": null,
      "outputs": []
    },
    {
      "cell_type": "markdown",
      "metadata": {
        "id": "dAc2cJqtKQtf"
      },
      "source": [
        "# sortByHeight\r\n",
        "\r\n",
        "Some people are standing in a row in a park. There are trees between them which cannot be moved. Your task is to rearrange the people by their heights in a non-descending order without moving the trees. People can be very tall!\r\n",
        "\r\n",
        "Example\r\n",
        "\r\n",
        "For a = [-1, 150, 190, 170, -1, -1, 160, 180], the output should be\r\n",
        "sortByHeight(a) = [-1, 150, 160, 170, -1, -1, 180, 190]."
      ]
    },
    {
      "cell_type": "code",
      "metadata": {
        "id": "I2tyH4ivKR33"
      },
      "source": [
        "def sortByHeight(a):\r\n",
        "    b = []\r\n",
        "    for i in a:\r\n",
        "        if i != -1:\r\n",
        "            b.append(i) \r\n",
        "            # list comprehension: b = sorted([i for i in a if i != -1])\r\n",
        "    for i in range(len(a)):\r\n",
        "        if a[i] != -1:\r\n",
        "            a[i] = min(b) #if sorted a[i] = b.pop(0)\r\n",
        "            b.remove(min(b))\r\n",
        "    return a"
      ],
      "execution_count": null,
      "outputs": []
    },
    {
      "cell_type": "code",
      "metadata": {
        "colab": {
          "base_uri": "https://localhost:8080/",
          "height": 35
        },
        "id": "sWFgn54JmRPL",
        "outputId": "469dc6b8-a351-4e7e-f13c-8d642435159b"
      },
      "source": [
        "\"\".join(list('123'))"
      ],
      "execution_count": null,
      "outputs": [
        {
          "output_type": "execute_result",
          "data": {
            "application/vnd.google.colaboratory.intrinsic+json": {
              "type": "string"
            },
            "text/plain": [
              "'123'"
            ]
          },
          "metadata": {
            "tags": []
          },
          "execution_count": 8
        }
      ]
    },
    {
      "cell_type": "markdown",
      "metadata": {
        "id": "SLb4nNIPKjEd"
      },
      "source": [
        "# alternatingSums\r\n",
        "\r\n",
        "Several people are standing in a row and need to be divided into two teams. The first person goes into team 1, the second goes into team 2, the third goes into team 1 again, the fourth into team 2, and so on.\r\n",
        "\r\n",
        "You are given an array of positive integers - the weights of the people. Return an array of two integers, where the first element is the total weight of team 1, and the second element is the total weight of team 2 after the division is complete.\r\n",
        "\r\n",
        "Example\r\n",
        "\r\n",
        "For a = [50, 60, 60, 45, 70], the output should be\r\n",
        "alternatingSums(a) = [180, 105]."
      ]
    },
    {
      "cell_type": "code",
      "metadata": {
        "id": "5D2eXGSpKeFs"
      },
      "source": [
        "def alternatingSums(a):\r\n",
        "    w1 = w2 = 0\r\n",
        "    for i, v in enumerate(a):\r\n",
        "        if i % 2:\r\n",
        "            w2 += v\r\n",
        "        else:\r\n",
        "            w1 += v\r\n",
        "    return [w1, w2]"
      ],
      "execution_count": null,
      "outputs": []
    },
    {
      "cell_type": "markdown",
      "metadata": {
        "id": "KcGDJUdLPmEy"
      },
      "source": [
        "# addBorder\r\n",
        "\r\n",
        "Given a rectangular matrix of characters, add a border of asterisks(*) to it.\r\n",
        "\r\n",
        "Example\r\n",
        "\r\n",
        "For\r\n",
        "<pre><code>picture = [\"abc\",\r\n",
        "           \"ded\"]\r\n",
        "</code></pre>\r\n",
        "\r\n",
        "the output should be\r\n",
        "<pre><code>addBorder(picture) = [\"*****\",\r\n",
        "                      \"*abc*\",\r\n",
        "                      \"*ded*\",\r\n",
        "                      \"*****\"]\r\n",
        "</code></pre>"
      ]
    },
    {
      "cell_type": "code",
      "metadata": {
        "id": "00eukF1IPkrO"
      },
      "source": [
        "def addBorder(p):\r\n",
        "    for each in range(len(p)):\r\n",
        "        p[each] = \"*\"+p[each]+\"*\"\r\n",
        "    p.insert(0,'*'*(len(p[0])))\r\n",
        "    p.append('*'*(len(p[0])))\r\n",
        "    return p"
      ],
      "execution_count": null,
      "outputs": []
    },
    {
      "cell_type": "markdown",
      "metadata": {
        "id": "n1GC2Ji6TRn7"
      },
      "source": [
        "# */2 areSimilar\r\n",
        "\r\n",
        "Two arrays are called similar if one can be obtained from another by swapping at most one pair of elements in one of the arrays.\r\n",
        "\r\n",
        "Given two arrays a and b, check whether they are similar.\r\n",
        "\r\n",
        "Example\r\n",
        "\r\n",
        "For a = [1, 2, 3] and b = [1, 2, 3], the output should be\r\n",
        "areSimilar(a, b) = true.\r\n",
        "\r\n",
        "The arrays are equal, no need to swap any elements.\r\n",
        "\r\n",
        "For a = [1, 2, 3] and b = [2, 1, 3], the output should be\r\n",
        "areSimilar(a, b) = true.\r\n",
        "\r\n",
        "We can obtain b from a by swapping 2 and 1 in b.\r\n",
        "\r\n",
        "For a = [1, 2, 2] and b = [2, 1, 1], the output should be\r\n",
        "areSimilar(a, b) = false.\r\n",
        "\r\n",
        "Any swap of any two elements either in a or in b won't make a and b equal."
      ]
    },
    {
      "cell_type": "code",
      "metadata": {
        "id": "pgMxB7bxTQB_"
      },
      "source": [
        "def areSimilar(a, b):\r\n",
        "    if a == b:\r\n",
        "         return True\r\n",
        "    for i in range(len(a)):\r\n",
        "        for j in range(i+1, len(a)):\r\n",
        "            a[i], a[j] = a[j], a[i]\r\n",
        "            if a == b:\r\n",
        "                return True\r\n",
        "            a[i], a[j] = a[j], a[i]\r\n",
        "    return False\r\n",
        "\r\n",
        "    ### works but O[n**2] time complexity"
      ],
      "execution_count": null,
      "outputs": []
    },
    {
      "cell_type": "code",
      "metadata": {
        "id": "9ZLSOubdhsaK"
      },
      "source": [
        "#*\r\n",
        "def areSimilar(a, b):\r\n",
        "    count = 0\r\n",
        "    index = []\r\n",
        "    if a == b:\r\n",
        "        return True\r\n",
        "        \r\n",
        "    for i in range(0, len(a)):\r\n",
        "        if a[i] != b[i]:\r\n",
        "            count += 1\r\n",
        "            index.append(i)            \r\n",
        "            \r\n",
        "    if count > 2:\r\n",
        "        return False\r\n",
        "    elif count == 2:\r\n",
        "        a[index[0]], a[index[1]] = a[index[1]], a[index[0]]\r\n",
        "        if a == b:\r\n",
        "            return True\r\n",
        "        else: \r\n",
        "            return False                            \r\n",
        "    else:\r\n",
        "        return True"
      ],
      "execution_count": null,
      "outputs": []
    },
    {
      "cell_type": "markdown",
      "metadata": {
        "id": "p_9IET-LNeEu"
      },
      "source": [
        "## *rectangleRotation\r\n",
        "\r\n",
        "<div class=\"-flex -scroll -padding-16 -space-v-16\"><div class=\"-layout-h -space-h-16\"><div class=\"-layout-h -space-h-4 -center-center\"><div class=\"icon -size-16 -color-green\"><div class=\"-layout-h -center\"><svg width=\"12\" height=\"14\" viewBox=\"0 0 12 14\"><path d=\"M6 2.28S4.02 4.672 0 6.99v2.647s4.5-2.875 6.01-4.764C7.56 6.778 12 9.637 12 9.637V6.991C7.98 4.608 6 2.28 6 2.28z\"></path><path d=\"M6 5.643s-1.98 2.392-6 4.711V13s4.5-2.875 6.01-4.763C7.56 10.142 12 13 12 13v-2.646c-4.02-2.383-6-4.71-6-4.71v-.001z\"></path></svg></div></div><p class=\"-bold -font-size-14 -capitalize\">medium</p></div><div class=\"-layout-h -space-h-4 -center-center\"><div class=\"icon -size-16 -color-green\"><div class=\"-layout-h -center\"><svg width=\"16\" height=\"16\" viewBox=\"0 0 16 16\"><path fill-rule=\"evenodd\" clip-rule=\"evenodd\" d=\"M8 16A8 8 0 1 1 8 0a8 8 0 0 1 0 16zm-1.43-3c-1.642-.344-2.462-1.136-2.462-2.376V9.612c0-.688-.37-1.032-1.108-1.032V7.42c.739 0 1.108-.346 1.108-1.037V5.31c.013-.613.225-1.11.636-1.487.414-.378 1.023-.653 1.825-.823L7 3.9c-.574.163-.873.621-.896 1.374v1.109c0 .763-.421 1.301-1.265 1.615.844.313 1.265.853 1.265 1.62v1.103c.023.753.322 1.211.896 1.374L6.57 13zm2.86 0c1.642-.344 2.462-1.136 2.462-2.376V9.612c0-.688.37-1.032 1.108-1.032V7.42c-.739 0-1.108-.346-1.108-1.037V5.31c-.013-.613-.225-1.11-.636-1.487-.414-.378-1.023-.653-1.825-.823L9 3.9c.574.163.873.621.896 1.374v1.109c0 .763.421 1.301 1.265 1.615-.844.313-1.265.853-1.265 1.62v1.103c-.023.753-.322 1.211-.896 1.374l.43.905z\"></path></svg></div></div><p class=\"-bold -font-size-14 -capitalize\">codewriting</p></div><div class=\"-layout-h -space-h-4 -center-center\"><div class=\"icon -size-16 -color-green\"><div class=\"-layout-h -center\"><svg width=\"16\" height=\"16\" viewBox=\"0 0 16 16\"><path d=\"M13.33 6.1l-2.8.395-.477 1.58 2.004-.22L11.03 9.6l-1.476.13L8 14.876 6.425 9.73 4.948 9.6 3.923 7.854l2.003.22-.454-1.58-2.8-.396-1.318-2.075 5.53 1.01L8 9.548l1.117-4.51 5.53-1.012L13.33 6.1zM0 8c0 4.418 3.582 8 8 8 4.42 0 8-3.582 8-8 0-4.42-3.58-8-8-8-4.418 0-8 3.58-8 8z\" fill-rule=\"evenodd\"></path></svg></div></div><p class=\"-bold -font-size-14 -capitalize\">300</p></div></div><div class=\"markdown -arial\"><p>A rectangle with sides equal to even integers <code>a</code> and <code>b</code> is drawn on the Cartesian plane. Its center (the intersection point of its diagonals) coincides with the point <code>(0, 0)</code>, but the sides of the rectangle are not parallel to the axes; instead, they are forming <code>45</code> degree angles with the axes.</p>\r\n",
        "<p>How many points with integer coordinates are located inside the given rectangle (including on its sides)?</p>\r\n",
        "<p><span class=\"markdown--header\" style=\"color:#2b3b52;font-size:1.4em\">Example</span></p>\r\n",
        "<p>For <code>a = 6</code> and <code>b = 4</code>, the output should be<br>\r\n",
        "<code>rectangleRotation(a, b) = 23</code>.</p>\r\n",
        "<p>The following picture illustrates the example, and the <code>23</code> points are marked green.</p>\r\n",
        "<p><img src=\"https://codesignal.s3.amazonaws.com/tasks/rectangleRotation/img/rectangle.png?_tm=1582083113018\" alt=\"\"></p>\r\n",
        "<p><span class=\"markdown--header\" style=\"color:#2b3b52;font-size:1.4em\">Input/Output</span></p>\r\n",
        "<ul>\r\n",
        "<li>\r\n",
        "<p><strong>[execution time limit] 4 seconds (py3)</strong></p>\r\n",
        "</li>\r\n",
        "<li>\r\n",
        "<p><strong>[input] integer a</strong></p>\r\n",
        "<p>A positive even integer.</p>\r\n",
        "<p><em>Guaranteed constraints:</em><br>\r\n",
        "<code>2 ≤ a ≤ 50</code>.</p>\r\n",
        "</li>\r\n",
        "<li>\r\n",
        "<p><strong>[input] integer b</strong></p>\r\n",
        "<p>A positive even integer.</p>\r\n",
        "<p><em>Guaranteed constraints:</em><br>\r\n",
        "<code>2 ≤ b ≤ 50</code>.</p>\r\n",
        "</li>\r\n",
        "<li>\r\n",
        "<p><strong>[output] integer</strong></p>\r\n",
        "<p>The number of inner points with integer coordinates.</p>\r\n",
        "</li>\r\n",
        "</ul>\r\n",
        "<p><strong>[Python 3] Syntax Tips</strong></p>\r\n",
        "<pre><code class=\"language-python\"><span class=\"hljs-comment\"># Prints help message to the console</span>\r\n",
        "<span class=\"hljs-comment\"># Returns a string</span>\r\n",
        "<span class=\"hljs-function\"><span class=\"hljs-keyword\">def</span> <span class=\"hljs-title\">helloWorld</span>(<span class=\"hljs-params\">name</span>):</span>\r\n",
        "    print(<span class=\"hljs-string\">\"This prints to the console when you Run Tests\"</span>)\r\n",
        "    <span class=\"hljs-keyword\">return</span> <span class=\"hljs-string\">\"Hello, \"</span> + name\r\n",
        "\r\n",
        "</code></pre>\r\n",
        "</div></div>"
      ]
    },
    {
      "cell_type": "code",
      "metadata": {
        "id": "jrqrERVxNbQK"
      },
      "source": [
        "def rectangleRotation(a, b):\r\n",
        "    import numpy as np\r\n",
        "    count = 0\r\n",
        "    a1 = a//2\r\n",
        "    b1 = b//2\r\n",
        "    for val1 in range(-a1-5,a1+5):\r\n",
        "        for val2 in range(-b1-5,b1+5):\r\n",
        "            if abs(val1*(np.sqrt(2))) <= a1 and abs(val2*(np.sqrt(2))) <= b1:\r\n",
        "                count += 1\r\n",
        "    for val1 in range(-a1-(a1%2)-101,a1+(a1%2)+101,2):\r\n",
        "        for val2 in range(-b1-(b1%2)-101,b1+(b1%2)+101,2):\r\n",
        "            if abs(0.5*val1*(np.sqrt(2))) <= a1 and abs(0.5*val2*(np.sqrt(2))) <= b1:\r\n",
        "                count += 1\r\n",
        "    return count"
      ],
      "execution_count": null,
      "outputs": []
    }
  ]
}