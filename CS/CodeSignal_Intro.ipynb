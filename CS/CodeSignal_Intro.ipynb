{
  "nbformat": 4,
  "nbformat_minor": 0,
  "metadata": {
    "colab": {
      "name": "CodeSignal Intro.ipynb",
      "provenance": [],
      "collapsed_sections": []
    },
    "kernelspec": {
      "name": "python3",
      "display_name": "Python 3"
    }
  },
  "cells": [
    {
      "cell_type": "markdown",
      "metadata": {
        "id": "BGjGwPQGgwCe"
      },
      "source": [
        "# Century from Year\r\n",
        "Given a year, return the century it is in. The first century spans from the year 1 up to and including the year 100, the second - from the year 101 up to and including the year 200, etc.\r\n",
        "\r\n",
        "Example\r\n",
        "\r\n",
        "For year = 1905, the output should be\r\n",
        "centuryFromYear(year) = 20;\r\n",
        "For year = 1700, the output should be\r\n",
        "centuryFromYear(year) = 17.\r\n",
        "Input/Output\r\n",
        "\r\n",
        "[execution time limit] 4 seconds (py3)\r\n",
        "\r\n",
        "[input] integer year\r\n",
        "\r\n",
        "A positive integer, designating the year.\r\n",
        "\r\n",
        "Guaranteed constraints:\r\n",
        "1 ≤ year ≤ 2005.\r\n",
        "\r\n",
        "[output] integer\r\n",
        "\r\n",
        "The number of the century the year is in."
      ]
    },
    {
      "cell_type": "code",
      "metadata": {
        "id": "PcbGe_uPgpn_"
      },
      "source": [
        "from math import ceil\r\n",
        "def centuryFromYear(year):\r\n",
        "    return ceil(year / 100)"
      ],
      "execution_count": null,
      "outputs": []
    },
    {
      "cell_type": "markdown",
      "metadata": {
        "id": "loVUQYkIHEuJ"
      },
      "source": [
        "# allLongestStrings\r\n",
        "\r\n",
        "Given an array of strings, return another array containing all of its longest strings.\r\n",
        "\r\n",
        "Example\r\n",
        "\r\n",
        "For inputArray = [\"aba\", \"aa\", \"ad\", \"vcd\", \"aba\"], the output should be\r\n",
        "allLongestStrings(inputArray) = [\"aba\", \"vcd\", \"aba\"]."
      ]
    },
    {
      "cell_type": "code",
      "metadata": {
        "id": "ppLYS5zzHDAr"
      },
      "source": [
        "def allLongestStrings(inputArray):\r\n",
        "    longest = 0\r\n",
        "    result = []\r\n",
        "    for each in inputArray:\r\n",
        "        if len(each) > longest:\r\n",
        "            longest = len(each)\r\n",
        "    for each in inputArray:\r\n",
        "        if len(each) == longest:\r\n",
        "            result.append(each)\r\n",
        "    return result"
      ],
      "execution_count": null,
      "outputs": []
    },
    {
      "cell_type": "markdown",
      "metadata": {
        "id": "JEmaS4fq0f2N"
      },
      "source": [
        "\r\n",
        "# commonCharacterCount\r\n",
        "Given two strings, find the number of common characters between them.\r\n",
        "\r\n",
        "Example\r\n",
        "\r\n",
        "For s1 = \"aabcc\" and s2 = \"adcaa\", the output should be\r\n",
        "commonCharacterCount(s1, s2) = 3.\r\n",
        "\r\n",
        "Strings have 3 common characters - 2 \"a\"s and 1 \"c\"."
      ]
    },
    {
      "cell_type": "code",
      "metadata": {
        "id": "kWpf0DV46Kpa"
      },
      "source": [
        "def commonCharacterCount(s1, s2):\r\n",
        "    count = 0\r\n",
        "    for each in set(s1):\r\n",
        "        if each in s2:\r\n",
        "            count += min(s1.count(each), s2.count(each))\r\n",
        "    return count\r\n",
        "  "
      ],
      "execution_count": null,
      "outputs": []
    }
  ]
}