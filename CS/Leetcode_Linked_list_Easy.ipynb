{
  "nbformat": 4,
  "nbformat_minor": 0,
  "metadata": {
    "colab": {
      "name": "Leetcode Linked list Easy.ipynb",
      "provenance": [],
      "collapsed_sections": []
    },
    "kernelspec": {
      "name": "python3",
      "display_name": "Python 3"
    }
  },
  "cells": [
    {
      "cell_type": "markdown",
      "metadata": {
        "id": "3ji6g8nU7Zux"
      },
      "source": [
        "## deleteDuplicates\r\n",
        "\r\n",
        "Given the head of a sorted linked list, delete all duplicates such that each element appears only once. Return the linked list sorted as well.\r\n",
        "\r\n",
        " \r\n",
        "\r\n",
        "Example 1:\r\n",
        "\r\n",
        "<img alt=\"\" src=\"https://assets.leetcode.com/uploads/2021/01/04/list1.jpg\" style=\"width: 302px; height: 242px;\">\r\n",
        "\r\n",
        "\r\n",
        "Input: head = [1,1,2]\r\n",
        "Output: [1,2]\r\n",
        "Example 2:\r\n",
        "\r\n",
        "<img alt=\"\" src=\"https://assets.leetcode.com/uploads/2021/01/04/list2.jpg\" style=\"width: 542px; height: 222px;\">\r\n",
        "\r\n",
        "Input: head = [1,1,2,3,3]\r\n",
        "Output: [1,2,3]\r\n",
        " \r\n",
        "\r\n",
        "Constraints:\r\n",
        "\r\n",
        "The number of nodes in the list is in the range [0, 300].\r\n",
        "-100 <= Node.val <= 100\r\n",
        "The list is guaranteed to be sorted in ascending order."
      ]
    },
    {
      "cell_type": "code",
      "metadata": {
        "id": "-ChZAiAE7V-G"
      },
      "source": [
        "# Definition for singly-linked list.\r\n",
        "# class ListNode:\r\n",
        "#     def __init__(self, val=0, next=None):\r\n",
        "#         self.val = val\r\n",
        "#         self.next = next\r\n",
        "class Solution:\r\n",
        "    def deleteDuplicates(self, head: ListNode) -> ListNode:\r\n",
        "        cur = head\r\n",
        "        while cur and cur.next:\r\n",
        "            if cur.next.val == cur.val:\r\n",
        "                cur.next = cur.next.next\r\n",
        "            else:\r\n",
        "                cur = cur.next\r\n",
        "        return head"
      ],
      "execution_count": null,
      "outputs": []
    },
    {
      "cell_type": "markdown",
      "metadata": {
        "id": "uii8fB1oBY-m"
      },
      "source": [
        "# middleNode\r\n",
        "\r\n",
        "Given a non-empty, singly linked list with head node head, return a middle node of linked list.\r\n",
        "\r\n",
        "If there are two middle nodes, return the second middle node.\r\n",
        "\r\n",
        " \r\n",
        "\r\n",
        "Example 1:\r\n",
        "\r\n",
        "Input: [1,2,3,4,5]\r\n",
        "Output: Node 3 from this list (Serialization: [3,4,5])\r\n",
        "The returned node has value 3.  (The judge's serialization of this node is [3,4,5]).\r\n",
        "Note that we returned a ListNode object ans, such that:\r\n",
        "ans.val = 3, ans.next.val = 4, ans.next.next.val = 5, and ans.next.next.next = NULL.\r\n",
        "Example 2:\r\n",
        "\r\n",
        "Input: [1,2,3,4,5,6]\r\n",
        "Output: Node 4 from this list (Serialization: [4,5,6])\r\n",
        "Since the list has two middle nodes with values 3 and 4, we return the second one."
      ]
    },
    {
      "cell_type": "code",
      "metadata": {
        "id": "35Pvra_eBYUC"
      },
      "source": [
        "class Solution:\r\n",
        "    def middleNode(self, head: ListNode) -> ListNode:\r\n",
        "        l = []\r\n",
        "        while head:\r\n",
        "            l.append(head)\r\n",
        "            head = head.next\r\n",
        "        return l[(len(l)//2)]\r\n",
        "            "
      ],
      "execution_count": null,
      "outputs": []
    },
    {
      "cell_type": "markdown",
      "metadata": {
        "id": "eO-tagOJOIK8"
      },
      "source": [
        "## reverseList\r\n",
        "\r\n",
        "Reverse a singly linked list.\r\n",
        "\r\n",
        "Example:\r\n",
        "\r\n",
        "Input: 1->2->3->4->5->NULL\r\n",
        "Output: 5->4->3->2->1->NULL\r\n",
        "\r\n",
        ".\r\n",
        "\r\n",
        "Follow up:\r\n",
        "\r\n",
        "A linked list can be reversed either iteratively or recursively. Could you implement both?"
      ]
    },
    {
      "cell_type": "code",
      "metadata": {
        "id": "XBIbx5q_OAun"
      },
      "source": [
        "class Solution:\r\n",
        "    def reverseList(self, l: ListNode)-> ListNode:\r\n",
        "        if not l: \r\n",
        "            return None\r\n",
        "        if not l.next:\r\n",
        "            return l\r\n",
        "        nxt = l.next\r\n",
        "        prv = None\r\n",
        "        cur = l\r\n",
        "        \r\n",
        "        while(cur is not None):\r\n",
        "            nxt = cur.next #assign (at first) or move the pointer each iteration\r\n",
        "            cur.next = prv #Starts as None since the first will be last. or reverses order. \r\n",
        "            prv = cur #moves pointer for next iteration\r\n",
        "            cur = nxt #moves pointer for next iteration\r\n",
        "        head = prv #assigns a new beginning pointer to return\r\n",
        "        return head"
      ],
      "execution_count": null,
      "outputs": []
    },
    {
      "cell_type": "markdown",
      "metadata": {
        "id": "_ZzCiIvlQ1FI"
      },
      "source": [
        "## isPalindrome\r\n",
        "\r\n",
        "Given a singly linked list, determine if it is a palindrome.\r\n",
        "\r\n",
        "Example 1:\r\n",
        "\r\n",
        "Input: 1->2\r\n",
        "Output: false\r\n",
        "Example 2:\r\n",
        "\r\n",
        "Input: 1->2->2->1\r\n",
        "Output: true\r\n",
        "\r\n",
        ".\r\n",
        "\r\n",
        "\r\n",
        "Follow up:\r\n",
        "\r\n",
        "\r\n",
        "Could you do it in O(n) time and O(1) space?"
      ]
    },
    {
      "cell_type": "code",
      "metadata": {
        "id": "vdPdbPfuQ0BY"
      },
      "source": [
        "class Solution:\r\n",
        "    def isPalindrome(self, head: ListNode) -> bool:\r\n",
        "        cur = head\r\n",
        "        a = []\r\n",
        "        while cur:\r\n",
        "            a.append(cur.val)\r\n",
        "            cur = cur.next\r\n",
        "        return a == a[::-1]"
      ],
      "execution_count": null,
      "outputs": []
    },
    {
      "cell_type": "markdown",
      "metadata": {
        "id": "0BrDL3wmK4JT"
      },
      "source": [
        "## deleteNode\r\n",
        "\r\n",
        "<div class=\"description__24sA\"><div class=\"css-101rr4k\"><div data-cy=\"question-title\" class=\"css-v3d350\">237. Delete Node in a Linked List</div><div class=\"css-10o4wqw\"><div diff=\"easy\" class=\"css-14oi08n\">Easy</div><button class=\"btn__r7r7 css-1rdgofi\"><svg viewBox=\"0 0 24 24\" width=\"1em\" height=\"1em\" class=\"icon__3Su4\"><path fill-rule=\"evenodd\" d=\"M7 19v-8H4v8h3zM7 9c0-.55.22-1.05.58-1.41L14.17 1l1.06 1.05c.27.27.44.65.44 1.06l-.03.32L14.69 8H21c1.1 0 2 .9 2 2v2c0 .26-.05.5-.14.73l-3.02 7.05C19.54 20.5 18.83 21 18 21H4a2 2 0 0 1-2-2v-8a2 2 0 0 1 2-2h3zm2 0v10h9l3-7v-2h-9l1.34-5.34L9 9z\"></path></svg><span>2384</span></button><button class=\"btn__r7r7 css-1rdgofi\"><svg viewBox=\"0 0 24 24\" width=\"1em\" height=\"1em\" class=\"icon__3Su4\"><path fill-rule=\"evenodd\" d=\"M17 3v12c0 .55-.22 1.05-.58 1.41L9.83 23l-1.06-1.05c-.27-.27-.44-.65-.44-1.06l.03-.32.95-4.57H3c-1.1 0-2-.9-2-2v-2c0-.26.05-.5.14-.73l3.02-7.05C4.46 3.5 5.17 3 6 3h11zm-2 12V5H6l-3 7v2h9l-1.34 5.34L15 15zm2-2h3V5h-3V3h3a2 2 0 0 1 2 2v8a2 2 0 0 1-2 2h-3v-2z\"></path></svg><span>8670</span></button><button class=\"btn__r7r7 css-1rdgofi\"><svg viewBox=\"0 0 24 24\" width=\"1em\" height=\"1em\" class=\"icon__3Su4\"><path fill-rule=\"evenodd\" d=\"M16.5 3c-1.74 0-3.41.81-4.5 2.09C10.91 3.81 9.24 3 7.5 3 4.42 3 2 5.42 2 8.5c0 3.78 3.4 6.86 8.55 11.54L12 21.35l1.45-1.32C18.6 15.36 22 12.28 22 8.5 22 5.42 19.58 3 16.5 3zm-4.4 15.55l-.1.1-.1-.1C7.14 14.24 4 11.39 4 8.5 4 6.5 5.5 5 7.5 5c1.54 0 3.04.99 3.57 2.36h1.87C13.46 5.99 14.96 5 16.5 5c2 0 3.5 1.5 3.5 3.5 0 2.89-3.14 5.74-7.9 10.05z\"></path></svg><span>Add to List</span></button><button class=\"btn__r7r7 css-1rdgofi\"><svg viewBox=\"0 0 24 24\" width=\"1em\" height=\"1em\" class=\"icon__3Su4\"><path fill-rule=\"evenodd\" d=\"M17 5V2l5 5h-9a2 2 0 0 0-2 2v8H9V9a4 4 0 0 1 4-4h4zm3 14V9h2v10a2 2 0 0 1-2 2H4a2 2 0 0 1-2-2V5a2 2 0 0 1 2-2h3v2H4v14h16z\"></path></svg><span>Share</span></button></div></div><div class=\"content__u3I1 question-content__JfgR\"><div><p>Write a function to <strong>delete a node</strong> in a singly-linked list. You will <strong>not</strong> be given access to the <code>head</code> of the list, instead you will be given access to <strong>the node to be deleted</strong> directly.</p>\r\n",
        "\r\n",
        "<p>It is <strong>guaranteed</strong> that the node to be deleted is <strong>not a tail node</strong> in the list.</p>\r\n",
        "\r\n",
        "<p>&nbsp;</p>\r\n",
        "<p><strong>Example 1:</strong></p>\r\n",
        "<img alt=\"\" src=\"https://assets.leetcode.com/uploads/2020/09/01/node1.jpg\" style=\"width: 450px; height: 322px;\">\r\n",
        "<pre><strong>Input:</strong> head = [4,5,1,9], node = 5\r\n",
        "<strong>Output:</strong> [4,1,9]\r\n",
        "<strong>Explanation: </strong>You are given the second node with value 5, the linked list should become 4 -&gt; 1 -&gt; 9 after calling your function.\r\n",
        "</pre>\r\n",
        "\r\n",
        "<p><strong>Example 2:</strong></p>\r\n",
        "<img alt=\"\" src=\"https://assets.leetcode.com/uploads/2020/09/01/node2.jpg\" style=\"width: 450px; height: 354px;\">\r\n",
        "<pre><strong>Input:</strong> head = [4,5,1,9], node = 1\r\n",
        "<strong>Output:</strong> [4,5,9]\r\n",
        "<strong>Explanation: </strong>You are given the third node with value 1, the linked list should become 4 -&gt; 5 -&gt; 9 after calling your function.\r\n",
        "</pre>\r\n",
        "\r\n",
        "<p><strong>Example 3:</strong></p>\r\n",
        "\r\n",
        "<pre><strong>Input:</strong> head = [1,2,3,4], node = 3\r\n",
        "<strong>Output:</strong> [1,2,4]\r\n",
        "</pre>\r\n",
        "\r\n",
        "<p><strong>Example 4:</strong></p>\r\n",
        "\r\n",
        "<pre><strong>Input:</strong> head = [0,1], node = 0\r\n",
        "<strong>Output:</strong> [1]\r\n",
        "</pre>\r\n",
        "\r\n",
        "<p><strong>Example 5:</strong></p>\r\n",
        "\r\n",
        "<pre><strong>Input:</strong> head = [-3,5,-99], node = -3\r\n",
        "<strong>Output:</strong> [5,-99]\r\n",
        "</pre>\r\n",
        "\r\n",
        "<p>&nbsp;</p>\r\n",
        "<p><strong>Constraints:</strong></p>\r\n",
        "\r\n",
        "<ul>\r\n",
        "\t<li>The number of the nodes in the given list is in the range <code>[2, 1000]</code>.</li>\r\n",
        "\t<li><code>-1000 &lt;= Node.val &lt;= 1000</code></li>\r\n",
        "\t<li>The value of each node in the list is <strong>unique</strong>.</li>\r\n",
        "\t<li>The <code>node</code> to be deleted is <strong>in the list</strong> and is <strong>not a tail</strong> node</li>\r\n",
        "</ul>\r\n",
        "</div></div><div style=\"position: relative;\"><div class=\"css-q9155n\"><div class=\"css-oqu510\"><div class=\"css-y3si18\">Accepted</div><div class=\"css-jkjiwi\">573,063</div></div><div class=\"css-oqu510\"><div class=\"css-y3si18\">Submissions</div><div class=\"css-jkjiwi\">856,013</div></div></div><div class=\"erd_scroll_detection_container erd_scroll_detection_container_animation_active\" style=\"visibility: hidden; display: inline; width: 0px; height: 0px; z-index: -1; overflow: hidden; margin: 0px; padding: 0px;\"><div dir=\"ltr\" class=\"erd_scroll_detection_container\" style=\"position: absolute; flex: 0 0 auto; overflow: hidden; z-index: -1; visibility: hidden; width: 100%; height: 100%; left: 0px; top: 0px;\"><div class=\"erd_scroll_detection_container\" style=\"position: absolute; flex: 0 0 auto; overflow: hidden; z-index: -1; visibility: hidden; left: -11px; top: -11px; right: -10px; bottom: -10px;\"><div style=\"position: absolute; flex: 0 0 auto; overflow: scroll; z-index: -1; visibility: hidden; width: 100%; height: 100%;\"><div style=\"position: absolute; left: 0px; top: 0px; width: 563px; height: 70px;\"></div></div><div style=\"position: absolute; flex: 0 0 auto; overflow: scroll; z-index: -1; visibility: hidden; width: 100%; height: 100%;\"><div style=\"position: absolute; width: 200%; height: 200%;\"></div></div></div></div></div></div><div class=\"header__28Cb\"><div class=\"title__3BS7\" data-size=\"md\">Seen this question in a real interview before?</div><div class=\"btn-wrapper__19Tg\"><button class=\"btn__2ZIK btn-xs__uzp4 btn-info__16Rs action-btn__DKeo\" data-no-border=\"false\"><div class=\"btn-content-container__177h\"><span class=\"btn-content__10Tj\">Yes</span></div></button></div><div class=\"btn-wrapper__19Tg\"><button class=\"btn__2ZIK btn-xs__uzp4 btn-info__16Rs action-btn__DKeo\" data-no-border=\"false\"><div class=\"btn-content-container__177h\"><span class=\"btn-content__10Tj\">No</span></div></button></div></div><div class=\"css-isal7m\"><div class=\"css-blecvm e5i1odf0\"><div class=\"css-1jqueqk\"><div class=\"header__2X5E\">Companies<svg viewBox=\"0 0 1024 1024\" width=\"1em\" height=\"1em\" class=\"icon__3Su4 lock-icon__1hmE\"><path fill-rule=\"evenodd\" d=\"M512 0a269.474 269.474 0 0 1 269.474 269.474v107.79h53.894a161.684 161.684 0 0 1 161.685 161.683v323.369A161.684 161.684 0 0 1 835.368 1024H188.632A161.684 161.684 0 0 1 26.947 862.316V538.947a161.684 161.684 0 0 1 161.685-161.684h53.894v-107.79A269.474 269.474 0 0 1 512 0zm.647 618.119a80.842 80.842 0 1 0 0 161.684 80.842 80.842 0 0 0 0-161.684zM350.316 377.263h323.368v-107.79a161.684 161.684 0 0 0-323.368 0v107.79z\"></path></svg></div></div><svg viewBox=\"0 0 24 24\" width=\"1em\" height=\"1em\" class=\"icon__3Su4 css-1ehpd12\"><path fill-rule=\"evenodd\" d=\"M16.59 8.59L12 13.17 7.41 8.59 6 10l6 6 6-6z\"></path></svg></div><div class=\"css-1hky5w4\"></div></div><div class=\"css-isal7m\"><div class=\"css-blecvm e5i1odf0\"><div class=\"css-1jqueqk\"><div class=\"header__2RZv\">Related Topics</div></div><svg viewBox=\"0 0 24 24\" width=\"1em\" height=\"1em\" class=\"icon__3Su4 css-1ehpd12\"><path fill-rule=\"evenodd\" d=\"M16.59 8.59L12 13.17 7.41 8.59 6 10l6 6 6-6z\"></path></svg></div><div class=\"css-1hky5w4\"><a class=\"topic-tag__1jni\" href=\"/tag/linked-list/\"><span data-size=\"xs\" class=\"tag__2PqS\">Linked List</span></a></div></div><div class=\"css-isal7m\"><div class=\"css-blecvm e5i1odf0\"><div class=\"css-1jqueqk\"><div class=\"header__qVrK\">Similar Questions</div></div><svg viewBox=\"0 0 24 24\" width=\"1em\" height=\"1em\" class=\"icon__3Su4 css-1ehpd12\"><path fill-rule=\"evenodd\" d=\"M16.59 8.59L12 13.17 7.41 8.59 6 10l6 6 6-6z\"></path></svg></div><div class=\"css-1hky5w4\"><div class=\"question__25Pw\"><a class=\"title__1kvt\" href=\"/problems/remove-linked-list-elements/\">Remove Linked List Elements</a><div class=\"difficulty__ES5S\">Easy</div></div></div></div></div>"
      ]
    },
    {
      "cell_type": "code",
      "metadata": {
        "id": "4GWhG4ROK1sc"
      },
      "source": [
        "class Solution:\r\n",
        "    def deleteNode(self, node):\r\n",
        "        \"\"\"\r\n",
        "        :type node: ListNode\r\n",
        "        :rtype: void Do not return anything, modify node in-place instead.\r\n",
        "        \"\"\"\r\n",
        "        node.val = node.next.val\r\n",
        "        node.next = node.next.next\r\n",
        "# anit-climactic, I know"
      ],
      "execution_count": null,
      "outputs": []
    },
    {
      "cell_type": "markdown",
      "metadata": {
        "id": "igH6HiszRdpJ"
      },
      "source": [
        "## mergeTwoLists\r\n",
        "\r\n",
        "<div class=\"description__24sA\"><div class=\"css-101rr4k\"><div data-cy=\"question-title\" class=\"css-v3d350\">21. Merge Two Sorted Lists</div><div class=\"css-10o4wqw\"><div diff=\"easy\" class=\"css-14oi08n\">Easy</div><button class=\"btn__r7r7 css-1rdgofi\"><svg viewBox=\"0 0 24 24\" width=\"1em\" height=\"1em\" class=\"icon__3Su4\"><path fill-rule=\"evenodd\" d=\"M7 19v-8H4v8h3zM7 9c0-.55.22-1.05.58-1.41L14.17 1l1.06 1.05c.27.27.44.65.44 1.06l-.03.32L14.69 8H21c1.1 0 2 .9 2 2v2c0 .26-.05.5-.14.73l-3.02 7.05C19.54 20.5 18.83 21 18 21H4a2 2 0 0 1-2-2v-8a2 2 0 0 1 2-2h3zm2 0v10h9l3-7v-2h-9l1.34-5.34L9 9z\"></path></svg><span>6204</span></button><button class=\"btn__r7r7 css-1rdgofi\"><svg viewBox=\"0 0 24 24\" width=\"1em\" height=\"1em\" class=\"icon__3Su4\"><path fill-rule=\"evenodd\" d=\"M17 3v12c0 .55-.22 1.05-.58 1.41L9.83 23l-1.06-1.05c-.27-.27-.44-.65-.44-1.06l.03-.32.95-4.57H3c-1.1 0-2-.9-2-2v-2c0-.26.05-.5.14-.73l3.02-7.05C4.46 3.5 5.17 3 6 3h11zm-2 12V5H6l-3 7v2h9l-1.34 5.34L15 15zm2-2h3V5h-3V3h3a2 2 0 0 1 2 2v8a2 2 0 0 1-2 2h-3v-2z\"></path></svg><span>735</span></button><button class=\"btn__r7r7 css-1rdgofi\"><svg viewBox=\"0 0 24 24\" width=\"1em\" height=\"1em\" class=\"icon__3Su4\"><path fill-rule=\"evenodd\" d=\"M16.5 3c-1.74 0-3.41.81-4.5 2.09C10.91 3.81 9.24 3 7.5 3 4.42 3 2 5.42 2 8.5c0 3.78 3.4 6.86 8.55 11.54L12 21.35l1.45-1.32C18.6 15.36 22 12.28 22 8.5 22 5.42 19.58 3 16.5 3zm-4.4 15.55l-.1.1-.1-.1C7.14 14.24 4 11.39 4 8.5 4 6.5 5.5 5 7.5 5c1.54 0 3.04.99 3.57 2.36h1.87C13.46 5.99 14.96 5 16.5 5c2 0 3.5 1.5 3.5 3.5 0 2.89-3.14 5.74-7.9 10.05z\"></path></svg><span>Add to List</span></button><button class=\"btn__r7r7 css-1rdgofi\"><svg viewBox=\"0 0 24 24\" width=\"1em\" height=\"1em\" class=\"icon__3Su4\"><path fill-rule=\"evenodd\" d=\"M17 5V2l5 5h-9a2 2 0 0 0-2 2v8H9V9a4 4 0 0 1 4-4h4zm3 14V9h2v10a2 2 0 0 1-2 2H4a2 2 0 0 1-2-2V5a2 2 0 0 1 2-2h3v2H4v14h16z\"></path></svg><span>Share</span></button></div></div><div class=\"content__u3I1 question-content__JfgR\"><div><p>Merge two sorted linked lists and return it as a <strong>sorted</strong> list. The list should be made by splicing together the nodes of the first two lists.</p>\r\n",
        "\r\n",
        "<p>&nbsp;</p>\r\n",
        "<p><strong>Example 1:</strong></p>\r\n",
        "<img alt=\"\" src=\"https://assets.leetcode.com/uploads/2020/10/03/merge_ex1.jpg\" style=\"width: 662px; height: 302px;\">\r\n",
        "<pre><strong>Input:</strong> l1 = [1,2,4], l2 = [1,3,4]\r\n",
        "<strong>Output:</strong> [1,1,2,3,4,4]\r\n",
        "</pre>\r\n",
        "\r\n",
        "<p><strong>Example 2:</strong></p>\r\n",
        "\r\n",
        "<pre><strong>Input:</strong> l1 = [], l2 = []\r\n",
        "<strong>Output:</strong> []\r\n",
        "</pre>\r\n",
        "\r\n",
        "<p><strong>Example 3:</strong></p>\r\n",
        "\r\n",
        "<pre><strong>Input:</strong> l1 = [], l2 = [0]\r\n",
        "<strong>Output:</strong> [0]\r\n",
        "</pre>\r\n",
        "\r\n",
        "<p>&nbsp;</p>\r\n",
        "<p><strong>Constraints:</strong></p>\r\n",
        "\r\n",
        "<ul>\r\n",
        "\t<li>The number of nodes in both lists is in the range <code>[0, 50]</code>.</li>\r\n",
        "\t<li><code>-100 &lt;= Node.val &lt;= 100</code></li>\r\n",
        "\t<li>Both <code>l1</code> and <code>l2</code> are sorted in <strong>non-decreasing</strong> order.</li>\r\n",
        "</ul>\r\n",
        "</div></div><div style=\"position: relative;\"><div class=\"css-q9155n\"><div class=\"css-oqu510\"><div class=\"css-y3si18\">Accepted</div><div class=\"css-jkjiwi\">1,333,212</div></div><div class=\"css-oqu510\"><div class=\"css-y3si18\">Submissions</div><div class=\"css-jkjiwi\">2,377,363</div></div></div><div class=\"erd_scroll_detection_container erd_scroll_detection_container_animation_active\" style=\"visibility: hidden; display: inline; width: 0px; height: 0px; z-index: -1; overflow: hidden; margin: 0px; padding: 0px;\"><div dir=\"ltr\" class=\"erd_scroll_detection_container\" style=\"position: absolute; flex: 0 0 auto; overflow: hidden; z-index: -1; visibility: hidden; width: 100%; height: 100%; left: 0px; top: 0px;\"><div class=\"erd_scroll_detection_container\" style=\"position: absolute; flex: 0 0 auto; overflow: hidden; z-index: -1; visibility: hidden; left: -11px; top: -11px; right: -10px; bottom: -10px;\"><div style=\"position: absolute; flex: 0 0 auto; overflow: scroll; z-index: -1; visibility: hidden; width: 100%; height: 100%;\"><div style=\"position: absolute; left: 0px; top: 0px; width: 563px; height: 71px;\"></div></div><div style=\"position: absolute; flex: 0 0 auto; overflow: scroll; z-index: -1; visibility: hidden; width: 100%; height: 100%;\"><div style=\"position: absolute; width: 200%; height: 200%;\"></div></div></div></div></div></div><div class=\"header__28Cb\"><div class=\"title__3BS7\" data-size=\"md\">Seen this question in a real interview before?</div><div class=\"btn-wrapper__19Tg\"><button class=\"btn__2ZIK btn-xs__uzp4 btn-info__16Rs action-btn__DKeo\" data-no-border=\"false\"><div class=\"btn-content-container__177h\"><span class=\"btn-content__10Tj\">Yes</span></div></button></div><div class=\"btn-wrapper__19Tg\"><button class=\"btn__2ZIK btn-xs__uzp4 btn-info__16Rs action-btn__DKeo\" data-no-border=\"false\"><div class=\"btn-content-container__177h\"><span class=\"btn-content__10Tj\">No</span></div></button></div></div><div class=\"css-isal7m\"><div class=\"css-blecvm e5i1odf0\"><div class=\"css-1jqueqk\"><div class=\"header__2X5E\">Companies<svg viewBox=\"0 0 1024 1024\" width=\"1em\" height=\"1em\" class=\"icon__3Su4 lock-icon__1hmE\"><path fill-rule=\"evenodd\" d=\"M512 0a269.474 269.474 0 0 1 269.474 269.474v107.79h53.894a161.684 161.684 0 0 1 161.685 161.683v323.369A161.684 161.684 0 0 1 835.368 1024H188.632A161.684 161.684 0 0 1 26.947 862.316V538.947a161.684 161.684 0 0 1 161.685-161.684h53.894v-107.79A269.474 269.474 0 0 1 512 0zm.647 618.119a80.842 80.842 0 1 0 0 161.684 80.842 80.842 0 0 0 0-161.684zM350.316 377.263h323.368v-107.79a161.684 161.684 0 0 0-323.368 0v107.79z\"></path></svg></div></div><svg viewBox=\"0 0 24 24\" width=\"1em\" height=\"1em\" class=\"icon__3Su4 css-1ehpd12\"><path fill-rule=\"evenodd\" d=\"M16.59 8.59L12 13.17 7.41 8.59 6 10l6 6 6-6z\"></path></svg></div><div class=\"css-1hky5w4\"></div></div><div class=\"css-isal7m\"><div class=\"css-blecvm e5i1odf0\"><div class=\"css-1jqueqk\"><div class=\"header__2RZv\">Related Topics</div></div><svg viewBox=\"0 0 24 24\" width=\"1em\" height=\"1em\" class=\"icon__3Su4 css-1ehpd12\"><path fill-rule=\"evenodd\" d=\"M16.59 8.59L12 13.17 7.41 8.59 6 10l6 6 6-6z\"></path></svg></div><div class=\"css-1hky5w4\"><a class=\"topic-tag__1jni\" href=\"/tag/linked-list/\"><span data-size=\"xs\" class=\"tag__2PqS\">Linked List</span></a><a class=\"topic-tag__1jni\" href=\"/tag/recursion/\"><span data-size=\"xs\" class=\"tag__2PqS\">Recursion</span></a></div></div><div class=\"css-isal7m\"><div class=\"css-blecvm e5i1odf0\"><div class=\"css-1jqueqk\"><div class=\"header__qVrK\">Similar Questions</div></div><svg viewBox=\"0 0 24 24\" width=\"1em\" height=\"1em\" class=\"icon__3Su4 css-1ehpd12\"><path fill-rule=\"evenodd\" d=\"M16.59 8.59L12 13.17 7.41 8.59 6 10l6 6 6-6z\"></path></svg></div><div class=\"css-1hky5w4\"><div class=\"question__25Pw\"><a class=\"title__1kvt\" href=\"/problems/merge-k-sorted-lists/\">Merge k Sorted Lists</a><div class=\"difficulty__ES5S\">Hard</div></div><div class=\"question__25Pw\"><a class=\"title__1kvt\" href=\"/problems/merge-sorted-array/\">Merge Sorted Array</a><div class=\"difficulty__ES5S\">Easy</div></div><div class=\"question__25Pw\"><a class=\"title__1kvt\" href=\"/problems/sort-list/\">Sort List</a><div class=\"difficulty__ES5S\">Medium</div></div><div class=\"question__25Pw\"><a class=\"title__1kvt\" href=\"/problems/shortest-word-distance-ii/\">Shortest Word Distance II</a><div class=\"difficulty__ES5S\">Medium</div></div><div class=\"question__25Pw\"><a class=\"title__1kvt\" href=\"/problems/add-two-polynomials-represented-as-linked-lists/\">Add Two Polynomials Represented as Linked Lists</a><div class=\"difficulty__ES5S\">Medium</div></div></div></div></div>"
      ]
    },
    {
      "cell_type": "code",
      "metadata": {
        "id": "-wlo1qXuLT22"
      },
      "source": [
        "# Definition for singly-linked list.\r\n",
        "# class ListNode:\r\n",
        "#     def __init__(self, val=0, next=None):\r\n",
        "#         self.val = val\r\n",
        "#         self.next = next\r\n",
        "class Solution:\r\n",
        "    def mergeTwoLists(self, l1: ListNode, l2: ListNode) -> ListNode:\r\n",
        "            #Special cases\r\n",
        "        if not (l1 or l2) : return None \r\n",
        "        if not l1: return l2\r\n",
        "        if not l2: return l1\r\n",
        "\r\n",
        "        if l1.val <= l2.val:\r\n",
        "            head = l1\r\n",
        "            cur = l1\r\n",
        "            cur1 = l1.next\r\n",
        "            cur2 = l2\r\n",
        "        else:\r\n",
        "            head = l2\r\n",
        "            cur = l2\r\n",
        "            cur1 = l1\r\n",
        "            cur2 = l2.next\r\n",
        "        while cur1 != None and cur2 != None :\r\n",
        "            if cur1.val <= cur2.val:\r\n",
        "                cur.next = cur1\r\n",
        "                cur1 = cur1.next\r\n",
        "                cur = cur.next\r\n",
        "            else:\r\n",
        "                cur.next = cur2\r\n",
        "                cur2 = cur2.next\r\n",
        "                cur = cur.next\r\n",
        "        if cur1:\r\n",
        "            cur.next = cur1\r\n",
        "        elif cur2:\r\n",
        "            cur.next = cur2\r\n",
        "        return head"
      ],
      "execution_count": null,
      "outputs": []
    }
  ]
}