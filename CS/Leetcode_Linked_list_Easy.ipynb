{
  "nbformat": 4,
  "nbformat_minor": 0,
  "metadata": {
    "colab": {
      "name": "Leetcode Linked list Easy.ipynb",
      "provenance": [],
      "collapsed_sections": []
    },
    "kernelspec": {
      "name": "python3",
      "display_name": "Python 3"
    }
  },
  "cells": [
    {
      "cell_type": "markdown",
      "metadata": {
        "id": "3ji6g8nU7Zux"
      },
      "source": [
        "## deleteDuplicates\r\n",
        "\r\n",
        "Given the head of a sorted linked list, delete all duplicates such that each element appears only once. Return the linked list sorted as well.\r\n",
        "\r\n",
        " \r\n",
        "\r\n",
        "Example 1:\r\n",
        "\r\n",
        "<img alt=\"\" src=\"https://assets.leetcode.com/uploads/2021/01/04/list1.jpg\" style=\"width: 302px; height: 242px;\">\r\n",
        "\r\n",
        "\r\n",
        "Input: head = [1,1,2]\r\n",
        "Output: [1,2]\r\n",
        "Example 2:\r\n",
        "\r\n",
        "<img alt=\"\" src=\"https://assets.leetcode.com/uploads/2021/01/04/list2.jpg\" style=\"width: 542px; height: 222px;\">\r\n",
        "\r\n",
        "Input: head = [1,1,2,3,3]\r\n",
        "Output: [1,2,3]\r\n",
        " \r\n",
        "\r\n",
        "Constraints:\r\n",
        "\r\n",
        "The number of nodes in the list is in the range [0, 300].\r\n",
        "-100 <= Node.val <= 100\r\n",
        "The list is guaranteed to be sorted in ascending order."
      ]
    },
    {
      "cell_type": "code",
      "metadata": {
        "id": "-ChZAiAE7V-G"
      },
      "source": [
        "# Definition for singly-linked list.\r\n",
        "# class ListNode:\r\n",
        "#     def __init__(self, val=0, next=None):\r\n",
        "#         self.val = val\r\n",
        "#         self.next = next\r\n",
        "class Solution:\r\n",
        "    def deleteDuplicates(self, head: ListNode) -> ListNode:\r\n",
        "        cur = head\r\n",
        "        while cur and cur.next:\r\n",
        "            if cur.next.val == cur.val:\r\n",
        "                cur.next = cur.next.next\r\n",
        "            else:\r\n",
        "                cur = cur.next\r\n",
        "        return head"
      ],
      "execution_count": null,
      "outputs": []
    },
    {
      "cell_type": "markdown",
      "metadata": {
        "id": "uii8fB1oBY-m"
      },
      "source": [
        "# middleNode\r\n",
        "\r\n",
        "Given a non-empty, singly linked list with head node head, return a middle node of linked list.\r\n",
        "\r\n",
        "If there are two middle nodes, return the second middle node.\r\n",
        "\r\n",
        " \r\n",
        "\r\n",
        "Example 1:\r\n",
        "\r\n",
        "Input: [1,2,3,4,5]\r\n",
        "\r\n",
        "Output: Node 3 from this list (Serialization: [3,4,5])\r\n",
        "\r\n",
        "The returned node has value 3.  (The judge's serialization of this node is [3,4,5]).\r\n",
        "\r\n",
        "Note that we returned a ListNode object ans, such that:\r\n",
        "\r\n",
        "ans.val = 3, ans.next.val = 4, ans.next.next.val = 5, and ans.next.next.next = NULL.\r\n",
        "\r\n",
        "Example 2:\r\n",
        "\r\n",
        "Input: [1,2,3,4,5,6]\r\n",
        "\r\n",
        "Output: Node 4 from this list (Serialization: [4,5,6])\r\n",
        "\r\n",
        "Since the list has two middle nodes with values 3 and 4, we return the second one."
      ]
    },
    {
      "cell_type": "code",
      "metadata": {
        "id": "35Pvra_eBYUC"
      },
      "source": [
        "class Solution:\r\n",
        "    def middleNode(self, head: ListNode) -> ListNode:\r\n",
        "        l = []\r\n",
        "        while head:\r\n",
        "            l.append(head)\r\n",
        "            head = head.next\r\n",
        "        return l[(len(l)//2)]\r\n",
        "            "
      ],
      "execution_count": null,
      "outputs": []
    },
    {
      "cell_type": "markdown",
      "metadata": {
        "id": "eO-tagOJOIK8"
      },
      "source": [
        "## reverseList\r\n",
        "\r\n",
        "Reverse a singly linked list.\r\n",
        "\r\n",
        "Example:\r\n",
        "\r\n",
        "Input: 1->2->3->4->5->NULL\r\n",
        "\r\n",
        "Output: 5->4->3->2->1->NULL\r\n",
        "\r\n",
        "Follow up:\r\n",
        "\r\n",
        "A linked list can be reversed either iteratively or recursively. \r\n",
        "\r\n",
        "Could you implement both?"
      ]
    },
    {
      "cell_type": "code",
      "metadata": {
        "id": "XBIbx5q_OAun"
      },
      "source": [
        "class Solution:\r\n",
        "    def reverseList(self, l: ListNode)-> ListNode:\r\n",
        "        if not l: \r\n",
        "            return None\r\n",
        "        if not l.next:\r\n",
        "            return l\r\n",
        "        nxt = l.next\r\n",
        "        prv = None\r\n",
        "        cur = l\r\n",
        "        \r\n",
        "        while(cur is not None):\r\n",
        "            nxt = cur.next #assign (at first) or move the pointer each iteration\r\n",
        "            cur.next = prv #Starts as None: 1st will be last. or reverses order. \r\n",
        "            prv = cur #moves pointer for next iteration\r\n",
        "            cur = nxt #moves pointer for next iteration\r\n",
        "        head = prv #assigns a new beginning pointer to return\r\n",
        "        return head"
      ],
      "execution_count": null,
      "outputs": []
    },
    {
      "cell_type": "markdown",
      "metadata": {
        "id": "_ZzCiIvlQ1FI"
      },
      "source": [
        "## isPalindrome\r\n",
        "\r\n",
        "Given a singly linked list, determine if it is a palindrome.\r\n",
        "\r\n",
        "Example 1:\r\n",
        "\r\n",
        "Input: 1->2\r\n",
        "Output: false\r\n",
        "Example 2:\r\n",
        "\r\n",
        "Input: 1->2->2->1\r\n",
        "Output: true\r\n",
        "\r\n",
        ".\r\n",
        "\r\n",
        "\r\n",
        "Follow up:\r\n",
        "\r\n",
        "\r\n",
        "Could you do it in O(n) time and O(1) space?"
      ]
    },
    {
      "cell_type": "code",
      "metadata": {
        "id": "vdPdbPfuQ0BY"
      },
      "source": [
        "class Solution:\r\n",
        "    def isPalindrome(self, head: ListNode) -> bool:\r\n",
        "        cur = head\r\n",
        "        a = []\r\n",
        "        while cur:\r\n",
        "            a.append(cur.val)\r\n",
        "            cur = cur.next\r\n",
        "        return a == a[::-1]"
      ],
      "execution_count": null,
      "outputs": []
    },
    {
      "cell_type": "markdown",
      "metadata": {
        "id": "0BrDL3wmK4JT"
      },
      "source": [
        "## deleteNode\r\n",
        "\r\n",
        "<div class=\"description__24sA\"><div class=\"css-101rr4k\"><div data-cy=\"question-title\" class=\"css-v3d350\"><div><p>Write a function to <strong>delete a node</strong> in a singly-linked list. You will <strong>not</strong> be given access to the <code>head</code> of the list, instead you will be given access to <strong>the node to be deleted</strong> directly.</p>\r\n",
        "\r\n",
        "<p>It is <strong>guaranteed</strong> that the node to be deleted is <strong>not a tail node</strong> in the list.</p>\r\n",
        "\r\n",
        "<p>&nbsp;</p>\r\n",
        "<p><strong>Example 1:</strong></p>\r\n",
        "<img alt=\"\" src=\"https://assets.leetcode.com/uploads/2020/09/01/node1.jpg\" style=\"width: 450px; height: 322px;\">\r\n",
        "<pre><strong>Input:</strong> head = [4,5,1,9], node = 5\r\n",
        "<strong>Output:</strong> [4,1,9]\r\n",
        "<strong>Explanation: </strong>You are given the second node with value 5, the linked list should become 4 -&gt; 1 -&gt; 9 after calling your function.\r\n",
        "</pre>\r\n",
        "\r\n",
        "<p><strong>Example 2:</strong></p>\r\n",
        "<img alt=\"\" src=\"https://assets.leetcode.com/uploads/2020/09/01/node2.jpg\" style=\"width: 450px; height: 354px;\">\r\n",
        "<pre><strong>Input:</strong> head = [4,5,1,9], node = 1\r\n",
        "<strong>Output:</strong> [4,5,9]\r\n",
        "<strong>Explanation: </strong>You are given the third node with value 1, the linked list should become 4 -&gt; 5 -&gt; 9 after calling your function.\r\n",
        "</pre>\r\n",
        "\r\n",
        "<p><strong>Example 3:</strong></p>\r\n",
        "\r\n",
        "<pre><strong>Input:</strong> head = [1,2,3,4], node = 3\r\n",
        "<strong>Output:</strong> [1,2,4]\r\n",
        "</pre>\r\n",
        "\r\n",
        "<p><strong>Example 4:</strong></p>\r\n",
        "\r\n",
        "<pre><strong>Input:</strong> head = [0,1], node = 0\r\n",
        "<strong>Output:</strong> [1]\r\n",
        "</pre>\r\n",
        "\r\n",
        "<p><strong>Example 5:</strong></p>\r\n",
        "\r\n",
        "<pre><strong>Input:</strong> head = [-3,5,-99], node = -3\r\n",
        "<strong>Output:</strong> [5,-99]\r\n",
        "</pre>\r\n",
        "\r\n",
        "<p>&nbsp;</p>\r\n",
        "<p><strong>Constraints:</strong></p>\r\n",
        "\r\n",
        "<ul>\r\n",
        "\t<li>The number of the nodes in the given list is in the range <code>[2, 1000]</code>.</li>\r\n",
        "\t<li><code>-1000 &lt;= Node.val &lt;= 1000</code></li>\r\n",
        "\t<li>The value of each node in the list is <strong>unique</strong>.</li>\r\n",
        "\t<li>The <code>node</code> to be deleted is <strong>in the list</strong> and is <strong>not a tail</strong> node</li>\r\n",
        "</ul></div></div></div></div></div>"
      ]
    },
    {
      "cell_type": "code",
      "metadata": {
        "id": "4GWhG4ROK1sc"
      },
      "source": [
        "class Solution:\r\n",
        "    def deleteNode(self, node):\r\n",
        "        \"\"\"\r\n",
        "        :type node: ListNode\r\n",
        "        :rtype: void Do not return anything, modify node in-place instead.\r\n",
        "        \"\"\"\r\n",
        "        node.val = node.next.val\r\n",
        "        node.next = node.next.next\r\n",
        "# anit-climactic, I know"
      ],
      "execution_count": null,
      "outputs": []
    },
    {
      "cell_type": "markdown",
      "metadata": {
        "id": "igH6HiszRdpJ"
      },
      "source": [
        "## mergeTwoLists\r\n",
        "\r\n",
        "<div><p>Merge two sorted linked lists and return it as a <strong>sorted</strong> list. The list should be made by splicing together the nodes of the first two lists.</p>\r\n",
        "\r\n",
        "<p>&nbsp;</p>\r\n",
        "<p><strong>Example 1:</strong></p>\r\n",
        "<img alt=\"\" src=\"https://assets.leetcode.com/uploads/2020/10/03/merge_ex1.jpg\" style=\"width: 662px; height: 302px;\">\r\n",
        "<pre><strong>Input:</strong> l1 = [1,2,4], l2 = [1,3,4]\r\n",
        "<strong>Output:</strong> [1,1,2,3,4,4]\r\n",
        "</pre>\r\n",
        "\r\n",
        "<p><strong>Example 2:</strong></p>\r\n",
        "\r\n",
        "<pre><strong>Input:</strong> l1 = [], l2 = []\r\n",
        "<strong>Output:</strong> []\r\n",
        "</pre>\r\n",
        "\r\n",
        "<p><strong>Example 3:</strong></p>\r\n",
        "\r\n",
        "<pre><strong>Input:</strong> l1 = [], l2 = [0]\r\n",
        "<strong>Output:</strong> [0]\r\n",
        "</pre>\r\n",
        "\r\n",
        "<p>&nbsp;</p>\r\n",
        "<p><strong>Constraints:</strong></p>\r\n",
        "\r\n",
        "<ul>\r\n",
        "\t<li>The number of nodes in both lists is in the range <code>[0, 50]</code>.</li>\r\n",
        "\t<li><code>-100 &lt;= Node.val &lt;= 100</code></li>\r\n",
        "\t<li>Both <code>l1</code> and <code>l2</code> are sorted in <strong>non-decreasing</strong> order.</li>\r\n",
        "</ul></div></div></div></div></div>"
      ]
    },
    {
      "cell_type": "code",
      "metadata": {
        "id": "-wlo1qXuLT22"
      },
      "source": [
        "# Definition for singly-linked list.\r\n",
        "# class ListNode:\r\n",
        "#     def __init__(self, val=0, next=None):\r\n",
        "#         self.val = val\r\n",
        "#         self.next = next\r\n",
        "class Solution:\r\n",
        "    def mergeTwoLists(self, l1: ListNode, l2: ListNode) -> ListNode:\r\n",
        "            #Special cases\r\n",
        "        if not (l1 or l2) : return None \r\n",
        "        if not l1: return l2\r\n",
        "        if not l2: return l1\r\n",
        "\r\n",
        "        if l1.val <= l2.val:\r\n",
        "            head = l1\r\n",
        "            cur = l1\r\n",
        "            cur1 = l1.next\r\n",
        "            cur2 = l2\r\n",
        "        else:\r\n",
        "            head = l2\r\n",
        "            cur = l2\r\n",
        "            cur1 = l1\r\n",
        "            cur2 = l2.next\r\n",
        "        while cur1 != None and cur2 != None :\r\n",
        "            if cur1.val <= cur2.val:\r\n",
        "                cur.next = cur1\r\n",
        "                cur1 = cur1.next\r\n",
        "                cur = cur.next\r\n",
        "            else:\r\n",
        "                cur.next = cur2\r\n",
        "                cur2 = cur2.next\r\n",
        "                cur = cur.next\r\n",
        "        if cur1:\r\n",
        "            cur.next = cur1\r\n",
        "        elif cur2:\r\n",
        "            cur.next = cur2\r\n",
        "        return head"
      ],
      "execution_count": null,
      "outputs": []
    }
  ]
}