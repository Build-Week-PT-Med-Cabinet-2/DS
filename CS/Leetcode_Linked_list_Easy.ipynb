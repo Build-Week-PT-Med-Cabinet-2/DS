{
  "nbformat": 4,
  "nbformat_minor": 0,
  "metadata": {
    "colab": {
      "name": "Leetcode Linked list Easy.ipynb",
      "provenance": [],
      "collapsed_sections": []
    },
    "kernelspec": {
      "name": "python3",
      "display_name": "Python 3"
    }
  },
  "cells": [
    {
      "cell_type": "markdown",
      "metadata": {
        "id": "3ji6g8nU7Zux"
      },
      "source": [
        "## deleteDuplicates\r\n",
        "\r\n",
        "Given the head of a sorted linked list, delete all duplicates such that each element appears only once. Return the linked list sorted as well.\r\n",
        "\r\n",
        " \r\n",
        "\r\n",
        "Example 1:\r\n",
        "\r\n",
        "<img alt=\"\" src=\"https://assets.leetcode.com/uploads/2021/01/04/list1.jpg\" style=\"width: 302px; height: 242px;\">\r\n",
        "\r\n",
        "\r\n",
        "Input: head = [1,1,2]\r\n",
        "Output: [1,2]\r\n",
        "Example 2:\r\n",
        "\r\n",
        "<img alt=\"\" src=\"https://assets.leetcode.com/uploads/2021/01/04/list2.jpg\" style=\"width: 542px; height: 222px;\">\r\n",
        "\r\n",
        "Input: head = [1,1,2,3,3]\r\n",
        "Output: [1,2,3]\r\n",
        " \r\n",
        "\r\n",
        "Constraints:\r\n",
        "\r\n",
        "The number of nodes in the list is in the range [0, 300].\r\n",
        "-100 <= Node.val <= 100\r\n",
        "The list is guaranteed to be sorted in ascending order."
      ]
    },
    {
      "cell_type": "code",
      "metadata": {
        "id": "-ChZAiAE7V-G"
      },
      "source": [
        "# Definition for singly-linked list.\r\n",
        "# class ListNode:\r\n",
        "#     def __init__(self, val=0, next=None):\r\n",
        "#         self.val = val\r\n",
        "#         self.next = next\r\n",
        "class Solution:\r\n",
        "    def deleteDuplicates(self, head: ListNode) -> ListNode:\r\n",
        "        cur = head\r\n",
        "        while cur and cur.next:\r\n",
        "            if cur.next.val == cur.val:\r\n",
        "                cur.next = cur.next.next\r\n",
        "            else:\r\n",
        "                cur = cur.next\r\n",
        "        return head"
      ],
      "execution_count": null,
      "outputs": []
    }
  ]
}