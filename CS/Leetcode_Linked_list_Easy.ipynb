{
  "nbformat": 4,
  "nbformat_minor": 0,
  "metadata": {
    "colab": {
      "name": "Leetcode Linked list Easy.ipynb",
      "provenance": [],
      "collapsed_sections": []
    },
    "kernelspec": {
      "name": "python3",
      "display_name": "Python 3"
    }
  },
  "cells": [
    {
      "cell_type": "markdown",
      "metadata": {
        "id": "3ji6g8nU7Zux"
      },
      "source": [
        "## deleteDuplicates\r\n",
        "\r\n",
        "Given the head of a sorted linked list, delete all duplicates such that each element appears only once. Return the linked list sorted as well.\r\n",
        "\r\n",
        " \r\n",
        "\r\n",
        "Example 1:\r\n",
        "\r\n",
        "<img alt=\"\" src=\"https://assets.leetcode.com/uploads/2021/01/04/list1.jpg\" style=\"width: 302px; height: 242px;\">\r\n",
        "\r\n",
        "\r\n",
        "Input: head = [1,1,2]\r\n",
        "Output: [1,2]\r\n",
        "Example 2:\r\n",
        "\r\n",
        "<img alt=\"\" src=\"https://assets.leetcode.com/uploads/2021/01/04/list2.jpg\" style=\"width: 542px; height: 222px;\">\r\n",
        "\r\n",
        "Input: head = [1,1,2,3,3]\r\n",
        "Output: [1,2,3]\r\n",
        " \r\n",
        "\r\n",
        "Constraints:\r\n",
        "\r\n",
        "The number of nodes in the list is in the range [0, 300].\r\n",
        "-100 <= Node.val <= 100\r\n",
        "The list is guaranteed to be sorted in ascending order."
      ]
    },
    {
      "cell_type": "code",
      "metadata": {
        "id": "-ChZAiAE7V-G"
      },
      "source": [
        "# Definition for singly-linked list.\r\n",
        "# class ListNode:\r\n",
        "#     def __init__(self, val=0, next=None):\r\n",
        "#         self.val = val\r\n",
        "#         self.next = next\r\n",
        "class Solution:\r\n",
        "    def deleteDuplicates(self, head: ListNode) -> ListNode:\r\n",
        "        cur = head\r\n",
        "        while cur and cur.next:\r\n",
        "            if cur.next.val == cur.val:\r\n",
        "                cur.next = cur.next.next\r\n",
        "            else:\r\n",
        "                cur = cur.next\r\n",
        "        return head"
      ],
      "execution_count": null,
      "outputs": []
    },
    {
      "cell_type": "markdown",
      "metadata": {
        "id": "uii8fB1oBY-m"
      },
      "source": [
        "# middleNode\r\n",
        "\r\n",
        "Given a non-empty, singly linked list with head node head, return a middle node of linked list.\r\n",
        "\r\n",
        "If there are two middle nodes, return the second middle node.\r\n",
        "\r\n",
        " \r\n",
        "\r\n",
        "Example 1:\r\n",
        "\r\n",
        "Input: [1,2,3,4,5]\r\n",
        "Output: Node 3 from this list (Serialization: [3,4,5])\r\n",
        "The returned node has value 3.  (The judge's serialization of this node is [3,4,5]).\r\n",
        "Note that we returned a ListNode object ans, such that:\r\n",
        "ans.val = 3, ans.next.val = 4, ans.next.next.val = 5, and ans.next.next.next = NULL.\r\n",
        "Example 2:\r\n",
        "\r\n",
        "Input: [1,2,3,4,5,6]\r\n",
        "Output: Node 4 from this list (Serialization: [4,5,6])\r\n",
        "Since the list has two middle nodes with values 3 and 4, we return the second one."
      ]
    },
    {
      "cell_type": "code",
      "metadata": {
        "id": "35Pvra_eBYUC"
      },
      "source": [
        "class Solution:\r\n",
        "    def middleNode(self, head: ListNode) -> ListNode:\r\n",
        "        l = []\r\n",
        "        while head:\r\n",
        "            l.append(head)\r\n",
        "            head = head.next\r\n",
        "        return l[(len(l)//2)]\r\n",
        "            "
      ],
      "execution_count": null,
      "outputs": []
    }
  ]
}