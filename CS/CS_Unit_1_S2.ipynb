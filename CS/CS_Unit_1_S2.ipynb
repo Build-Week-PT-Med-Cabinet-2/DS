{
  "nbformat": 4,
  "nbformat_minor": 0,
  "metadata": {
    "colab": {
      "name": "CS Unit 1 S2.ipynb",
      "provenance": [],
      "collapsed_sections": []
    },
    "kernelspec": {
      "name": "python3",
      "display_name": "Python 3"
    }
  },
  "cells": [
    {
      "cell_type": "markdown",
      "metadata": {
        "id": "LphRYN9OD7RB"
      },
      "source": [
        "# buyAndSellStock\r\n",
        "\r\n",
        "You are given the prices of a stock, in the form of an array of integers, prices. Let's say that prices[i] is the price of the stock on the ith day (0-based index). Assuming that you are allowed to buy and sell the stock only once, your task is to find the maximum possible profit (the difference between the buy and sell prices).\r\n",
        "\r\n",
        "Note: You can assume there are no fees associated with buying or selling the stock.\r\n",
        "\r\n",
        "Example\r\n",
        "\r\n",
        "For prices = [6, 3, 1, 2, 5, 4], the output should be buyAndSellStock(prices) = 4.\r\n",
        "\r\n",
        "It would be most profitable to buy the stock on day 2 and sell it on day 4. Thus, the maximum profit is prices[4] - prices[2] = 5 - 1 = 4.\r\n",
        "\r\n",
        "For prices = [8, 5, 3, 1], the output should be buyAndSellStock(prices) = 0.\r\n",
        "\r\n",
        "Since the value of the stock drops each day, there's no way to make a profit from selling it. Hence, the maximum profit is 0.\r\n",
        "\r\n",
        "For prices = [3, 100, 1, 97], the output should be buyAndSellStock(prices) = 97.\r\n",
        "\r\n",
        "It would be most profitable to buy the stock on day 0 and sell it on day 1. Thus, the maximum profit is prices[1] - prices[0] = 100 - 3 = 97.\r\n",
        "\r\n",
        "Input/Output\r\n",
        "\r\n",
        "[execution time limit] 4 seconds (py3)\r\n",
        "\r\n",
        "[input] array.integer prices\r\n",
        "\r\n",
        "Guaranteed constraints:\r\n",
        "1 ≤ prices.length ≤ 105,\r\n",
        "1 ≤ prices[i] ≤ 106.\r\n",
        "\r\n",
        "[output] integer\r\n",
        "\r\n",
        "The maximum possible profit."
      ]
    },
    {
      "cell_type": "code",
      "metadata": {
        "id": "xbUev2nDsLGt"
      },
      "source": [
        "def buyAndSellStock(prices):\r\n",
        "    profit = 0\r\n",
        "    for i, v in enumerate(prices):\r\n",
        "        for j in range (i+1,len(prices)):\r\n",
        "            if prices[j] - v > profit:\r\n",
        "                profit = prices[j] - v\r\n",
        "    return profit"
      ],
      "execution_count": null,
      "outputs": []
    },
    {
      "cell_type": "code",
      "metadata": {
        "colab": {
          "base_uri": "https://localhost:8080/"
        },
        "id": "iOkwLSPaH-el",
        "outputId": "64dae885-124f-421c-b842-a96880c68b0b"
      },
      "source": [
        "# SO much more code but linear rather than exponential time complexity\r\n",
        "def buyAndSellStock2(prices): \r\n",
        "    if len(prices) < 2:\r\n",
        "        return 0\r\n",
        "    low, high = prices[0], prices[1]\r\n",
        "    buy = low\r\n",
        "    for price in prices:\r\n",
        "        if price > high:\r\n",
        "            high = price\r\n",
        "        if price < buy:\r\n",
        "            buy = price\r\n",
        "        if price - buy > high - low:\r\n",
        "            low = buy\r\n",
        "            high = price\r\n",
        "    profit = high - low\r\n",
        "    if profit < 0:\r\n",
        "        profit = 0\r\n",
        "    return profit\r\n"
      ],
      "execution_count": null,
      "outputs": [
        {
          "output_type": "execute_result",
          "data": {
            "text/plain": [
              "999999999997"
            ]
          },
          "metadata": {
            "tags": []
          },
          "execution_count": 14
        }
      ]
    },
    {
      "cell_type": "code",
      "metadata": {
        "colab": {
          "base_uri": "https://localhost:8080/"
        },
        "id": "0vFUNR24MFLB",
        "outputId": "8ff4d46c-44aa-4304-d384-49a866209158"
      },
      "source": [
        "from string import ascii_lowercase\r\n",
        "\r\n",
        "abc = ascii_lowercase\r\n",
        "\r\n",
        "abc.index('t')"
      ],
      "execution_count": null,
      "outputs": [
        {
          "output_type": "execute_result",
          "data": {
            "text/plain": [
              "19"
            ]
          },
          "metadata": {
            "tags": []
          },
          "execution_count": 17
        }
      ]
    },
    {
      "cell_type": "markdown",
      "metadata": {
        "id": "hynxq-g8N2n_"
      },
      "source": [
        ""
      ]
    },
    {
      "cell_type": "code",
      "metadata": {
        "id": "FB1XJwU-N3MU"
      },
      "source": [
        "from string import ascii_lowercase\r\n",
        "abc = ascii_lowercase\r\n",
        "def alphabeticShift(inputString):\r\n",
        "    output = \"\"\r\n",
        "    for letter in inputString:\r\n",
        "        if letter == 'z':\r\n",
        "            output += 'a'\r\n",
        "        else:\r\n",
        "            output += abc[abc.index(letter)+1]\r\n",
        "    return output   "
      ],
      "execution_count": null,
      "outputs": []
    },
    {
      "cell_type": "code",
      "metadata": {
        "colab": {
          "base_uri": "https://localhost:8080/",
          "height": 35
        },
        "id": "S9zSsLRmZkvs",
        "outputId": "61345c6d-e607-4eed-db7a-3dece57f01ea"
      },
      "source": [
        "alphabeticShift(\"abcfpccharlie\")"
      ],
      "execution_count": null,
      "outputs": [
        {
          "output_type": "execute_result",
          "data": {
            "application/vnd.google.colaboratory.intrinsic+json": {
              "type": "string"
            },
            "text/plain": [
              "'bcdgqddibsmjf'"
            ]
          },
          "metadata": {
            "tags": []
          },
          "execution_count": 8
        }
      ]
    },
    {
      "cell_type": "markdown",
      "metadata": {
        "id": "F81LYvgOnnV8"
      },
      "source": [
        "# validParenthesesSequence\r\n",
        "\r\n",
        "You are given a parentheses sequence, check if it's regular.\r\n",
        "\r\n",
        "Example\r\n",
        "\r\n",
        "For s = \"()()(())\", the output should be\r\n",
        "validParenthesesSequence(s) = true;\r\n",
        "For s = \"()()())\", the output should be\r\n",
        "validParenthesesSequence(s) = false.\r\n",
        "Input/Output\r\n",
        "\r\n",
        "[execution time limit] 4 seconds (py3)\r\n",
        "\r\n",
        "[input] string s\r\n",
        "\r\n",
        "A string, consisting only of '(' and ')'.\r\n",
        "\r\n",
        "Guaranteed constraints:\r\n",
        "0 ≤ s.length ≤ 105.\r\n",
        "\r\n",
        "[output] boolean\r\n",
        "\r\n",
        "true is the sequence is regular and false otherwise."
      ]
    },
    {
      "cell_type": "code",
      "metadata": {
        "id": "BSO2SfMRnouZ"
      },
      "source": [
        "def validParenthesesSequence(s):\r\n",
        "    if s == \"\":\r\n",
        "        return True\r\n",
        "    count = 0\r\n",
        "    for each in s:\r\n",
        "        if each == '(':\r\n",
        "            count += 1\r\n",
        "        elif each == ')':\r\n",
        "            count -= 1 \r\n",
        "        if count < 0: \r\n",
        "            break   \r\n",
        "    return count == 0"
      ],
      "execution_count": null,
      "outputs": []
    },
    {
      "cell_type": "markdown",
      "metadata": {
        "id": "Phh53m-kiQ-V"
      },
      "source": [
        "# Mod 2 Linked Lists"
      ]
    },
    {
      "cell_type": "markdown",
      "metadata": {
        "id": "llgzCFUhiYCn"
      },
      "source": [
        "## insertValueIntoSortedLinkedList\r\n",
        "\r\n",
        "\r\n",
        "Note: Your solution should have O(n) time complexity, where n is the number of elements in l, since this is what you will be asked to accomplish in an interview.\r\n",
        "\r\n",
        "You have a singly linked list l, which is sorted in strictly increasing order, and an integer value. Add value to the list l, preserving its original sorting.\r\n",
        "\r\n",
        "Note: in examples below and tests preview linked lists are presented as arrays just for simplicity of visualization: in real data you will be given a head node l of the linked list\r\n",
        "\r\n",
        "Example\r\n",
        "\r\n",
        "For l = [1, 3, 4, 6] and value = 5, the output should be\r\n",
        "insertValueIntoSortedLinkedList(l, value) = [1, 3, 4, 5, 6];\r\n",
        "For l = [1, 3, 4, 6] and value = 10, the output should be\r\n",
        "insertValueIntoSortedLinkedList(l, value) = [1, 3, 4, 6, 10];\r\n",
        "For l = [1, 3, 4, 6] and value = 0, the output should be\r\n",
        "insertValueIntoSortedLinkedList(l, value) = [0, 1, 3, 4, 6].\r\n",
        "Input/Output\r\n",
        "\r\n",
        "[execution time limit] 4 seconds (py3)\r\n",
        "\r\n",
        "[input] linkedlist.integer l\r\n",
        "\r\n",
        "A singly linked list of integers sorted in strictly increasing order. Thus, all integers in the list are pairwise distinct.\r\n",
        "\r\n",
        "Guaranteed constraints:\r\n",
        "0 ≤ list size ≤ 104,\r\n",
        "-109 ≤ element value ≤ 109.\r\n",
        "\r\n",
        "[input] integer value\r\n",
        "\r\n",
        "A single integer value to be inserted into l. It is guaranteed that there is not an element equal to value in l before the insertion is performed.\r\n",
        "\r\n",
        "Guaranteed constraints:\r\n",
        "-109 ≤ value ≤ 109.\r\n",
        "\r\n",
        "[output] linkedlist.integer\r\n",
        "\r\n",
        "Return l after inserting value into it, with the original sorting preserved."
      ]
    },
    {
      "cell_type": "code",
      "metadata": {
        "id": "Bf6mWdTtibNs"
      },
      "source": [
        "# Singly-linked lists are already defined with this interface:\r\n",
        "# class ListNode(object):\r\n",
        "#   def __init__(self, x):\r\n",
        "#     self.value = x\r\n",
        "#     self.next = None\r\n",
        "#\r\n",
        "def insertValueIntoSortedLinkedList(l, value):\r\n",
        "    \r\n",
        "    '''\r\n",
        "    Create a new node element to insert\r\n",
        "    '''\r\n",
        "    new_node = ListNode(value)\r\n",
        "    \r\n",
        "    '''\r\n",
        "    Check to see if it should be inserted at the \r\n",
        "    begining of the list\r\n",
        "    '''\r\n",
        "    if l == None or value < l.value:\r\n",
        "        new_node.next = l\r\n",
        "        return new_node\r\n",
        "    \r\n",
        "    ''' \r\n",
        "    if not, set two new variables to itterate over \r\n",
        "    two elements at a time \r\n",
        "    '''    \r\n",
        "    prev = l\r\n",
        "    curr = l.next\r\n",
        "    \r\n",
        "    '''\r\n",
        "    then iterate over the list updating both \r\n",
        "    variables until the value fits between the two nodes \r\n",
        "    held in the variable\r\n",
        "    '''\r\n",
        "    while (curr != None) and (curr.value < value):\r\n",
        "        prev = curr\r\n",
        "        curr = curr.next\r\n",
        "        \r\n",
        "    '''\r\n",
        "    lastly, insert the node and return the head of the list\r\n",
        "    '''    \r\n",
        "    prev.next = new_node\r\n",
        "    new_node.next = curr    \r\n",
        "    \r\n",
        "    return l    "
      ],
      "execution_count": null,
      "outputs": []
    },
    {
      "cell_type": "markdown",
      "metadata": {
        "id": "ompDdjxwlud8"
      },
      "source": [
        "## mergeTwoLinkedLists\r\n",
        "Note: Your solution should have O(l1.length + l2.length) time complexity, since this is what you will be asked to accomplish in an interview.\r\n",
        "\r\n",
        "Given two singly linked lists sorted in non-decreasing order, your task is to merge them. In other words, return a singly linked list, also sorted in non-decreasing order, that contains the elements from both original lists.\r\n",
        "\r\n",
        "Example\r\n",
        "\r\n",
        "For l1 = [1, 2, 3] and l2 = [4, 5, 6], the output should be\r\n",
        "mergeTwoLinkedLists(l1, l2) = [1, 2, 3, 4, 5, 6];\r\n",
        "For l1 = [1, 1, 2, 4] and l2 = [0, 3, 5], the output should be\r\n",
        "mergeTwoLinkedLists(l1, l2) = [0, 1, 1, 2, 3, 4, 5]."
      ]
    },
    {
      "cell_type": "markdown",
      "metadata": {
        "id": "lagDSxGwJMp0"
      },
      "source": [
        "Attepmt #1 (trying to preserve space complexity... non functional)"
      ]
    },
    {
      "cell_type": "code",
      "metadata": {
        "id": "n4siVzu0oJfQ"
      },
      "source": [
        "# Singly-linked lists are already defined with this interface:\r\n",
        "# class ListNode(object):\r\n",
        "#   def __init__(self, x):\r\n",
        "#     self.value = x\r\n",
        "#     self.next = None\r\n",
        "'''\r\n",
        "Understand: \r\n",
        "\r\n",
        "given two singly linked list in ascending order, merge the lists \r\n",
        "into one singly linked list in ascending order. Do this in \r\n",
        "linear time (no nested loops). Return the new list. \r\n",
        "\r\n",
        "Plan:\r\n",
        "\r\n",
        "I will iterate over both lists with variables assigned to two nodes in each \r\n",
        "list. if the if either node's value of the first list fits between the two nodes\r\n",
        "in the second list, I will insert that node by reassigning the pointers\r\n",
        "\r\n",
        "Execute:\r\n",
        "'''\r\n",
        "def mergeTwoLinkedLists(l1, l2):\r\n",
        "    #Special cases\r\n",
        "    if not (l1 or l2) : return None \r\n",
        "    if not l1 : return l2\r\n",
        "    if not l2 : return l1\r\n",
        "    \r\n",
        "    ''' \r\n",
        "    assign a head to return\r\n",
        "    assign 4 more variables for storing nodes and iterating\r\n",
        "    '''\r\n",
        "    if l1.value <= l2.value:\r\n",
        "        head = l1\r\n",
        "        cur1, cur2, nxt1, nxt2 = l1, l2, l1.next, l2.next\r\n",
        "    else:\r\n",
        "        head = l2\r\n",
        "        cur1, cur2, nxt1, nxt2 = l2, l1, l2.next, l1.next\r\n",
        "    \r\n",
        "    while cur1.next and cur2.next:\r\n",
        "        #repeat until one list reaches the end node\r\n",
        "        '''\r\n",
        "        if the value of node 2 is less than node 1, replace that node\r\n",
        "        with node 2. iterate, repeat until all lower values from 2 \r\n",
        "        are in front of list 1\r\n",
        "        '''\r\n",
        "        while cur2.value <= cur1.value:\r\n",
        "            hold = cur1\r\n",
        "            cur1 = cur2\r\n",
        "            cur1.next = hold \r\n",
        "            cur2 = cur2.next   \r\n",
        "            nxt2 = nxt2.next\r\n",
        "        ''' \r\n",
        "        if the current nodes value from list 2 is between \r\n",
        "        the value of the current and next nodes from list 1, \r\n",
        "        insert and iterate the pointers from list 2\r\n",
        "        '''  \r\n",
        "        while (cur1.value <= cur2.value) and (cur2.value <= nxt1.value):\r\n",
        "            cur2.next = cur1.next\r\n",
        "            cur1.next = cur2\r\n",
        "            cur2 = cur2.next\r\n",
        "            if nxt2.next: nxt2 = nxt2.next\r\n",
        "        \r\n",
        "        cur1, nxt1 = cur1.next, nxt1.next\r\n",
        "    '''\r\n",
        "    if list 2 was longer than list 1, add the remaining nodes from list 2 to the\r\n",
        "    end of list 1\r\n",
        "    '''\r\n",
        "    cur1.next = cur2     \r\n",
        "    \r\n",
        "    return head"
      ],
      "execution_count": null,
      "outputs": []
    },
    {
      "cell_type": "markdown",
      "metadata": {
        "id": "lTfpVC6eI1vq"
      },
      "source": [
        "attempt 2 ... correct"
      ]
    },
    {
      "cell_type": "code",
      "metadata": {
        "id": "NbF_Q2UoI2Rc"
      },
      "source": [
        "# Singly-linked lists are already defined with this interface:\r\n",
        "# class ListNode(object):\r\n",
        "#   def __init__(self, x):\r\n",
        "#     self.value = x\r\n",
        "#     self.next = None\r\n",
        "'''\r\n",
        "Understand: \r\n",
        "\r\n",
        "given two singly linked list in ascending order, merge the lists \r\n",
        "into one singly linked list in ascending order. Do this in \r\n",
        "linear time (no nested loops). Return the new list. \r\n",
        "\r\n",
        "Plan:\r\n",
        "\r\n",
        "I will iterate over both lists with pointer variables and add the lesser of two \r\n",
        "values to a new list then return that list.\r\n",
        "\r\n",
        "Execute:\r\n",
        "'''\r\n",
        "def mergeTwoLinkedLists(l1, l2):\r\n",
        "    #Special cases\r\n",
        "    if not (l1 or l2) : return None \r\n",
        "    if not l1: return l2\r\n",
        "    if not l2: return l1\r\n",
        "  \r\n",
        "    if l1.value <= l2.value:\r\n",
        "        head = l1\r\n",
        "        cur = l1\r\n",
        "        cur1 = l1.next\r\n",
        "        cur2 = l2\r\n",
        "    else:\r\n",
        "        head = l2\r\n",
        "        cur = l2\r\n",
        "        cur1 = l1\r\n",
        "        cur2 = l2.next\r\n",
        "    while cur1 != None and cur2 != None :\r\n",
        "        if cur1.value <= cur2.value:\r\n",
        "            cur.next = cur1\r\n",
        "            cur1 = cur1.next\r\n",
        "            cur = cur.next\r\n",
        "        else:\r\n",
        "            cur.next = cur2\r\n",
        "            cur2 = cur2.next\r\n",
        "            cur = cur.next\r\n",
        "    if cur1:\r\n",
        "        cur.next = cur1\r\n",
        "    elif cur2:\r\n",
        "        cur.next = cur2\r\n",
        "    return head"
      ],
      "execution_count": null,
      "outputs": []
    },
    {
      "cell_type": "markdown",
      "metadata": {
        "id": "_dxWIo-5z4gf"
      },
      "source": [
        "#Leetcode Linked list hard problems"
      ]
    },
    {
      "cell_type": "code",
      "metadata": {
        "id": "-vZKlg9ooby0"
      },
      "source": [
        "class ListNode:\r\n",
        "    def __init__(self, val=0, next=None):\r\n",
        "        self.val = val\r\n",
        "        self.next = next"
      ],
      "execution_count": null,
      "outputs": []
    },
    {
      "cell_type": "code",
      "metadata": {
        "colab": {
          "base_uri": "https://localhost:8080/"
        },
        "id": "F6Sn5P1SoeaK",
        "outputId": "1f56c47b-3ca5-432b-e3d2-2f0d08e1433c"
      },
      "source": [
        "a = ListNode(1)\r\n",
        "b = ListNode(4)\r\n",
        "c = ListNode(5)\r\n",
        "d = ListNode(3)\r\n",
        "e = ListNode(2)\r\n",
        "f = ListNode(6)\r\n",
        "g = ListNode(1)\r\n",
        "\r\n",
        "a.next = b        # a\r\n",
        "b.next = c\r\n",
        "\r\n",
        "g.next = d        # g\r\n",
        "d.next = b\r\n",
        "\r\n",
        "e.next = f        # f\r\n",
        "\r\n",
        "x = [a,g,f]\r\n",
        "x\r\n"
      ],
      "execution_count": null,
      "outputs": [
        {
          "output_type": "execute_result",
          "data": {
            "text/plain": [
              "[<__main__.ListNode at 0x7f2068bf7908>,\n",
              " <__main__.ListNode at 0x7f2068bf7ef0>,\n",
              " <__main__.ListNode at 0x7f2068bf7dd8>]"
            ]
          },
          "metadata": {
            "tags": []
          },
          "execution_count": 19
        }
      ]
    },
    {
      "cell_type": "code",
      "metadata": {
        "colab": {
          "base_uri": "https://localhost:8080/"
        },
        "id": "wkm00iu-q1Yn",
        "outputId": "1671abfa-d71e-40be-8902-74a67f65f334"
      },
      "source": [
        "a.next.val"
      ],
      "execution_count": null,
      "outputs": [
        {
          "output_type": "execute_result",
          "data": {
            "text/plain": [
              "4"
            ]
          },
          "metadata": {
            "tags": []
          },
          "execution_count": 20
        }
      ]
    },
    {
      "cell_type": "code",
      "metadata": {
        "id": "UxjjF-cyrQUq"
      },
      "source": [
        "idx = 0"
      ],
      "execution_count": null,
      "outputs": []
    },
    {
      "cell_type": "code",
      "metadata": {
        "colab": {
          "base_uri": "https://localhost:8080/"
        },
        "id": "NYOX560npOix",
        "outputId": "89c170bb-313b-4164-d9fb-0504fdf00dba"
      },
      "source": [
        "x[idx].next.val"
      ],
      "execution_count": null,
      "outputs": [
        {
          "output_type": "execute_result",
          "data": {
            "text/plain": [
              "4"
            ]
          },
          "metadata": {
            "tags": []
          },
          "execution_count": 25
        }
      ]
    },
    {
      "cell_type": "code",
      "metadata": {
        "id": "T8EV_Lfjqdlj"
      },
      "source": [
        "# Definition for singly-linked list.\r\n",
        "# class ListNode:\r\n",
        "#     def __init__(self, val=0, next=None):\r\n",
        "#         self.val = val\r\n",
        "#         self.next = next\r\n",
        "class Solution:\r\n",
        "    def mergeKLists(self, lists: List[ListNode]) -> ListNode:\r\n",
        "        #edge cases\r\n",
        "        if len(lists) == 0 : return None\r\n",
        "        if len(lists) == 1 : return lists[0]\r\n",
        "        head = lists[0]\r\n",
        "        cur = head\r\n",
        "        low_id = 0\r\n",
        "        idx = 0\r\n",
        "        for i in range(len(lists)):\r\n",
        "            if lists[i].val < head.val:\r\n",
        "                head = lists[i]\r\n",
        "                low_id = i\r\n",
        "        lists[low_id] = lists[low_id].next\r\n",
        "        low = lists[low_id].val\r\n",
        "        while len(lists) > 1 :\r\n",
        "            low = lists[low_id].val\r\n",
        "            for i in range(len(lists)):\r\n",
        "                if lists[i].val < low:\r\n",
        "                    low = lists[i].val\r\n",
        "                    idx = i\r\n",
        "                cur.next = lists[idx]\r\n",
        "                if not lists[idx]:\r\n",
        "                    lists.remove(lists[idx])\r\n",
        "                if lists[idx].next:\r\n",
        "                    lists[idx].val,lists[idx].next = lists[idx].next.val, lists[idx].next.next\r\n",
        "                \r\n",
        "        return head "
      ],
      "execution_count": null,
      "outputs": []
    },
    {
      "cell_type": "markdown",
      "metadata": {
        "id": "6qkltv_gtGw9"
      },
      "source": [
        "# Stacks and Queues"
      ]
    },
    {
      "cell_type": "markdown",
      "metadata": {
        "id": "oxbD74nHtOkL"
      },
      "source": [
        "Implement the missing code, denoted by ellipses. You may not modify the pre-existing code.\r\n",
        "Implement a queue using two stacks.\r\n",
        "\r\n",
        "You are given an array of requests, where requests[i] can be \"push <x>\" or \"pop\". Return an array composed of the results of each \"pop\" operation that is performed.\r\n",
        "\r\n",
        "Example\r\n",
        "\r\n",
        "For requests = [\"push 1\", \"push 2\", \"pop\", \"push 3\", \"pop\"], the output should be\r\n",
        "queueOnStacks(requests) = [1, 2].\r\n",
        "\r\n",
        "After the first request, the queue is {1}; after the second it is {1, 2}. Then we do the third request, \"pop\", and add the first element of the queue 1 to the answer array. The queue becomes {2}. After the fourth request, the queue is {2, 3}. Then we perform \"pop\" again and add 2 to the answer array, and the queue becomes {3}."
      ]
    },
    {
      "cell_type": "code",
      "metadata": {
        "id": "Y2c1xbz-tNh9"
      },
      "source": [
        "class Stack:\r\n",
        "    def __init__(self):\r\n",
        "        self.items = []\r\n",
        "\r\n",
        "    def isEmpty(self):\r\n",
        "        return self.items == []\r\n",
        "\r\n",
        "    def push(self, item):\r\n",
        "        self.items.append(item)\r\n",
        "\r\n",
        "    def pop(self):\r\n",
        "        return self.items.pop()\r\n",
        "\r\n",
        "\r\n",
        "def queueOnStacks(requests):\r\n",
        "    left = Stack()\r\n",
        "    right = Stack()\r\n",
        "\r\n",
        "    def insert(x):\r\n",
        "        right.push(x) # ...\r\n",
        "\r\n",
        "    def remove():\r\n",
        "        for each in right.items: # ...\r\n",
        "            left.items.insert(0,each)\r\n",
        "        right.pop()    \r\n",
        "        return left.pop()\r\n",
        "\r\n",
        "    ans = []\r\n",
        "    for request in requests:\r\n",
        "        req = request.split(\" \")\r\n",
        "        if req[0] == 'push':\r\n",
        "            insert(int(req[1]))\r\n",
        "        else:\r\n",
        "            ans.append(remove())\r\n",
        "    return ans\r\n",
        "\r\n",
        "    # Close"
      ],
      "execution_count": null,
      "outputs": []
    },
    {
      "cell_type": "code",
      "metadata": {
        "id": "0E5gCEfeDaQ3"
      },
      "source": [
        "class Stack:\r\n",
        "    def __init__(self):\r\n",
        "        self.items = []\r\n",
        "\r\n",
        "    def isEmpty(self):\r\n",
        "        return self.items == []\r\n",
        "\r\n",
        "    def push(self, item):\r\n",
        "        self.items.append(item)\r\n",
        "\r\n",
        "    def pop(self):\r\n",
        "        return self.items.pop()\r\n",
        "\r\n",
        "\r\n",
        "def queueOnStacks(requests):\r\n",
        "    left = Stack()\r\n",
        "    right = Stack()\r\n",
        "\r\n",
        "    def insert(x):\r\n",
        "        right.push(x)\r\n",
        "\r\n",
        "    def remove():\r\n",
        "        if len(left.items) == 0:\r\n",
        "            while len(right.items) > 1:\r\n",
        "                left.items.append(right.pop())\r\n",
        "            return right.pop()\r\n",
        "        if len(right.items) == 0:\r\n",
        "            while len(right.items) > 1:\r\n",
        "                right.items.append(left.pop())\r\n",
        "            return left.pop()\r\n",
        "\r\n",
        "    ans = []\r\n",
        "    for request in requests:\r\n",
        "        req = request.split(\" \")\r\n",
        "        if req[0] == 'push':\r\n",
        "            insert(int(req[1]))\r\n",
        "        else:\r\n",
        "            ans.append(remove())\r\n",
        "    return ans\r\n",
        "\r\n",
        "    ## also Close"
      ],
      "execution_count": null,
      "outputs": []
    },
    {
      "cell_type": "code",
      "metadata": {
        "id": "ICc5K19XzVxO"
      },
      "source": [
        "class Stack:\r\n",
        "    def __init__(self):\r\n",
        "        self.items = []\r\n",
        "\r\n",
        "    def isEmpty(self):\r\n",
        "        return self.items == []\r\n",
        "\r\n",
        "    def push(self, item):\r\n",
        "        self.items.append(item)\r\n",
        "\r\n",
        "    def pop(self):\r\n",
        "        return self.items.pop()\r\n",
        "\r\n",
        "\r\n",
        "def queueOnStacks(requests):\r\n",
        "    left = Stack()\r\n",
        "    right = Stack()\r\n",
        "\r\n",
        "    def insert(x):\r\n",
        "        right.push(x) # ...\r\n",
        "\r\n",
        "    def remove():\r\n",
        "        x = None\r\n",
        "        while len(right.items) > 0: # ...\r\n",
        "            y = right.pop()\r\n",
        "            left.push(y)\r\n",
        "        if left.items:\r\n",
        "            x = left.pop()\r\n",
        "        while len(left.items) > 0:\r\n",
        "            z = left.pop()\r\n",
        "            right.push(z) \r\n",
        "        return x\r\n",
        "\r\n",
        "    ans = []\r\n",
        "    for request in requests:\r\n",
        "        req = request.split(\" \")\r\n",
        "        if req[0] == 'push':\r\n",
        "            insert(int(req[1]))\r\n",
        "        else:\r\n",
        "            ans.append(remove())\r\n",
        "    return ans\r\n",
        "\r\n",
        "    # Winner!"
      ],
      "execution_count": null,
      "outputs": []
    },
    {
      "cell_type": "markdown",
      "metadata": {
        "id": "AfqSPyO3H-VH"
      },
      "source": [
        "## validBracketSequence\r\n",
        "\r\n",
        "Given a string sequence consisting of the characters '(', ')', '[', ']', '{', and '}'. Your task is to determine whether or not the sequence is a valid bracket sequence.\r\n",
        "\r\n",
        "The Valid bracket sequence is defined in the following way:\r\n",
        "\r\n",
        "An empty bracket sequence is a valid bracket sequence.\r\n",
        "If S is a valid bracket sequence then (S), [S] and {S} are also valid.\r\n",
        "If A and B are valid bracket sequences then AB is also valid.\r\n",
        "Example\r\n",
        "\r\n",
        "For sequence = \"()\", the output should be validBracketSequence(sequence) = true;\r\n",
        "For sequence = \"()[]{}\", the output should be validBracketSequence(sequence) = true;\r\n",
        "For sequence = \"(]\", the output should be validBracketSequence(sequence) = false;\r\n",
        "For sequence = \"([)]\", the output should be validBracketSequence(sequence) = false;\r\n",
        "For sequence = \"{[]}\", the output should be validBracketSequence(sequence) = true.\r\n"
      ]
    },
    {
      "cell_type": "code",
      "metadata": {
        "id": "0PNya2XLQqJE"
      },
      "source": [
        "def validBracketSequence(sequence):\r\n",
        "    if sequence == \"\":\r\n",
        "        return True\r\n",
        "    stack = []\r\n",
        "    opens=('(','[','{')\r\n",
        "    closes=(')',']','}')\r\n",
        "    parens = dict(zip(opens,closes))\r\n",
        "    '''\r\n",
        "    parens = {'(' : ')',\r\n",
        "              '[' : ']',\r\n",
        "              '{' : '}'}\r\n",
        "    \r\n",
        "    Also works, but I like being able to make conditional logic depending on which type of Paren is being evaluated\r\n",
        "    '''\r\n",
        "    for char in sequence:\r\n",
        "        if char in opens:\r\n",
        "            stack.append(char)\r\n",
        "        elif len(stack) == 0 or char != parens[stack.pop()]: \r\n",
        "            #if the close match up to most recent open, remove it, otherwise return False\r\n",
        "                return False\r\n",
        "    return len(stack) == 0 "
      ],
      "execution_count": null,
      "outputs": []
    }
  ]
}