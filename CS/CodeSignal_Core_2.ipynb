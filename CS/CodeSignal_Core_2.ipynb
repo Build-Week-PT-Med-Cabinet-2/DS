{
  "nbformat": 4,
  "nbformat_minor": 0,
  "metadata": {
    "colab": {
      "name": "CodeSignal Core 2.ipynb",
      "provenance": [],
      "collapsed_sections": []
    },
    "kernelspec": {
      "name": "python3",
      "display_name": "Python 3"
    }
  },
  "cells": [
    {
      "cell_type": "markdown",
      "metadata": {
        "id": "1DdvkSRX0gmM"
      },
      "source": [
        "# Lists"
      ]
    },
    {
      "cell_type": "markdown",
      "metadata": {
        "id": "6iCq0Oqr0W-x"
      },
      "source": [
        "## createArray\r\n",
        "\r\n",
        "Given an integer size, return array of length size filled with 1s.\r\n",
        "\r\n",
        "Example\r\n",
        "\r\n",
        "For size = 4, the output should be\r\n",
        "createArray(size) = [1, 1, 1, 1]."
      ]
    },
    {
      "cell_type": "code",
      "metadata": {
        "id": "w8ltuFo30OkU"
      },
      "source": [
        "def createArray(size):\r\n",
        "    result = []\r\n",
        "    for i in range(size):\r\n",
        "        result.append(1)\r\n",
        "    return result"
      ],
      "execution_count": null,
      "outputs": []
    },
    {
      "cell_type": "code",
      "metadata": {
        "id": "b7X9Ky2g0lX9"
      },
      "source": [
        "# with simple maths\r\n",
        "def createArray(size):\r\n",
        "    return [1]*size"
      ],
      "execution_count": null,
      "outputs": []
    },
    {
      "cell_type": "code",
      "metadata": {
        "id": "0iSBso-s0rMT"
      },
      "source": [
        "# with list comprhension\r\n",
        "def createArray(size):\r\n",
        "    return [1 for i in range(size)] "
      ],
      "execution_count": null,
      "outputs": []
    },
    {
      "cell_type": "markdown",
      "metadata": {
        "id": "OyyyxYmD1CT0"
      },
      "source": [
        "## arrayReplace\r\n",
        "\r\n",
        "Given an array of integers, replace all the occurrences of elemToReplace with substitutionElem.\r\n",
        "\r\n",
        "Example\r\n",
        "\r\n",
        "For inputArray = [1, 2, 1], elemToReplace = 1, and substitutionElem = 3, \r\n",
        "\r\n",
        "the output should be\r\n",
        "\r\n",
        "arrayReplace(inputArray, elemToReplace, substitutionElem) = [3, 2, 3]."
      ]
    },
    {
      "cell_type": "code",
      "metadata": {
        "id": "vhZGUkQU2aB6"
      },
      "source": [
        "def arrayReplace(inputArray, elemToReplace, substitutionElem):\r\n",
        "    for i in range(len(inputArray)):\r\n",
        "        if inputArray[i] == elemToReplace:\r\n",
        "            inputArray[i] = substitutionElem\r\n",
        "    return inputArray"
      ],
      "execution_count": null,
      "outputs": []
    },
    {
      "cell_type": "markdown",
      "metadata": {
        "id": "8R9q4NT63zX6"
      },
      "source": [
        "## firstReverseTry\r\n",
        "\r\n",
        "Reversing an array can be a tough task, especially for a novice programmer. Mary just started coding, so she would like to start with something basic at first. Instead of reversing the array entirely, she wants to swap just its first and last elements.\r\n",
        "\r\n",
        "Given an array arr, swap its first and last elements and return the resulting array.\r\n",
        "\r\n",
        "Example\r\n",
        "\r\n",
        "For arr = [1, 2, 3, 4, 5], the output should be\r\n",
        "firstReverseTry(arr) = [5, 2, 3, 4, 1]."
      ]
    },
    {
      "cell_type": "code",
      "metadata": {
        "id": "s4sKbGvj30OC"
      },
      "source": [
        "def firstReverseTry(arr):\r\n",
        "    if arr:\r\n",
        "        arr[0], arr[-1] = arr[-1], arr[0]\r\n",
        "    return arr"
      ],
      "execution_count": null,
      "outputs": []
    },
    {
      "cell_type": "markdown",
      "metadata": {
        "id": "ujwf9tQT6k2o"
      },
      "source": [
        "## removeArrayPart\r\n",
        "\r\n",
        "Remove a part of a given array between given 0-based indexes l and r (inclusive).\r\n",
        "\r\n",
        "Example\r\n",
        "\r\n",
        "For inputArray = [2, 3, 2, 3, 4, 5], l = 2, and r = 4, the output should be\r\n",
        "removeArrayPart(inputArray, l, r) = [2, 3, 5]."
      ]
    },
    {
      "cell_type": "code",
      "metadata": {
        "id": "rtw_99nN4DaG"
      },
      "source": [
        "def removeArrayPart(inputArray, l, r):\r\n",
        "    del inputArray[l:r+1]\r\n",
        "    return inputArray"
      ],
      "execution_count": null,
      "outputs": []
    },
    {
      "cell_type": "markdown",
      "metadata": {
        "id": "1u-Ox6ZR-Tiw"
      },
      "source": [
        "## isSmooth\r\n",
        "\r\n",
        "We define the middle of the array arr as follows:\r\n",
        "\r\n",
        "if arr contains an odd number of elements, its middle is the element whose index number is the same when counting from the beginning of the array and from its end;\r\n",
        "if arr contains an even number of elements, its middle is the sum of the two elements whose index numbers when counting from the beginning and from the end of the array differ by one.\r\n",
        "An array is called smooth if its first and its last elements are equal to one another and to the middle. Given an array arr, determine if it is smooth or not.\r\n",
        "\r\n",
        "Example\r\n",
        "\r\n",
        "For arr = [7, 2, 2, 5, 10, 7], the output should be\r\n",
        "isSmooth(arr) = true.\r\n",
        "\r\n",
        "The first and the last elements of arr are equal to 7, and its middle also equals 2 + 5 = 7. Thus, the array is smooth and the output is true.\r\n",
        "\r\n",
        "For arr = [-5, -5, 10], the output should be\r\n",
        "isSmooth(arr) = false.\r\n",
        "\r\n",
        "The first and middle elements are equal to -5, but the last element equals 10. Thus, arr is not smooth and the output is false."
      ]
    },
    {
      "cell_type": "code",
      "metadata": {
        "id": "ibOtcZhs6sBa"
      },
      "source": [
        "def isSmooth(arr):\r\n",
        "    mi = len(arr)//2\r\n",
        "    if len(arr) % 2 == 0:\r\n",
        "        middle = arr[mi-1] + arr[-mi]\r\n",
        "    else:\r\n",
        "        middle = (arr[mi])\r\n",
        "    return middle == arr[0] == arr[-1]"
      ],
      "execution_count": null,
      "outputs": []
    },
    {
      "cell_type": "markdown",
      "metadata": {
        "id": "6CxabbeBATim"
      },
      "source": [
        "## replaceMiddle\r\n",
        "\r\n",
        "We define the middle of the array arr as follows:\r\n",
        "\r\n",
        "if arr contains an odd number of elements, its middle is the element whose index number is the same when counting from the beginning of the array and from its end;\r\n",
        "if arr contains an even number of elements, its middle is the sum of the two elements whose index numbers when counting from the beginning and from the end of the array differ by one.\r\n",
        "Given array arr, your task is to find its middle, and, if it consists of two elements, replace those elements with the value of middle. Return the resulting array as the answer.\r\n",
        "\r\n",
        "Example\r\n",
        "\r\n",
        "For arr = [7, 2, 2, 5, 10, 7], the output should be\r\n",
        "replaceMiddle(arr) = [7, 2, 7, 10, 7].\r\n",
        "\r\n",
        "The middle consists of two elements, 2 and 5. These two elements should be replaced with their sum, i.e. 7.\r\n",
        "\r\n",
        "For arr = [-5, -5, 10], the output should be\r\n",
        "replaceMiddle(arr) = [-5, -5, 10].\r\n",
        "\r\n",
        "The middle is defined as a single element -5, so the initial array with no changes should be returned."
      ]
    },
    {
      "cell_type": "code",
      "metadata": {
        "id": "Xx8TjKxA-yvL"
      },
      "source": [
        "def replaceMiddle(arr):\r\n",
        "    if not len(arr) % 2:\r\n",
        "        arr[len(arr)//2-1] = arr[len(arr)//2-1] + arr[len(arr)//2]\r\n",
        "        del(arr[len(arr)//2])\r\n",
        "    return arr"
      ],
      "execution_count": null,
      "outputs": []
    },
    {
      "cell_type": "code",
      "metadata": {
        "id": "6QUTI4FsATQN"
      },
      "source": [
        ""
      ],
      "execution_count": null,
      "outputs": []
    }
  ]
}