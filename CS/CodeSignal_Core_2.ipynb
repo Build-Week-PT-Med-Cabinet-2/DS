{
  "nbformat": 4,
  "nbformat_minor": 0,
  "metadata": {
    "colab": {
      "name": "CodeSignal Core 2.ipynb",
      "provenance": [],
      "collapsed_sections": []
    },
    "kernelspec": {
      "name": "python3",
      "display_name": "Python 3"
    }
  },
  "cells": [
    {
      "cell_type": "markdown",
      "metadata": {
        "id": "1DdvkSRX0gmM"
      },
      "source": [
        "# Lists"
      ]
    },
    {
      "cell_type": "markdown",
      "metadata": {
        "id": "6iCq0Oqr0W-x"
      },
      "source": [
        "## createArray\r\n",
        "\r\n",
        "Given an integer size, return array of length size filled with 1s.\r\n",
        "\r\n",
        "Example\r\n",
        "\r\n",
        "For size = 4, the output should be\r\n",
        "createArray(size) = [1, 1, 1, 1]."
      ]
    },
    {
      "cell_type": "code",
      "metadata": {
        "id": "w8ltuFo30OkU"
      },
      "source": [
        "def createArray(size):\r\n",
        "    result = []\r\n",
        "    for i in range(size):\r\n",
        "        result.append(1)\r\n",
        "    return result"
      ],
      "execution_count": null,
      "outputs": []
    },
    {
      "cell_type": "code",
      "metadata": {
        "id": "b7X9Ky2g0lX9"
      },
      "source": [
        "# with simple maths\r\n",
        "def createArray(size):\r\n",
        "    return [1]*size"
      ],
      "execution_count": null,
      "outputs": []
    },
    {
      "cell_type": "code",
      "metadata": {
        "id": "0iSBso-s0rMT"
      },
      "source": [
        "# with list comprhension\r\n",
        "def createArray(size):\r\n",
        "    return [1 for i in range(size)] "
      ],
      "execution_count": null,
      "outputs": []
    },
    {
      "cell_type": "markdown",
      "metadata": {
        "id": "OyyyxYmD1CT0"
      },
      "source": [
        "## arrayReplace\r\n",
        "\r\n",
        "Given an array of integers, replace all the occurrences of elemToReplace with substitutionElem.\r\n",
        "\r\n",
        "Example\r\n",
        "\r\n",
        "For inputArray = [1, 2, 1], elemToReplace = 1, and substitutionElem = 3, \r\n",
        "\r\n",
        "the output should be\r\n",
        "\r\n",
        "arrayReplace(inputArray, elemToReplace, substitutionElem) = [3, 2, 3]."
      ]
    },
    {
      "cell_type": "code",
      "metadata": {
        "id": "vhZGUkQU2aB6"
      },
      "source": [
        "def arrayReplace(inputArray, elemToReplace, substitutionElem):\r\n",
        "    for i in range(len(inputArray)):\r\n",
        "        if inputArray[i] == elemToReplace:\r\n",
        "            inputArray[i] = substitutionElem\r\n",
        "    return inputArray"
      ],
      "execution_count": null,
      "outputs": []
    },
    {
      "cell_type": "markdown",
      "metadata": {
        "id": "8R9q4NT63zX6"
      },
      "source": [
        "## firstReverseTry\r\n",
        "\r\n",
        "Reversing an array can be a tough task, especially for a novice programmer. Mary just started coding, so she would like to start with something basic at first. Instead of reversing the array entirely, she wants to swap just its first and last elements.\r\n",
        "\r\n",
        "Given an array arr, swap its first and last elements and return the resulting array.\r\n",
        "\r\n",
        "Example\r\n",
        "\r\n",
        "For arr = [1, 2, 3, 4, 5], the output should be\r\n",
        "firstReverseTry(arr) = [5, 2, 3, 4, 1]."
      ]
    },
    {
      "cell_type": "code",
      "metadata": {
        "id": "s4sKbGvj30OC"
      },
      "source": [
        "def firstReverseTry(arr):\r\n",
        "    if arr:\r\n",
        "        arr[0], arr[-1] = arr[-1], arr[0]\r\n",
        "    return arr"
      ],
      "execution_count": null,
      "outputs": []
    },
    {
      "cell_type": "markdown",
      "metadata": {
        "id": "ujwf9tQT6k2o"
      },
      "source": [
        "## removeArrayPart\r\n",
        "\r\n",
        "Remove a part of a given array between given 0-based indexes l and r (inclusive).\r\n",
        "\r\n",
        "Example\r\n",
        "\r\n",
        "For inputArray = [2, 3, 2, 3, 4, 5], l = 2, and r = 4, the output should be\r\n",
        "removeArrayPart(inputArray, l, r) = [2, 3, 5]."
      ]
    },
    {
      "cell_type": "code",
      "metadata": {
        "id": "rtw_99nN4DaG"
      },
      "source": [
        "def removeArrayPart(inputArray, l, r):\r\n",
        "    del inputArray[l:r+1]\r\n",
        "    return inputArray"
      ],
      "execution_count": null,
      "outputs": []
    },
    {
      "cell_type": "markdown",
      "metadata": {
        "id": "1u-Ox6ZR-Tiw"
      },
      "source": [
        "## isSmooth\r\n",
        "\r\n",
        "We define the middle of the array arr as follows:\r\n",
        "\r\n",
        "if arr contains an odd number of elements, its middle is the element whose index number is the same when counting from the beginning of the array and from its end;\r\n",
        "if arr contains an even number of elements, its middle is the sum of the two elements whose index numbers when counting from the beginning and from the end of the array differ by one.\r\n",
        "An array is called smooth if its first and its last elements are equal to one another and to the middle. Given an array arr, determine if it is smooth or not.\r\n",
        "\r\n",
        "Example\r\n",
        "\r\n",
        "For arr = [7, 2, 2, 5, 10, 7], the output should be\r\n",
        "isSmooth(arr) = true.\r\n",
        "\r\n",
        "The first and the last elements of arr are equal to 7, and its middle also equals 2 + 5 = 7. Thus, the array is smooth and the output is true.\r\n",
        "\r\n",
        "For arr = [-5, -5, 10], the output should be\r\n",
        "isSmooth(arr) = false.\r\n",
        "\r\n",
        "The first and middle elements are equal to -5, but the last element equals 10. Thus, arr is not smooth and the output is false."
      ]
    },
    {
      "cell_type": "code",
      "metadata": {
        "id": "ibOtcZhs6sBa"
      },
      "source": [
        "def isSmooth(arr):\r\n",
        "    mi = len(arr)//2\r\n",
        "    if len(arr) % 2 == 0:\r\n",
        "        middle = arr[mi-1] + arr[-mi]\r\n",
        "    else:\r\n",
        "        middle = (arr[mi])\r\n",
        "    return middle == arr[0] == arr[-1]"
      ],
      "execution_count": null,
      "outputs": []
    },
    {
      "cell_type": "markdown",
      "metadata": {
        "id": "6CxabbeBATim"
      },
      "source": [
        "## replaceMiddle\r\n",
        "\r\n",
        "We define the middle of the array arr as follows:\r\n",
        "\r\n",
        "if arr contains an odd number of elements, its middle is the element whose index number is the same when counting from the beginning of the array and from its end;\r\n",
        "if arr contains an even number of elements, its middle is the sum of the two elements whose index numbers when counting from the beginning and from the end of the array differ by one.\r\n",
        "Given array arr, your task is to find its middle, and, if it consists of two elements, replace those elements with the value of middle. Return the resulting array as the answer.\r\n",
        "\r\n",
        "Example\r\n",
        "\r\n",
        "For arr = [7, 2, 2, 5, 10, 7], the output should be\r\n",
        "replaceMiddle(arr) = [7, 2, 7, 10, 7].\r\n",
        "\r\n",
        "The middle consists of two elements, 2 and 5. These two elements should be replaced with their sum, i.e. 7.\r\n",
        "\r\n",
        "For arr = [-5, -5, 10], the output should be\r\n",
        "replaceMiddle(arr) = [-5, -5, 10].\r\n",
        "\r\n",
        "The middle is defined as a single element -5, so the initial array with no changes should be returned."
      ]
    },
    {
      "cell_type": "code",
      "metadata": {
        "id": "Xx8TjKxA-yvL"
      },
      "source": [
        "def replaceMiddle(arr):\r\n",
        "    if not len(arr) % 2:\r\n",
        "        arr[len(arr)//2-1] = arr[len(arr)//2-1] + arr[len(arr)//2]\r\n",
        "        del(arr[len(arr)//2])\r\n",
        "    return arr"
      ],
      "execution_count": null,
      "outputs": []
    },
    {
      "cell_type": "code",
      "metadata": {
        "id": "OL50V1-SPvY6"
      },
      "source": [
        "## isPower\r\n",
        "\r\n",
        "Determine if the given number is a power of some non-negative integer.\r\n",
        "\r\n",
        "Example\r\n",
        "\r\n",
        "For n = 125, the output should be\r\n",
        "isPower(n) = true;\r\n",
        "For n = 72, the output should be\r\n",
        "isPower(n) = false."
      ],
      "execution_count": null,
      "outputs": []
    },
    {
      "cell_type": "code",
      "metadata": {
        "id": "6QUTI4FsATQN"
      },
      "source": [
        "def isPower(n):\r\n",
        "    if n == 1:\r\n",
        "        return True\r\n",
        "    a = 2\r\n",
        "    while a < n:\r\n",
        "        b = 2\r\n",
        "        while a**b < n:\r\n",
        "            b += 1\r\n",
        "        if a**b == n:\r\n",
        "            return True\r\n",
        "        else:\r\n",
        "            a += 1\r\n",
        "    return False"
      ],
      "execution_count": null,
      "outputs": []
    },
    {
      "cell_type": "markdown",
      "metadata": {
        "id": "CHMJFqmokhk7"
      },
      "source": [
        "## *isSumOfConsecutive2\r\n",
        "\r\n",
        "Find the number of ways to express n as sum of some (at least two) consecutive positive integers.\r\n",
        "\r\n",
        "Example\r\n",
        "\r\n",
        "For n = 9, the output should be\r\n",
        "isSumOfConsecutive2(n) = 2.\r\n",
        "\r\n",
        "There are two ways to represent n = 9: 2 + 3 + 4 = 9 and 4 + 5 = 9.\r\n",
        "\r\n",
        "For n = 8, the output should be\r\n",
        "isSumOfConsecutive2(n) = 0.\r\n",
        "\r\n",
        "There are no ways to represent n = 8."
      ]
    },
    {
      "cell_type": "code",
      "metadata": {
        "id": "sKsMXTfMe_c_"
      },
      "source": [
        "def isSumOfConsecutive2(n):\r\n",
        "    count = 0\r\n",
        "    summ = 0\r\n",
        "    for i in range(1, n):\r\n",
        "        for j in range(i, n+1):\r\n",
        "            summ += j\r\n",
        "            count += (summ == n)\r\n",
        "        summ = 0\r\n",
        "    return count"
      ],
      "execution_count": null,
      "outputs": []
    },
    {
      "cell_type": "markdown",
      "metadata": {
        "id": "ZcTH5uxOl4yN"
      },
      "source": [
        "^ Passes 13/14 but timed out on 14th test ^"
      ]
    },
    {
      "cell_type": "code",
      "metadata": {
        "id": "2gMFWml7l-_d"
      },
      "source": [
        "def isSumOfConsecutive2(n):\r\n",
        "    count = 0\r\n",
        "    for i in range(1,n):\r\n",
        "        summ = i\r\n",
        "        for j in range(i+1,n):\r\n",
        "            summ += j\r\n",
        "            if summ == n: count += 1\r\n",
        "            elif summ > n: break #early break from loop when summ exceeds num.\r\n",
        "    return count"
      ],
      "execution_count": null,
      "outputs": []
    },
    {
      "cell_type": "markdown",
      "metadata": {
        "id": "0xpTGdJbv2CW"
      },
      "source": [
        "## squareDigitsSequence\r\n",
        "\r\n"
      ]
    },
    {
      "cell_type": "code",
      "metadata": {
        "id": "1L37ado3v1Uo"
      },
      "source": [
        "def squareDigitsSequence(a0):\r\n",
        "    str_num = str(a0)\r\n",
        "    lst = []\r\n",
        "    cnt = 1\r\n",
        "    if a0 == 0: return 1\r\n",
        "    else:\r\n",
        "        while str_num not in lst:\r\n",
        "                summ = 0\r\n",
        "                lst.append(str_num)\r\n",
        "                cnt += 1\r\n",
        "                for i in str_num:\r\n",
        "                    summ += int(i)**2\r\n",
        "                str_num = str(summ)\r\n",
        "    return cnt"
      ],
      "execution_count": null,
      "outputs": []
    },
    {
      "cell_type": "markdown",
      "metadata": {
        "id": "iNBx78Ey01bp"
      },
      "source": [
        "## def pagesNumberingWithInk\r\n",
        "\r\n",
        "You work in a company that prints and publishes books. You are responsible for designing the page numbering mechanism in the printer. You know how many digits a printer can print with the leftover ink. Now you want to write a function to determine what the last page of the book is that you can number given the current page and numberOfDigits left. A page is considered numbered if it has the full number printed on it (e.g. if we are working with page 102 but have ink only for two digits then this page will not be considered numbered).\r\n",
        "\r\n",
        "It's guaranteed that you can number the current page, and that you can't number the last one in the book.\r\n",
        "\r\n",
        "Example\r\n",
        "\r\n",
        "For current = 1 and numberOfDigits = 5, the output should be\r\n",
        "pagesNumberingWithInk(current, numberOfDigits) = 5.\r\n",
        "\r\n",
        "The following numbers will be printed: 1, 2, 3, 4, 5.\r\n",
        "\r\n",
        "For current = 21 and numberOfDigits = 5, the output should be\r\n",
        "pagesNumberingWithInk(current, numberOfDigits) = 22.\r\n",
        "\r\n",
        "The following numbers will be printed: 21, 22.\r\n",
        "\r\n",
        "For current = 8 and numberOfDigits = 4, the output should be\r\n",
        "pagesNumberingWithInk(current, numberOfDigits) = 10.\r\n",
        "\r\n",
        "The following numbers will be printed: 8, 9, 10.\r\n",
        "\r\n",
        "Input/Output\r\n",
        "\r\n",
        "[execution time limit] 4 seconds (py3)\r\n",
        "\r\n",
        "[input] integer current\r\n",
        "\r\n",
        "A positive integer, the number on the current page which is not yet printed.\r\n",
        "\r\n",
        "Guaranteed constraints:\r\n",
        "1 ≤ current ≤ 1000.\r\n",
        "\r\n",
        "[input] integer numberOfDigits\r\n",
        "\r\n",
        "A positive integer, the number of digits which your printer can print.\r\n",
        "\r\n",
        "Guaranteed constraints:\r\n",
        "1 ≤ numberOfDigits ≤ 1000.\r\n",
        "\r\n",
        "[output] integer\r\n",
        "\r\n",
        "The last printed page number.\r\n"
      ]
    },
    {
      "cell_type": "code",
      "metadata": {
        "id": "R4rgiE4-yQlT"
      },
      "source": [
        "def pagesNumberingWithInk(current, numberOfDigits):\r\n",
        "    while len(str(current)) < numberOfDigits:   \r\n",
        "        numberOfDigits -= len(str(current))\r\n",
        "        if len(str(current)) <= numberOfDigits:\r\n",
        "            current += 1\r\n",
        "    return current"
      ],
      "execution_count": null,
      "outputs": []
    },
    {
      "cell_type": "markdown",
      "metadata": {
        "id": "at18nTvKv62c"
      },
      "source": [
        "## *comfortableNumbers\r\n",
        "\r\n",
        "Let's say that number a feels comfortable with number b if a ≠ b and b lies in the segment [a - s(a), a + s(a)], where s(x) is the sum of x's digits.\r\n",
        "\r\n",
        "How many pairs (a, b) are there, such that a < b, both a and b lie on the segment [l, r], and each number feels comfortable with the other (so a feels comfortable with b and b feels comfortable with a)?\r\n",
        "\r\n",
        "Example\r\n",
        "\r\n",
        "For l = 10 and r = 12, the output should be\r\n",
        "comfortableNumbers(l, r) = 2.\r\n",
        "\r\n",
        "Here are all values of s(x) to consider:\r\n",
        "\r\n",
        "s(10) = 1, so 10 is comfortable with 9 and 11;\r\n",
        "s(11) = 2, so 11 is comfortable with 9, 10, 12 and 13;\r\n",
        "s(12) = 3, so 12 is comfortable with 9, 10, 11, 13, 14 and 15.\r\n",
        "Thus, there are 2 pairs of numbers comfortable with each other within the segment [10; 12]: (10, 11) and (11, 12)."
      ]
    },
    {
      "cell_type": "markdown",
      "metadata": {
        "id": "YFhR8kM_wQHw"
      },
      "source": [
        "I had a difficult time understanding the basis of this problem. The wording was extrememly difficult to decipher."
      ]
    },
    {
      "cell_type": "code",
      "metadata": {
        "id": "e_wssW5kv9yg"
      },
      "source": [
        "def comfortableNumbers(l, r):\r\n",
        "    if l==r:\r\n",
        "        return 0\r\n",
        "    res=0\r\n",
        "    def digitsum(x):\r\n",
        "\t    total=0\r\n",
        "\t    for letter in str(x):\r\n",
        "\t\t    total+=int(letter)\r\n",
        "\t    return total\r\n",
        "    def com(x):\r\n",
        "        ans=[]\r\n",
        "        for z in range(x-digitsum(x), x+digitsum(x)+1):\r\n",
        "            if z!=x:\r\n",
        "                ans.append(z)\r\n",
        "        return ans\r\n",
        "    ax=[]\r\n",
        "    for x in range(l, r+1):\r\n",
        "        ax.append(com(x))\r\n",
        "    for x in range(l, r+1):\r\n",
        "        for y in range(max(x, l), r+1):\r\n",
        "            if ax[x-l].count(y)==1:\r\n",
        "                if ax[y-l].count(x)==1:\r\n",
        "                    res+=1\r\n",
        "    return res"
      ],
      "execution_count": null,
      "outputs": []
    },
    {
      "cell_type": "code",
      "metadata": {
        "colab": {
          "base_uri": "https://localhost:8080/"
        },
        "id": "ocMi9KVnOLsf",
        "outputId": "1205825d-ccc6-4c0a-f40a-f6b44776384c"
      },
      "source": [
        "print(float('inf'))"
      ],
      "execution_count": null,
      "outputs": [
        {
          "output_type": "stream",
          "text": [
            "inf\n"
          ],
          "name": "stdout"
        }
      ]
    },
    {
      "cell_type": "markdown",
      "metadata": {
        "id": "6xd6ypE4V-2g"
      },
      "source": [
        "## *weakNumbers\r\n",
        "\r\n",
        "We define the weakness of number x as the number of positive integers smaller than x that have more divisors than x.\r\n",
        "\r\n",
        "It follows that the weaker the number, the greater overall weakness it has. For the given integer n, you need to answer two questions:\r\n",
        "\r\n",
        "what is the weakness of the weakest numbers in the range [1, n]?\r\n",
        "how many numbers in the range [1, n] have this weakness?\r\n",
        "Return the answer as an array of two elements, where the first element is the answer to the first question, and the second element is the answer to the second question.\r\n",
        "\r\n",
        "Example\r\n",
        "\r\n",
        "For n = 9, the output should be\r\n",
        "weakNumbers(n) = [2, 2].\r\n",
        "\r\n",
        "Here are the number of divisors and the specific weakness of each number in range [1, 9]:\r\n",
        "<ul>\r\n",
        "<li><code>1</code>: d(1) = 1, weakness(1) = 0;</li>\r\n",
        "<li><code>2</code>: d(2) = 2, weakness(2) = 0;</li>\r\n",
        "<li><code>3</code>: d(3) = 2, weakness(3) = 0;</li>\r\n",
        "<li><code>4</code>: d(4) = 3, weakness(4) = 0;</li>\r\n",
        "<li><code>5</code>: d(5) = 2, weakness(5) = 1;</li>\r\n",
        "<li><code>6</code>: d(6) = 4, weakness(6) = 0;</li>\r\n",
        "<li><code>7</code>: d(7) = 2, weakness(7) = 2;</li>\r\n",
        "<li><code>8</code>: d(8) = 4, weakness(8) = 0;</li>\r\n",
        "<li><code>9</code>: d(9) = 3, weakness(9) = 2.</li>\r\n",
        "</ul>\r\n",
        "\r\n",
        "As you can see, the maximal weakness is 2, and there are 2 numbers with that weakness level."
      ]
    },
    {
      "cell_type": "code",
      "metadata": {
        "id": "oIkobwJoVsxG"
      },
      "source": [
        "def countDivisors(n) : \r\n",
        "    res = 0\r\n",
        "    for i in range(1, n+1): \r\n",
        "        if (n % i==0): \r\n",
        "            res +=1 \r\n",
        "        i += 1\r\n",
        "    return res\r\n",
        "\r\n",
        "def weakNumbers(n):\r\n",
        "    weakest = 0\r\n",
        "    num_weak = 0\r\n",
        "    \r\n",
        "    for i in range(n):\r\n",
        "        weakness = 0\r\n",
        "        for j in range(i):\r\n",
        "            weakness += countDivisors(j) > countDivisors(i)    \r\n",
        "        if weakness > weakest:\r\n",
        "            weakest = weakness\r\n",
        "            num_weak = 1\r\n",
        "        if weakness == weakest:\r\n",
        "            num_weak += 1    \r\n",
        "    return [weakest, num_weak]\r\n"
      ],
      "execution_count": null,
      "outputs": []
    },
    {
      "cell_type": "code",
      "metadata": {
        "id": "uzXOVLcIVrn_"
      },
      "source": [
        "def devisors(n):\r\n",
        "    nums_divs = dict()\r\n",
        "    for num in range(1, n+1):\r\n",
        "        nums_divs[num] = len([i for i in range(1, num//2 + 1) if num%i == 0])\r\n",
        "    return nums_divs\r\n",
        "\r\n",
        "\r\n",
        "\r\n",
        "def weakness(n):\r\n",
        "    weakness_dict = dict()\r\n",
        "    divs = devisors(n)\r\n",
        "    for num in range(1, n+1):\r\n",
        "        greater = 0\r\n",
        "        for div_index in range(1, num):\r\n",
        "            if divs[div_index] > divs[num]:\r\n",
        "                greater += 1\r\n",
        "        weakness_dict[num] = greater\r\n",
        "\r\n",
        "    return weakness_dict\r\n",
        "\r\n",
        "def weakNumbers(n):\r\n",
        "    wks = weakness(n)\r\n",
        "    weakest = max(wks.values(), default=0)\r\n",
        "    return [weakest, len([i for i in wks.values() if i == weakest])]"
      ],
      "execution_count": null,
      "outputs": []
    }
  ]
}