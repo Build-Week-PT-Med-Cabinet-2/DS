{
  "nbformat": 4,
  "nbformat_minor": 0,
  "metadata": {
    "colab": {
      "name": "CodeSignal Graphs.ipynb",
      "provenance": [],
      "collapsed_sections": []
    },
    "kernelspec": {
      "name": "python3",
      "display_name": "Python 3"
    }
  },
  "cells": [
    {
      "cell_type": "markdown",
      "metadata": {
        "id": "gas25bc2FRA4"
      },
      "source": [
        "## newRoadSystem\r\n",
        "\r\n",
        "\r\n",
        "<div class=\"-flex -scroll -padding-16 -space-v-16\"><div class=\"-layout-h -space-h-16\"><div class=\"-layout-h -space-h-4 -center-center\"><div class=\"icon -size-16 -color-green\"><div class=\"-layout-h -center\"><svg width=\"12\" height=\"14\" viewBox=\"0 0 12 14\"><path d=\"M6 3.643S4.02 6.035 0 8.354V11s4.5-2.875 6.01-4.763C7.56 8.142 12 11 12 11V8.354c-4.02-2.383-6-4.71-6-4.71v-.001z\"></path></svg></div></div><p class=\"-bold -font-size-14 -capitalize\">easy</p></div><div class=\"-layout-h -space-h-4 -center-center\"><div class=\"icon -size-16 -color-green\"><div class=\"-layout-h -center\"><svg width=\"16\" height=\"16\" viewBox=\"0 0 16 16\"><path fill-rule=\"evenodd\" clip-rule=\"evenodd\" d=\"M8 16A8 8 0 1 1 8 0a8 8 0 0 1 0 16zm-1.43-3c-1.642-.344-2.462-1.136-2.462-2.376V9.612c0-.688-.37-1.032-1.108-1.032V7.42c.739 0 1.108-.346 1.108-1.037V5.31c.013-.613.225-1.11.636-1.487.414-.378 1.023-.653 1.825-.823L7 3.9c-.574.163-.873.621-.896 1.374v1.109c0 .763-.421 1.301-1.265 1.615.844.313 1.265.853 1.265 1.62v1.103c.023.753.322 1.211.896 1.374L6.57 13zm2.86 0c1.642-.344 2.462-1.136 2.462-2.376V9.612c0-.688.37-1.032 1.108-1.032V7.42c-.739 0-1.108-.346-1.108-1.037V5.31c-.013-.613-.225-1.11-.636-1.487-.414-.378-1.023-.653-1.825-.823L9 3.9c.574.163.873.621.896 1.374v1.109c0 .763.421 1.301 1.265 1.615-.844.313-1.265.853-1.265 1.62v1.103c-.023.753-.322 1.211-.896 1.374l.43.905z\"></path></svg></div></div><p class=\"-bold -font-size-14 -capitalize\">codewriting</p></div><div class=\"-layout-h -space-h-4 -center-center\"><div class=\"icon -size-16 -color-green\"><div class=\"-layout-h -center\"><svg width=\"16\" height=\"16\" viewBox=\"0 0 16 16\"><path d=\"M13.33 6.1l-2.8.395-.477 1.58 2.004-.22L11.03 9.6l-1.476.13L8 14.876 6.425 9.73 4.948 9.6 3.923 7.854l2.003.22-.454-1.58-2.8-.396-1.318-2.075 5.53 1.01L8 9.548l1.117-4.51 5.53-1.012L13.33 6.1zM0 8c0 4.418 3.582 8 8 8 4.42 0 8-3.582 8-8 0-4.42-3.58-8-8-8-4.418 0-8 3.58-8 8z\" fill-rule=\"evenodd\"></path></svg></div></div><p class=\"-bold -font-size-14 -capitalize\">300</p></div></div><div class=\"markdown -arial\"><p>Once upon a time, in a kingdom far, far away, there lived a King Byteasar I. As a kind and wise ruler, he did everything in his (unlimited) power to make life for his subjects comfortable and pleasant. One cold evening a messenger arrived at the king's castle with the latest news: all kings in the Kingdoms Union had started enforcing traffic laws! In order to not lose his membership in the Union, King Byteasar decided he must do the same within his kingdom. But what would the citizens think of it?</p>\r\n",
        "<p>The king decided to start introducing the changes with something more or less simple: change all the roads in the kingdom from two-directional to one-directional (one-way). He personally prepared the <code>roadRegister</code> of the new roads, and now he needs to make sure that the road system is convenient and there will be no traffic jams, i.e. each city has the same number of incoming and outgoing roads. As the Hand of the King, you're the one who he has decreed must check his calculations.</p>\r\n",
        "<p><span class=\"markdown--header\" style=\"color:#2b3b52;font-size:1.4em\">Example</span></p>\r\n",
        "<ul>\r\n",
        "<li>\r\n",
        "<p>For</p>\r\n",
        "<pre><code>roadRegister = [[false, true,  false, false],\r\n",
        "                [false, false, true,  false],\r\n",
        "                [true,  false, false, true ],\r\n",
        "                [false, false, true,  false]]\r\n",
        "</code></pre>\r\n",
        "<p>the output should be<br>\r\n",
        "<code>newRoadSystem(roadRegister) = true</code>.</p>\r\n",
        "<p>The cities will be connected as follows:<br>\r\n",
        "<img src=\"https://codesignal.s3.amazonaws.com/tasks/newRoadSystem/img/example1.jpg?_tm=1582069596175\" alt=\"\"></p>\r\n",
        "<p>Cities <code>0</code>, <code>1</code> and <code>3</code> (0-based) have one incoming and one outgoing road, and city <code>2</code> has two incoming and two outgoing roads. Thus, the output should be <code>true</code>.</p>\r\n",
        "</li>\r\n",
        "<li>\r\n",
        "<p>For</p>\r\n",
        "<pre><code>roadRegister = [[false, true,  false, false, false, false, false],\r\n",
        "                [true,  false, false, false, false, false, false],\r\n",
        "                [false, false, false, true,  false, false, false],\r\n",
        "                [false, false, true,  false, false, false, false],\r\n",
        "                [false, false, false, false, false, false, true ],\r\n",
        "                [false, false, false, false, true,  false, false],\r\n",
        "                [false, false, false, false, false, true,  false]]\r\n",
        "</code></pre>\r\n",
        "<p>the output should be<br>\r\n",
        "<code>newRoadSystem(roadRegister) = true</code>.</p>\r\n",
        "<p>The cities will be connected as follows:<br>\r\n",
        "<img src=\"https://codesignal.s3.amazonaws.com/tasks/newRoadSystem/img/example2.jpg?_tm=1582069596440\" alt=\"\"></p>\r\n",
        "<p>Each city has one incoming and one outgoing road.</p>\r\n",
        "</li>\r\n",
        "<li>\r\n",
        "<p>For</p>\r\n",
        "<pre><code>roadRegister = [[false, true,  false],\r\n",
        "                [false, false, false],\r\n",
        "                [true,  false, false]]\r\n",
        "</code></pre>\r\n",
        "<p>the output should be<br>\r\n",
        "<code>newRoadSystem(roadRegister) = false</code>.</p>\r\n",
        "<p>The cities will be connected as follows:<br>\r\n",
        "<img src=\"https://codesignal.s3.amazonaws.com/tasks/newRoadSystem/img/example3.jpg?_tm=1582069596704\" alt=\"\"></p>\r\n",
        "<p>City <code>1</code> has one incoming and no outgoing roads, and city <code>2</code> has one outgoing and no incoming roads.</p>\r\n",
        "</li>\r\n",
        "</ul>\r\n",
        "<p><span class=\"markdown--header\" style=\"color:#2b3b52;font-size:1.4em\">Input/Output</span></p>\r\n",
        "<ul>\r\n",
        "<li>\r\n",
        "<p><strong>[execution time limit] 4 seconds (py3)</strong></p>\r\n",
        "</li>\r\n",
        "<li>\r\n",
        "<p><strong>[input] array.array.boolean roadRegister</strong></p>\r\n",
        "<p>Since cartography has not yet been properly developed in the kingdom, the registers are used instead. A register is stored as a square matrix, with its size equal to the number of cities in the kingdom. If <code>roadRegister[i][j] = true</code>, then there is a road from the <code>i<sup>th</sup></code> to the <code>j<sup>th</sup></code> city; the road doesn't exist otherwise.</p>\r\n",
        "<p>It is guaranteed that there are no looping roads, i.e. roads that lead back to the same city it originated from.</p>\r\n",
        "<p><em>Guaranteed constraints:</em><br>\r\n",
        "<code>1 ≤ roadRegister.length ≤ 100</code>,<br>\r\n",
        "<code>roadRegister[0].length = roadRegister.length</code>,<br>\r\n",
        "<code>roadRegister[i][i] = false</code>.</p>\r\n",
        "</li>\r\n",
        "<li>\r\n",
        "<p><strong>[output] boolean</strong></p>\r\n",
        "<p><code>true</code> if the new road system is good enough, <code>false</code> otherwise.</p>\r\n",
        "</li>\r\n",
        "</ul>\r\n",
        "</code></pre>\r\n",
        "</div></div>"
      ]
    },
    {
      "cell_type": "code",
      "metadata": {
        "id": "Zu3tesGQFMjn"
      },
      "source": [
        "def newRoadSystem(roadRegister):\r\n",
        "    for i in range(len(roadRegister)):\r\n",
        "        count = 0\r\n",
        "        for j in range(len(roadRegister)):\r\n",
        "            count += roadRegister[i][j] # 1 if True, 0 if False\r\n",
        "            count -= roadRegister[j][i]\r\n",
        "        if count != 0:\r\n",
        "            return False"
      ],
      "execution_count": null,
      "outputs": []
    },
    {
      "cell_type": "code",
      "metadata": {
        "id": "zqCRrG0uKeEz"
      },
      "source": [
        ""
      ],
      "execution_count": null,
      "outputs": []
    }
  ]
}