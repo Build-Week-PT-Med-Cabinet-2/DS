{
  "nbformat": 4,
  "nbformat_minor": 0,
  "metadata": {
    "colab": {
      "name": "Codesignal practice problems.ipynb",
      "provenance": [],
      "collapsed_sections": []
    },
    "kernelspec": {
      "name": "python3",
      "display_name": "Python 3"
    }
  },
  "cells": [
    {
      "cell_type": "markdown",
      "metadata": {
        "id": "BGjGwPQGgwCe"
      },
      "source": [
        "# Century from Year\r\n",
        "Given a year, return the century it is in. The first century spans from the year 1 up to and including the year 100, the second - from the year 101 up to and including the year 200, etc.\r\n",
        "\r\n",
        "Example\r\n",
        "\r\n",
        "For year = 1905, the output should be\r\n",
        "centuryFromYear(year) = 20;\r\n",
        "For year = 1700, the output should be\r\n",
        "centuryFromYear(year) = 17.\r\n",
        "Input/Output\r\n",
        "\r\n",
        "[execution time limit] 4 seconds (py3)\r\n",
        "\r\n",
        "[input] integer year\r\n",
        "\r\n",
        "A positive integer, designating the year.\r\n",
        "\r\n",
        "Guaranteed constraints:\r\n",
        "1 ≤ year ≤ 2005.\r\n",
        "\r\n",
        "[output] integer\r\n",
        "\r\n",
        "The number of the century the year is in."
      ]
    },
    {
      "cell_type": "code",
      "metadata": {
        "id": "PcbGe_uPgpn_"
      },
      "source": [
        "from math import ceil\r\n",
        "def centuryFromYear(year):\r\n",
        "    return ceil(year / 100)"
      ],
      "execution_count": null,
      "outputs": []
    },
    {
      "cell_type": "markdown",
      "metadata": {
        "id": "56uZc6J5hd1o"
      },
      "source": [
        "# adjacentElementsProduct\r\n",
        "Given an array of integers, find the pair of adjacent elements that has the largest product and return that product.\r\n",
        "\r\n",
        "Example\r\n",
        "\r\n",
        "For inputArray = [3, 6, -2, -5, 7, 3], the output should be\r\n",
        "adjacentElementsProduct(inputArray) = 21.\r\n",
        "\r\n",
        "7 and 3 produce the largest product.\r\n",
        "\r\n",
        "Input/Output\r\n",
        "\r\n",
        "[execution time limit] 4 seconds (py3)\r\n",
        "\r\n",
        "[input] array.integer inputArray\r\n",
        "\r\n",
        "An array of integers containing at least two elements.\r\n",
        "\r\n",
        "Guaranteed constraints:\r\n",
        "2 ≤ inputArray.length ≤ 10,\r\n",
        "-1000 ≤ inputArray[i] ≤ 1000.\r\n",
        "\r\n",
        "[output] integer\r\n",
        "\r\n",
        "The largest product of adjacent elements."
      ]
    },
    {
      "cell_type": "code",
      "metadata": {
        "id": "sVNDGosRweUl"
      },
      "source": [
        "def adjacentElementsProduct(inputArray):\r\n",
        "    result = -1001\r\n",
        "    for i in range(len(inputArray)-1):\r\n",
        "        if (inputArray[i] * inputArray[i+1]) > result:\r\n",
        "            result = inputArray[i] * inputArray[i+1]\r\n",
        "    return result\r\n"
      ],
      "execution_count": null,
      "outputs": []
    },
    {
      "cell_type": "markdown",
      "metadata": {
        "id": "AsB-mBtkz8Dj"
      },
      "source": [
        "# shapeArea\r\n",
        "Below we will define an n-interesting polygon. Your task is to find the area of a polygon for a given n.\r\n",
        "\r\n",
        "A 1-interesting polygon is just a square with a side of length 1. An n-interesting polygon is obtained by taking the n - 1-interesting polygon and appending 1-interesting polygons to its rim, side by side. You can see the 1-, 2-, 3- and 4-interesting polygons in the picture below.\r\n",
        "\r\n",
        "<img src=\"https://codesignal.s3.amazonaws.com/tasks/shapeArea/img/area.png?_tm=1582090003453\" alt=\"\">\r\n",
        "\r\n",
        "Example\r\n",
        "\r\n",
        "For n = 2, the output should be\r\n",
        "shapeArea(n) = 5;\r\n",
        "For n = 3, the output should be\r\n",
        "shapeArea(n) = 13.\r\n",
        "Input/Output\r\n",
        "\r\n",
        "[execution time limit] 4 seconds (py3)\r\n",
        "\r\n",
        "[input] integer n\r\n",
        "\r\n",
        "Guaranteed constraints:\r\n",
        "1 ≤ n < 104.\r\n",
        "\r\n",
        "[output] integer\r\n",
        "\r\n",
        "The area of the n-interesting polygon."
      ]
    },
    {
      "cell_type": "code",
      "metadata": {
        "id": "o6R5yanMz8hm"
      },
      "source": [
        "def shapeArea(n):\r\n",
        "    inc = 0\r\n",
        "    result = 1\r\n",
        "    for i in range(n):\r\n",
        "        result += inc \r\n",
        "        inc += 4\r\n",
        "    return result"
      ],
      "execution_count": null,
      "outputs": []
    },
    {
      "cell_type": "code",
      "metadata": {
        "id": "3WZhQL6Fz8uG"
      },
      "source": [
        "def shapeArea2(n):\r\n",
        "    return n**2 + (n-1)**2"
      ],
      "execution_count": null,
      "outputs": []
    },
    {
      "cell_type": "markdown",
      "metadata": {
        "id": "WZWAy9T33las"
      },
      "source": [
        "# makeArrayConsecutive\r\n",
        "\r\n",
        "Ratiorg got statues of different sizes as a present from CodeMaster for his birthday, each statue having an non-negative integer size. Since he likes to make things perfect, he wants to arrange them from smallest to largest so that each statue will be bigger than the previous one exactly by 1. He may need some additional statues to be able to accomplish that. Help him figure out the minimum number of additional statues needed.\r\n",
        "\r\n",
        "Example\r\n",
        "\r\n",
        "For statues = [6, 2, 3, 8], the output should be\r\n",
        "makeArrayConsecutive2(statues) = 3.\r\n",
        "\r\n",
        "Ratiorg needs statues of sizes 4, 5 and 7.\r\n",
        "\r\n",
        "Input/Output\r\n",
        "\r\n",
        "[execution time limit] 4 seconds (py3)\r\n",
        "\r\n",
        "[input] array.integer statues\r\n",
        "\r\n",
        "An array of distinct non-negative integers.\r\n",
        "\r\n",
        "Guaranteed constraints:\r\n",
        "1 ≤ statues.length ≤ 10,\r\n",
        "0 ≤ statues[i] ≤ 20.\r\n",
        "\r\n",
        "[output] integer\r\n",
        "\r\n",
        "The minimal number of statues that need to be added to existing statues such that it contains every integer size from an interval [L, R] (for some L, R) and no other sizes."
      ]
    },
    {
      "cell_type": "code",
      "metadata": {
        "id": "hqEI706Z3mA9"
      },
      "source": [
        "def makeArrayConsecutive2(statues):\r\n",
        "    result = 0\r\n",
        "    statues = sorted(statues)\r\n",
        "    for i in range(len(statues)-1):\r\n",
        "        result += (statues[i+1]-statues[i]-1)\r\n",
        "    return result"
      ],
      "execution_count": null,
      "outputs": []
    },
    {
      "cell_type": "code",
      "metadata": {
        "id": "0a96gw4I3xnu"
      },
      "source": [
        "#More elegant, but the logic that went into finding this answer is tough to factor in my head:\r\n",
        "''' I see they used the need for there to be an increase by one per element so if you take the \r\n",
        "highest and lowest, the amount of elements in between would be short by the number of statues \r\n",
        "needed to complete the set. the plus one because: 0 indexing of len ''' \r\n",
        "\r\n",
        "def makeArrayConsecutive3(statues):\r\n",
        "    return max(statues) - min(statues) - len(statues) + 1 "
      ],
      "execution_count": null,
      "outputs": []
    },
    {
      "cell_type": "code",
      "metadata": {
        "id": "rdS2b4qQ5zRu"
      },
      "source": [
        "#Also good\r\n",
        "\r\n",
        "def makeArrayConsecutive4(statues):\r\n",
        "    return sum([1 for i in range(min(statues), max(statues)) if i not in statues])\r\n",
        "     # sums a list of 1's that is the length of the number of missing hieghts"
      ],
      "execution_count": null,
      "outputs": []
    },
    {
      "cell_type": "code",
      "metadata": {
        "colab": {
          "base_uri": "https://localhost:8080/"
        },
        "id": "Odq057t2Vfxe",
        "outputId": "c011fb23-b1cb-4a89-cb94-0e0693d108dc"
      },
      "source": [
        "1 % 2 "
      ],
      "execution_count": null,
      "outputs": [
        {
          "output_type": "execute_result",
          "data": {
            "text/plain": [
              "1"
            ]
          },
          "metadata": {
            "tags": []
          },
          "execution_count": 2
        }
      ]
    },
    {
      "cell_type": "code",
      "metadata": {
        "colab": {
          "base_uri": "https://localhost:8080/"
        },
        "id": "Gggkw3lLVl3v",
        "outputId": "e46e007c-3270-4017-8ae8-8467272b0d0c"
      },
      "source": [
        "2 % 2"
      ],
      "execution_count": null,
      "outputs": [
        {
          "output_type": "execute_result",
          "data": {
            "text/plain": [
              "0"
            ]
          },
          "metadata": {
            "tags": []
          },
          "execution_count": 3
        }
      ]
    },
    {
      "cell_type": "markdown",
      "metadata": {
        "id": "ldsW77Nc0pbo"
      },
      "source": [
        "# maxMultiple\r\n",
        "Given a divisor and a bound, find the largest integer N such that:\r\n",
        "\r\n",
        "N is divisible by divisor.\r\n",
        "N is less than or equal to bound.\r\n",
        "N is greater than 0.\r\n",
        "It is guaranteed that such a number exists.\r\n",
        "\r\n",
        "Example\r\n",
        "\r\n",
        "For divisor = 3 and bound = 10, the output should be\r\n",
        "maxMultiple(divisor, bound) = 9.\r\n",
        "\r\n",
        "The largest integer divisible by 3 and not larger than 10 is 9."
      ]
    },
    {
      "cell_type": "code",
      "metadata": {
        "id": "oZZkGHHh0oW6"
      },
      "source": [
        "def maxMultiple(divisor, bound):\r\n",
        "    return bound-bound%divisor"
      ],
      "execution_count": null,
      "outputs": []
    },
    {
      "cell_type": "markdown",
      "metadata": {
        "id": "yFDzPKYm1F9_"
      },
      "source": [
        "# circleOfNumbers\r\n",
        "Consider integer numbers from 0 to n - 1 written down along the circle in such a way that the distance between any two neighboring numbers is equal (note that 0 and n - 1 are neighboring, too).\r\n",
        "\r\n",
        "Given n and firstNumber, find the number which is written in the radially opposite position to firstNumber.\r\n",
        "\r\n",
        "Example\r\n",
        "\r\n",
        "\r\n",
        "<img src=\"https://codesignal.s3.amazonaws.com/tasks/circleOfNumbers/img/example.png?_tm=1582003395936\" alt=\"\">\r\n",
        "\r\n",
        "\r\n",
        "For n = 10 and firstNumber = 2, the output should be\r\n",
        "circleOfNumbers(n, firstNumber) = 7.\r\n",
        "\r\n"
      ]
    }
  ]
}