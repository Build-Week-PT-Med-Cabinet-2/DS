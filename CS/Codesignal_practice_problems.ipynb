{
  "nbformat": 4,
  "nbformat_minor": 0,
  "metadata": {
    "colab": {
      "name": "Codesignal practice problems.ipynb",
      "provenance": [],
      "collapsed_sections": []
    },
    "kernelspec": {
      "name": "python3",
      "display_name": "Python 3"
    }
  },
  "cells": [
    {
      "cell_type": "markdown",
      "metadata": {
        "id": "BGjGwPQGgwCe"
      },
      "source": [
        "# Century from Year\r\n",
        "Given a year, return the century it is in. The first century spans from the year 1 up to and including the year 100, the second - from the year 101 up to and including the year 200, etc.\r\n",
        "\r\n",
        "Example\r\n",
        "\r\n",
        "For year = 1905, the output should be\r\n",
        "centuryFromYear(year) = 20;\r\n",
        "For year = 1700, the output should be\r\n",
        "centuryFromYear(year) = 17.\r\n",
        "Input/Output\r\n",
        "\r\n",
        "[execution time limit] 4 seconds (py3)\r\n",
        "\r\n",
        "[input] integer year\r\n",
        "\r\n",
        "A positive integer, designating the year.\r\n",
        "\r\n",
        "Guaranteed constraints:\r\n",
        "1 ≤ year ≤ 2005.\r\n",
        "\r\n",
        "[output] integer\r\n",
        "\r\n",
        "The number of the century the year is in."
      ]
    },
    {
      "cell_type": "code",
      "metadata": {
        "id": "PcbGe_uPgpn_"
      },
      "source": [
        "from math import ceil\r\n",
        "def centuryFromYear(year):\r\n",
        "    return ceil(year / 100)"
      ],
      "execution_count": null,
      "outputs": []
    },
    {
      "cell_type": "markdown",
      "metadata": {
        "id": "56uZc6J5hd1o"
      },
      "source": [
        "# adjacentElementsProduct\r\n",
        "Given an array of integers, find the pair of adjacent elements that has the largest product and return that product.\r\n",
        "\r\n",
        "Example\r\n",
        "\r\n",
        "For inputArray = [3, 6, -2, -5, 7, 3], the output should be\r\n",
        "adjacentElementsProduct(inputArray) = 21.\r\n",
        "\r\n",
        "7 and 3 produce the largest product.\r\n",
        "\r\n",
        "Input/Output\r\n",
        "\r\n",
        "[execution time limit] 4 seconds (py3)\r\n",
        "\r\n",
        "[input] array.integer inputArray\r\n",
        "\r\n",
        "An array of integers containing at least two elements.\r\n",
        "\r\n",
        "Guaranteed constraints:\r\n",
        "2 ≤ inputArray.length ≤ 10,\r\n",
        "-1000 ≤ inputArray[i] ≤ 1000.\r\n",
        "\r\n",
        "[output] integer\r\n",
        "\r\n",
        "The largest product of adjacent elements."
      ]
    },
    {
      "cell_type": "code",
      "metadata": {
        "id": "sVNDGosRweUl"
      },
      "source": [
        "def adjacentElementsProduct(inputArray):\r\n",
        "    result = -1001\r\n",
        "    for i in range(len(inputArray)-1):\r\n",
        "        if (inputArray[i] * inputArray[i+1]) > result:\r\n",
        "            result = inputArray[i] * inputArray[i+1]\r\n",
        "    return result\r\n"
      ],
      "execution_count": null,
      "outputs": []
    },
    {
      "cell_type": "markdown",
      "metadata": {
        "id": "AsB-mBtkz8Dj"
      },
      "source": [
        "# shapeArea\r\n",
        "Below we will define an n-interesting polygon. Your task is to find the area of a polygon for a given n.\r\n",
        "\r\n",
        "A 1-interesting polygon is just a square with a side of length 1. An n-interesting polygon is obtained by taking the n - 1-interesting polygon and appending 1-interesting polygons to its rim, side by side. You can see the 1-, 2-, 3- and 4-interesting polygons in the picture below.\r\n",
        "\r\n",
        "<img src=\"https://codesignal.s3.amazonaws.com/tasks/shapeArea/img/area.png?_tm=1582090003453\" alt=\"\">\r\n",
        "\r\n",
        "Example\r\n",
        "\r\n",
        "For n = 2, the output should be\r\n",
        "shapeArea(n) = 5;\r\n",
        "For n = 3, the output should be\r\n",
        "shapeArea(n) = 13.\r\n",
        "Input/Output\r\n",
        "\r\n",
        "[execution time limit] 4 seconds (py3)\r\n",
        "\r\n",
        "[input] integer n\r\n",
        "\r\n",
        "Guaranteed constraints:\r\n",
        "1 ≤ n < 104.\r\n",
        "\r\n",
        "[output] integer\r\n",
        "\r\n",
        "The area of the n-interesting polygon."
      ]
    },
    {
      "cell_type": "code",
      "metadata": {
        "id": "o6R5yanMz8hm"
      },
      "source": [
        "def shapeArea(n):\r\n",
        "    inc = 0\r\n",
        "    result = 1\r\n",
        "    for i in range(n):\r\n",
        "        result += inc \r\n",
        "        inc += 4\r\n",
        "    return result"
      ],
      "execution_count": null,
      "outputs": []
    },
    {
      "cell_type": "code",
      "metadata": {
        "id": "3WZhQL6Fz8uG"
      },
      "source": [
        "def shapeArea2(n):\r\n",
        "    return n**2 + (n-1)**2"
      ],
      "execution_count": null,
      "outputs": []
    },
    {
      "cell_type": "markdown",
      "metadata": {
        "id": "WZWAy9T33las"
      },
      "source": [
        "# makeArrayConsecutive\r\n",
        "\r\n",
        "Ratiorg got statues of different sizes as a present from CodeMaster for his birthday, each statue having an non-negative integer size. Since he likes to make things perfect, he wants to arrange them from smallest to largest so that each statue will be bigger than the previous one exactly by 1. He may need some additional statues to be able to accomplish that. Help him figure out the minimum number of additional statues needed.\r\n",
        "\r\n",
        "Example\r\n",
        "\r\n",
        "For statues = [6, 2, 3, 8], the output should be\r\n",
        "makeArrayConsecutive2(statues) = 3.\r\n",
        "\r\n",
        "Ratiorg needs statues of sizes 4, 5 and 7.\r\n",
        "\r\n",
        "Input/Output\r\n",
        "\r\n",
        "[execution time limit] 4 seconds (py3)\r\n",
        "\r\n",
        "[input] array.integer statues\r\n",
        "\r\n",
        "An array of distinct non-negative integers.\r\n",
        "\r\n",
        "Guaranteed constraints:\r\n",
        "1 ≤ statues.length ≤ 10,\r\n",
        "0 ≤ statues[i] ≤ 20.\r\n",
        "\r\n",
        "[output] integer\r\n",
        "\r\n",
        "The minimal number of statues that need to be added to existing statues such that it contains every integer size from an interval [L, R] (for some L, R) and no other sizes."
      ]
    },
    {
      "cell_type": "code",
      "metadata": {
        "id": "hqEI706Z3mA9"
      },
      "source": [
        "def makeArrayConsecutive2(statues):\r\n",
        "    result = 0\r\n",
        "    statues = sorted(statues)\r\n",
        "    for i in range(len(statues)-1):\r\n",
        "        result += (statues[i+1]-statues[i]-1)\r\n",
        "    return result"
      ],
      "execution_count": null,
      "outputs": []
    },
    {
      "cell_type": "code",
      "metadata": {
        "id": "0a96gw4I3xnu"
      },
      "source": [
        "#More elegant, but the logic that went into finding this answer is tough to factor in my head:\r\n",
        "''' I see they used the need for there to be an increase by one per element so if you take the \r\n",
        "highest and lowest, the amount of elements in between would be short by the number of statues \r\n",
        "needed to complete the set. the plus one because: 0 indexing of len ''' \r\n",
        "\r\n",
        "def makeArrayConsecutive3(statues):\r\n",
        "    return max(statues) - min(statues) - len(statues) + 1 "
      ],
      "execution_count": null,
      "outputs": []
    },
    {
      "cell_type": "code",
      "metadata": {
        "id": "rdS2b4qQ5zRu"
      },
      "source": [
        "#Also good\r\n",
        "\r\n",
        "def makeArrayConsecutive4(statues):\r\n",
        "    return sum([1 for i in range(min(statues), max(statues)) if i not in statues])\r\n",
        "     # sums a list of 1's that is the length of the number of missing hieghts"
      ],
      "execution_count": null,
      "outputs": []
    },
    {
      "cell_type": "code",
      "metadata": {
        "colab": {
          "base_uri": "https://localhost:8080/"
        },
        "id": "Odq057t2Vfxe",
        "outputId": "c011fb23-b1cb-4a89-cb94-0e0693d108dc"
      },
      "source": [
        "1 % 2 "
      ],
      "execution_count": null,
      "outputs": [
        {
          "output_type": "execute_result",
          "data": {
            "text/plain": [
              "1"
            ]
          },
          "metadata": {
            "tags": []
          },
          "execution_count": 2
        }
      ]
    },
    {
      "cell_type": "code",
      "metadata": {
        "colab": {
          "base_uri": "https://localhost:8080/"
        },
        "id": "Gggkw3lLVl3v",
        "outputId": "e46e007c-3270-4017-8ae8-8467272b0d0c"
      },
      "source": [
        "2 % 2"
      ],
      "execution_count": null,
      "outputs": [
        {
          "output_type": "execute_result",
          "data": {
            "text/plain": [
              "0"
            ]
          },
          "metadata": {
            "tags": []
          },
          "execution_count": 3
        }
      ]
    },
    {
      "cell_type": "markdown",
      "metadata": {
        "id": "ldsW77Nc0pbo"
      },
      "source": [
        "# maxMultiple\r\n",
        "Given a divisor and a bound, find the largest integer N such that:\r\n",
        "\r\n",
        "N is divisible by divisor.\r\n",
        "N is less than or equal to bound.\r\n",
        "N is greater than 0.\r\n",
        "It is guaranteed that such a number exists.\r\n",
        "\r\n",
        "Example\r\n",
        "\r\n",
        "For divisor = 3 and bound = 10, the output should be\r\n",
        "maxMultiple(divisor, bound) = 9.\r\n",
        "\r\n",
        "The largest integer divisible by 3 and not larger than 10 is 9."
      ]
    },
    {
      "cell_type": "code",
      "metadata": {
        "id": "oZZkGHHh0oW6"
      },
      "source": [
        "def maxMultiple(divisor, bound):\r\n",
        "    return bound-bound%divisor"
      ],
      "execution_count": null,
      "outputs": []
    },
    {
      "cell_type": "markdown",
      "metadata": {
        "id": "yFDzPKYm1F9_"
      },
      "source": [
        "# circleOfNumbers\r\n",
        "Consider integer numbers from 0 to n - 1 written down along the circle in such a way that the distance between any two neighboring numbers is equal (note that 0 and n - 1 are neighboring, too).\r\n",
        "\r\n",
        "Given n and firstNumber, find the number which is written in the radially opposite position to firstNumber.\r\n",
        "\r\n",
        "Example\r\n",
        "\r\n",
        "\r\n",
        "<img src=\"https://codesignal.s3.amazonaws.com/tasks/circleOfNumbers/img/example.png?_tm=1582003395936\" alt=\"\">\r\n",
        "\r\n",
        "\r\n",
        "For n = 10 and firstNumber = 2, the output should be\r\n",
        "circleOfNumbers(n, firstNumber) = 7.\r\n",
        "\r\n"
      ]
    },
    {
      "cell_type": "code",
      "metadata": {
        "colab": {
          "base_uri": "https://localhost:8080/"
        },
        "id": "Rt48UpBwOpfh",
        "outputId": "96811f13-601d-4191-a7af-d07e92e4f41f"
      },
      "source": [
        "a = [1, 3, 8]\r\n",
        "b = a\r\n",
        "b[0] = 5\r\n",
        "print(a)"
      ],
      "execution_count": 2,
      "outputs": [
        {
          "output_type": "stream",
          "text": [
            "[5, 3, 8]\n"
          ],
          "name": "stdout"
        }
      ]
    },
    {
      "cell_type": "markdown",
      "metadata": {
        "id": "7nR32BdAeAO0"
      },
      "source": [
        "# lateRide\r\n",
        "\r\n",
        "One night you go for a ride on your motorcycle. At 00:00 you start your engine, and the built-in timer automatically begins counting the length of your ride, in minutes. Off you go to explore the neighborhood.\r\n",
        "\r\n",
        "When you finally decide to head back, you realize there's a chance the bridges on your route home are up, leaving you stranded! Unfortunately, you don't have your watch on you and don't know what time it is. All you know thanks to the bike's timer is that n minutes have passed since 00:00.\r\n",
        "\r\n",
        "Using the bike's timer, calculate the current time. Return an answer as the sum of digits that the digital timer in the format hh:mm would show.\r\n",
        "\r\n",
        "Example\r\n",
        "\r\n",
        "For n = 240, the output should be\r\n",
        "lateRide(n) = 4.\r\n",
        "\r\n",
        "Since 240 minutes have passed, the current time is 04:00. The digits sum up to 0 + 4 + 0 + 0 = 4, which is the answer.\r\n",
        "\r\n",
        "For n = 808, the output should be\r\n",
        "lateRide(n) = 14.\r\n",
        "\r\n",
        "808 minutes mean that it's 13:28 now, so the answer should be 1 + 3 + 2 + 8 = 14.\r\n",
        "\r\n",
        "Input/Output\r\n",
        "\r\n",
        "[execution time limit] 4 seconds (py3)\r\n",
        "\r\n",
        "[input] integer n\r\n",
        "\r\n",
        "The duration of your ride, in minutes. It is guaranteed that you've been riding for less than a day (24 hours).\r\n",
        "\r\n",
        "Guaranteed constraints:\r\n",
        "0 ≤ n < 60 · 24.\r\n",
        "\r\n",
        "[output] integer\r\n",
        "\r\n",
        "The sum of the digits the digital timer would show."
      ]
    },
    {
      "cell_type": "code",
      "metadata": {
        "id": "Kb8rlloHd_Sr"
      },
      "source": [
        "def lateRide(minutes):\r\n",
        "    hours = (minutes // 60)\r\n",
        "    minutes %= 60 \r\n",
        "    clock = hours*100 + minutes\r\n",
        "    result = 0\r\n",
        "    while clock:\r\n",
        "        result += clock % 10\r\n",
        "        clock //= 10\r\n",
        "    return result"
      ],
      "execution_count": null,
      "outputs": []
    },
    {
      "cell_type": "code",
      "metadata": {
        "id": "Mtd8qXJXenDN"
      },
      "source": [
        "# best answer on CodeSignal\r\n",
        "def lateRide(n):\r\n",
        "    return sum(map(int, str(n // 60 * 100 + n % 60)))"
      ],
      "execution_count": null,
      "outputs": []
    },
    {
      "cell_type": "markdown",
      "metadata": {
        "id": "5stzK7WArrlM"
      },
      "source": [
        "# phoneCall\r\n",
        "\r\n",
        "Some phone usage rate may be described as follows:\r\n",
        "\r\n",
        "first minute of a call costs min1 cents,\r\n",
        "each minute from the 2nd up to 10th (inclusive) costs min2_10 cents\r\n",
        "each minute after 10th costs min11 cents.\r\n",
        "You have s cents on your account before the call. What is the duration of the longest call (in minutes rounded down to the nearest integer) you can have?\r\n",
        "\r\n",
        "Example\r\n",
        "\r\n",
        "For min1 = 3, min2_10 = 1, min11 = 2, and s = 20, the output should be\r\n",
        "phoneCall(min1, min2_10, min11, s) = 14.\r\n",
        "\r\n",
        "Here's why:\r\n",
        "\r\n",
        "the first minute costs 3 cents, which leaves you with 20 - 3 = 17 cents;\r\n",
        "the total cost of minutes 2 through 10 is 1 * 9 = 9, so you can talk 9 more minutes and still have 17 - 9 = 8 cents;\r\n",
        "each next minute costs 2 cents, which means that you can talk 8 / 2 = 4 more minutes.\r\n",
        "Thus, the longest call you can make is 1 + 9 + 4 = 14 minutes long."
      ]
    },
    {
      "cell_type": "code",
      "metadata": {
        "id": "a2k2EcversCq"
      },
      "source": [
        "def phoneCall(min1, min2_10, min11, cents):\r\n",
        "    result = 0\r\n",
        "    if cents >= min1:\r\n",
        "        bal = cents - min1\r\n",
        "        result +=1\r\n",
        "        if bal == 0 : return result\r\n",
        "    else:\r\n",
        "        return result\r\n",
        "    if bal > 0 :\r\n",
        "        for i in range(9):\r\n",
        "            bal -= min2_10\r\n",
        "            result += 1\r\n",
        "            if bal < 0: \r\n",
        "                return result-1\r\n",
        "            elif bal == 0:\r\n",
        "                return result\r\n",
        "    return 10 + (bal//min11)"
      ],
      "execution_count": null,
      "outputs": []
    },
    {
      "cell_type": "markdown",
      "metadata": {
        "id": "9X_TvRHjDN9p"
      },
      "source": [
        "# knapsackLight\r\n",
        "\r\n",
        "You found two items in a treasure chest! The first item weighs weight1 and is worth value1, and the second item weighs weight2 and is worth value2. What is the total maximum value of the items you can take with you, assuming that your max weight capacity is maxW and you can't come back for the items later?\r\n",
        "\r\n",
        "Note that there are only two items and you can't bring more than one item of each type, i.e. you can't take two first items or two second items.\r\n",
        "\r\n",
        "Example\r\n",
        "\r\n",
        "For value1 = 10, weight1 = 5, value2 = 6, weight2 = 4, and maxW = 8, the output should be\r\n",
        "knapsackLight(value1, weight1, value2, weight2, maxW) = 10.\r\n",
        "\r\n",
        "You can only carry the first item.\r\n",
        "\r\n",
        "For value1 = 10, weight1 = 5, value2 = 6, weight2 = 4, and maxW = 9, the output should be\r\n",
        "knapsackLight(value1, weight1, value2, weight2, maxW) = 16.\r\n",
        "\r\n",
        "You're strong enough to take both of the items with you.\r\n",
        "\r\n",
        "For value1 = 5, weight1 = 3, value2 = 7, weight2 = 4, and maxW = 6, the output should be\r\n",
        "knapsackLight(value1, weight1, value2, weight2, maxW) = 7.\r\n",
        "\r\n",
        "You can't take both items, but you can take any of them."
      ]
    },
    {
      "cell_type": "code",
      "metadata": {
        "id": "YzCpMm7gDQL1"
      },
      "source": [
        "def knapsackLight(value1, weight1, value2, weight2, maxW):\r\n",
        "    if maxW >= weight1 + weight2:\r\n",
        "        return value1 + value2\r\n",
        "    elif maxW >= weight1 and value1 > value2:\r\n",
        "        return value1\r\n",
        "    elif maxW >= weight2 and value2 > value1:\r\n",
        "        return value2\r\n",
        "    elif maxW >= weight1:\r\n",
        "        return value1\r\n",
        "    elif maxW >= weight2:\r\n",
        "        return value2\r\n",
        "    else:\r\n",
        "        return 0\r\n"
      ],
      "execution_count": null,
      "outputs": []
    },
    {
      "cell_type": "code",
      "metadata": {
        "id": "XfTSyn2nDRLt"
      },
      "source": [
        "'''\r\n",
        " In a one liner (Saved because I learned from this that Booleans evaluate to 0 \r\n",
        " or 1 and can be used as such in math operastions... not pep8, but beuatiful\r\n",
        "'''\r\n",
        "def knapsackLight(value1, weight1, value2, weight2, maxW):\r\n",
        "  return max((weight1 + weight2 <=maxW) * (value1 + value2), (weight1 <=maxW) * value1, (weight2 <=maxW) * value2)\r\n"
      ],
      "execution_count": null,
      "outputs": []
    },
    {
      "cell_type": "code",
      "metadata": {
        "colab": {
          "base_uri": "https://localhost:8080/"
        },
        "id": "lTyZrnDkP7Rg",
        "outputId": "9a092442-b38d-455a-b3cc-33576e0f2c9a"
      },
      "source": [
        "5* True"
      ],
      "execution_count": 3,
      "outputs": [
        {
          "output_type": "execute_result",
          "data": {
            "text/plain": [
              "5"
            ]
          },
          "metadata": {
            "tags": []
          },
          "execution_count": 3
        }
      ]
    },
    {
      "cell_type": "code",
      "metadata": {
        "colab": {
          "base_uri": "https://localhost:8080/"
        },
        "id": "q3R7xYR3Lg4z",
        "outputId": "16983747-f03b-4efc-810f-5537402379f9"
      },
      "source": [
        "5* False"
      ],
      "execution_count": 2,
      "outputs": [
        {
          "output_type": "execute_result",
          "data": {
            "text/plain": [
              "0"
            ]
          },
          "metadata": {
            "tags": []
          },
          "execution_count": 2
        }
      ]
    },
    {
      "cell_type": "markdown",
      "metadata": {
        "id": "oQfqvni8QSbS"
      },
      "source": [
        "# extraNumber\r\n",
        "\r\n",
        "You're given three integers, a, b and c. It is guaranteed that two of these integers are equal to each other. What is the value of the third integer?\r\n",
        "\r\n",
        "Example\r\n",
        "\r\n",
        "For a = 2, b = 7, and c = 2, the output should be\r\n",
        "extraNumber(a, b, c) = 7.\r\n",
        "\r\n",
        "The two equal numbers are a and c. The third number (b) equals 7, which is the answer."
      ]
    },
    {
      "cell_type": "code",
      "metadata": {
        "id": "2IsZ_aDmP_Il"
      },
      "source": [
        "def extraNumber(a, b, c):\r\n",
        "    return max((a==b) * c, (a==c) * b, (c==b) *a)\r\n"
      ],
      "execution_count": null,
      "outputs": []
    },
    {
      "cell_type": "code",
      "metadata": {
        "id": "5AlebSidP-rS"
      },
      "source": [
        "def extraNumber(a, b, c):\r\n",
        "    return a^b^c #returns the 'odd man out' ^ operator with only return the value that do not match bitwise"
      ],
      "execution_count": null,
      "outputs": []
    }
  ]
}