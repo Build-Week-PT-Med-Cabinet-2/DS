{
  "nbformat": 4,
  "nbformat_minor": 0,
  "metadata": {
    "colab": {
      "name": "Codesignal practice problems.ipynb",
      "provenance": [],
      "collapsed_sections": []
    },
    "kernelspec": {
      "name": "python3",
      "display_name": "Python 3"
    }
  },
  "cells": [
    {
      "cell_type": "markdown",
      "metadata": {
        "id": "BGjGwPQGgwCe"
      },
      "source": [
        "# Century from Year\r\n",
        "Given a year, return the century it is in. The first century spans from the year 1 up to and including the year 100, the second - from the year 101 up to and including the year 200, etc.\r\n",
        "\r\n",
        "Example\r\n",
        "\r\n",
        "For year = 1905, the output should be\r\n",
        "centuryFromYear(year) = 20;\r\n",
        "For year = 1700, the output should be\r\n",
        "centuryFromYear(year) = 17.\r\n",
        "Input/Output\r\n",
        "\r\n",
        "[execution time limit] 4 seconds (py3)\r\n",
        "\r\n",
        "[input] integer year\r\n",
        "\r\n",
        "A positive integer, designating the year.\r\n",
        "\r\n",
        "Guaranteed constraints:\r\n",
        "1 ≤ year ≤ 2005.\r\n",
        "\r\n",
        "[output] integer\r\n",
        "\r\n",
        "The number of the century the year is in."
      ]
    },
    {
      "cell_type": "code",
      "metadata": {
        "id": "PcbGe_uPgpn_"
      },
      "source": [
        "from math import ceil\r\n",
        "def centuryFromYear(year):\r\n",
        "    return ceil(year / 100)"
      ],
      "execution_count": null,
      "outputs": []
    },
    {
      "cell_type": "markdown",
      "metadata": {
        "id": "56uZc6J5hd1o"
      },
      "source": [
        "# adjacentElementsProduct\r\n",
        "Given an array of integers, find the pair of adjacent elements that has the largest product and return that product.\r\n",
        "\r\n",
        "Example\r\n",
        "\r\n",
        "For inputArray = [3, 6, -2, -5, 7, 3], the output should be\r\n",
        "adjacentElementsProduct(inputArray) = 21.\r\n",
        "\r\n",
        "7 and 3 produce the largest product.\r\n",
        "\r\n",
        "Input/Output\r\n",
        "\r\n",
        "[execution time limit] 4 seconds (py3)\r\n",
        "\r\n",
        "[input] array.integer inputArray\r\n",
        "\r\n",
        "An array of integers containing at least two elements.\r\n",
        "\r\n",
        "Guaranteed constraints:\r\n",
        "2 ≤ inputArray.length ≤ 10,\r\n",
        "-1000 ≤ inputArray[i] ≤ 1000.\r\n",
        "\r\n",
        "[output] integer\r\n",
        "\r\n",
        "The largest product of adjacent elements."
      ]
    },
    {
      "cell_type": "code",
      "metadata": {
        "id": "sVNDGosRweUl"
      },
      "source": [
        "def adjacentElementsProduct(inputArray):\r\n",
        "    result = -1001\r\n",
        "    for i in range(len(inputArray)-1):\r\n",
        "        if (inputArray[i] * inputArray[i+1]) > result:\r\n",
        "            result = inputArray[i] * inputArray[i+1]\r\n",
        "    return result\r\n"
      ],
      "execution_count": null,
      "outputs": []
    },
    {
      "cell_type": "markdown",
      "metadata": {
        "id": "AsB-mBtkz8Dj"
      },
      "source": [
        "# shapeArea\r\n",
        "Below we will define an n-interesting polygon. Your task is to find the area of a polygon for a given n.\r\n",
        "\r\n",
        "A 1-interesting polygon is just a square with a side of length 1. An n-interesting polygon is obtained by taking the n - 1-interesting polygon and appending 1-interesting polygons to its rim, side by side. You can see the 1-, 2-, 3- and 4-interesting polygons in the picture below.\r\n",
        "\r\n",
        "(diagonal pixel squares)\r\n",
        "\r\n",
        "                                     x\r\n",
        "                       x            xxx\r\n",
        "            x         xxx          xxxxx\r\n",
        "    x      xxx       xxxxx        xxxxxxx\r\n",
        "            x         xxx          xxxxx\r\n",
        "                       x            xxx\r\n",
        "                                     x\r\n",
        "\r\n",
        "\r\n",
        "Example\r\n",
        "\r\n",
        "For n = 2, the output should be\r\n",
        "shapeArea(n) = 5;\r\n",
        "For n = 3, the output should be\r\n",
        "shapeArea(n) = 13.\r\n",
        "Input/Output\r\n",
        "\r\n",
        "[execution time limit] 4 seconds (py3)\r\n",
        "\r\n",
        "[input] integer n\r\n",
        "\r\n",
        "Guaranteed constraints:\r\n",
        "1 ≤ n < 104.\r\n",
        "\r\n",
        "[output] integer\r\n",
        "\r\n",
        "The area of the n-interesting polygon."
      ]
    },
    {
      "cell_type": "code",
      "metadata": {
        "id": "o6R5yanMz8hm"
      },
      "source": [
        "def shapeArea(n):\r\n",
        "    inc = 0\r\n",
        "    result = 1\r\n",
        "    for i in range(n):\r\n",
        "        result += inc \r\n",
        "        inc += 4\r\n",
        "    return result"
      ],
      "execution_count": null,
      "outputs": []
    },
    {
      "cell_type": "code",
      "metadata": {
        "id": "3WZhQL6Fz8uG"
      },
      "source": [
        "def shapeArea2(n):\r\n",
        "    return n**2 + (n-1)**2"
      ],
      "execution_count": null,
      "outputs": []
    }
  ]
}