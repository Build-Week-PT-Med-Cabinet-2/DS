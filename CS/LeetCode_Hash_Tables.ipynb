{
  "nbformat": 4,
  "nbformat_minor": 0,
  "metadata": {
    "colab": {
      "name": "LeetCode Hash Tables.ipynb",
      "provenance": [],
      "collapsed_sections": []
    },
    "kernelspec": {
      "name": "python3",
      "display_name": "Python 3"
    }
  },
  "cells": [
    {
      "cell_type": "markdown",
      "metadata": {
        "id": "dU11p0ocp5oR"
      },
      "source": [
        "## numIdenticalPairs\r\n",
        "\r\n",
        "https://leetcode.com/problems/number-of-good-pairs/\r\n",
        "\r\n",
        "Given an array of integers nums.\r\n",
        "\r\n",
        "A pair (i,j) is called good if nums[i] == nums[j] and i < j.\r\n",
        "\r\n",
        "Return the number of good pairs.\r\n",
        "\r\n",
        " \r\n",
        "\r\n",
        "Example 1:\r\n",
        "\r\n",
        "Input: nums = [1,2,3,1,1,3]\r\n",
        "\r\n",
        "Output: 4\r\n",
        "\r\n",
        "Explanation: There are 4 good pairs (0,3), (0,4), (3,4), (2,5) 0-indexed.\r\n",
        "\r\n",
        "Example 2:\r\n",
        "\r\n",
        "Input: nums = [1,1,1,1]\r\n",
        "\r\n",
        "Output: 6\r\n",
        "\r\n",
        "Explanation: Each pair in the array are good.\r\n",
        "\r\n",
        "Example 3:\r\n",
        "\r\n",
        "Input: nums = [1,2,3]\r\n",
        "\r\n",
        "Output: 0\r\n",
        " \r\n",
        "\r\n",
        "Constraints:\r\n",
        "\r\n",
        "1 <= nums.length <= 100\r\n",
        "1 <= nums[i] <= 100"
      ]
    },
    {
      "cell_type": "code",
      "metadata": {
        "id": "E1GWQQ0TpuE_"
      },
      "source": [
        "class Solution:\r\n",
        "    def numIdenticalPairs(self, nums: List[int]) -> int:\r\n",
        "        result = 0\r\n",
        "        for i in range(len(nums)):\r\n",
        "            for j in range(i+1, len(nums)):\r\n",
        "                result += nums[i]==nums[j]\r\n",
        "        return result"
      ],
      "execution_count": null,
      "outputs": []
    },
    {
      "cell_type": "markdown",
      "metadata": {
        "id": "5M_CBO2agCcy"
      },
      "source": [
        "## numJewelsInStones\r\n",
        "\r\n",
        "You're given strings jewels representing the types of stones that are jewels, and stones representing the stones you have. Each character in stones is a type of stone you have. You want to know how many of the stones you have are also jewels.\r\n",
        "\r\n",
        "Letters are case sensitive, so \"a\" is considered a different type of stone from \"A\".\r\n",
        "\r\n",
        " \r\n",
        "\r\n",
        "Example 1:\r\n",
        "\r\n",
        "Input: jewels = \"aA\", stones = \"aAAbbbb\"\r\n",
        "\r\n",
        "Output: 3\r\n",
        "\r\n",
        "Example 2:\r\n",
        "\r\n",
        "Input: jewels = \"z\", stones = \"ZZ\"\r\n",
        "\r\n",
        "Output: 0\r\n",
        " \r\n",
        "\r\n",
        "Constraints:\r\n",
        "\r\n",
        "1 <= jewels.length, stones.length <= 50\r\n",
        "\r\n",
        "jewels and stones consist of only English letters.\r\n",
        "\r\n",
        "All the characters of jewels are unique."
      ]
    },
    {
      "cell_type": "code",
      "metadata": {
        "id": "THQ7cWOTgA2C"
      },
      "source": [
        "class Solution:\r\n",
        "    def numJewelsInStones(self, jewels: str, stones: str) -> int:\r\n",
        "        result = 0\r\n",
        "        for c in jewels:\r\n",
        "            if c in stones:\r\n",
        "                result += stones.count(c)\r\n",
        "        return result"
      ],
      "execution_count": null,
      "outputs": []
    },
    {
      "cell_type": "code",
      "metadata": {
        "colab": {
          "base_uri": "https://localhost:8080/",
          "height": 135
        },
        "id": "r6ULNrh0IYyR",
        "outputId": "e7bc455a-2976-40a6-8e4c-a1ca08ee6397"
      },
      "source": [
        "class Solution:\r\n",
        "    def numJewelsInStones(self, jewels: str, stones: str) -> int:\r\n",
        "      ht = {}\r\n",
        "      for i in jewels:\r\n",
        "        if "
      ],
      "execution_count": null,
      "outputs": [
        {
          "output_type": "error",
          "ename": "SyntaxError",
          "evalue": "ignored",
          "traceback": [
            "\u001b[0;36m  File \u001b[0;32m\"<ipython-input-1-f53682ac28c1>\"\u001b[0;36m, line \u001b[0;32m4\u001b[0m\n\u001b[0;31m    for i in jewels:\u001b[0m\n\u001b[0m                    ^\u001b[0m\n\u001b[0;31mSyntaxError\u001b[0m\u001b[0;31m:\u001b[0m unexpected EOF while parsing\n"
          ]
        }
      ]
    },
    {
      "cell_type": "markdown",
      "metadata": {
        "id": "6NrSOcWYgKjk"
      },
      "source": [
        "Runtime: 20 ms, faster than 99.21% of Python3 online submissions for Jewels and Stones.\r\n",
        "\r\n",
        "Memory Usage: 14.2 MB, less than 76.02% of Python3 online submissions for Jewels and Stones."
      ]
    },
    {
      "cell_type": "markdown",
      "metadata": {
        "id": "_7o70NM7IUru"
      },
      "source": [
        ""
      ]
    },
    {
      "cell_type": "markdown",
      "metadata": {
        "id": "wJNIpzo70vKK"
      },
      "source": [
        "Given the array nums, for each nums[i] find out how many numbers in the array are smaller than it. That is, for each nums[i] you have to count the number of valid j's such that j != i and nums[j] < nums[i].\r\n",
        "\r\n",
        "Return the answer in an array.\r\n",
        "\r\n",
        "Example 1:\r\n",
        "\r\n",
        "Input: nums = [8,1,2,2,3]\r\n",
        "\r\n",
        "Output: [4,0,1,1,3]\r\n",
        "\r\n",
        "Explanation: \r\n",
        "\r\n",
        "For nums[0]=8 there exist four smaller numbers than it (1, 2, 2 and 3). \r\n",
        "\r\n",
        "For nums[1]=1 does not exist any smaller number than it.\r\n",
        "\r\n",
        "For nums[2]=2 there exist one smaller number than it (1). \r\n",
        "\r\n",
        "For nums[3]=2 there exist one smaller number than it (1). \r\n",
        "\r\n",
        "For nums[4]=3 there exist three smaller numbers than it (1, 2 and 2).\r\n",
        "\r\n",
        "Example 2:\r\n",
        "\r\n",
        "Input: nums = [6,5,4,8]\r\n",
        "\r\n",
        "Output: [2,1,0,3]\r\n",
        "\r\n",
        "Example 3:\r\n",
        "\r\n",
        "Input: nums = [7,7,7,7]\r\n",
        "\r\n",
        "Output: [0,0,0,0]\r\n",
        " \r\n",
        "\r\n",
        "Constraints:\r\n",
        "\r\n",
        "2 <= nums.length <= 500\r\n",
        "\r\n",
        "0 <= nums[i] <= 100"
      ]
    },
    {
      "cell_type": "markdown",
      "metadata": {
        "id": "LTvdvAUdKSyC"
      },
      "source": [
        "## sumOfUnique\r\n",
        "\r\n",
        "You are given an integer array nums. The unique elements of an array are the elements that appear exactly once in the array.\r\n",
        "\r\n",
        "Return the sum of all the unique elements of nums.\r\n",
        "\r\n",
        " \r\n",
        "\r\n",
        "Example 1:\r\n",
        "\r\n",
        "Input: nums = [1,2,3,2]\r\n",
        "\r\n",
        "Output: 4\r\n",
        "\r\n",
        "Explanation: The unique elements are [1,3], and the sum is 4.\r\n",
        "\r\n",
        "Example 2:\r\n",
        "\r\n",
        "Input: nums = [1,1,1,1,1]\r\n",
        "\r\n",
        "Output: 0\r\n",
        "\r\n",
        "Explanation: There are no unique elements, and the sum is 0.\r\n",
        "\r\n",
        "Example 3:\r\n",
        "\r\n",
        "Input: nums = [1,2,3,4,5]\r\n",
        "\r\n",
        "Output: 15\r\n",
        "\r\n",
        "Explanation: The unique elements are [1,2,3,4,5], and the sum is 15."
      ]
    },
    {
      "cell_type": "code",
      "metadata": {
        "id": "2YHSa5wn1e8g"
      },
      "source": [
        "class Solution:\r\n",
        "    def sumOfUnique(self, nums: List[int]) -> int:\r\n",
        "        count = {}\r\n",
        "        sum = 0\r\n",
        "        for i in nums:\r\n",
        "            if i not in count:\r\n",
        "                count[i]=1\r\n",
        "            else:\r\n",
        "                count[i] += 1\r\n",
        "        for num,cnt in count.items():\r\n",
        "            if cnt == 1:\r\n",
        "                sum += num\r\n",
        "        return sum"
      ],
      "execution_count": null,
      "outputs": []
    },
    {
      "cell_type": "markdown",
      "metadata": {
        "id": "FtHjfIHfNTAI"
      },
      "source": [
        "## repeatedNTimes\r\n",
        "\r\n",
        "In a array A of size 2N, there are N+1 unique elements, and exactly one of these elements is repeated N times.\r\n",
        "\r\n",
        "Return the element repeated N times.\r\n",
        "\r\n",
        " \r\n",
        "\r\n",
        "Example 1:\r\n",
        "\r\n",
        "Input: [1,2,3,3]\r\n",
        "\r\n",
        "Output: 3\r\n",
        "\r\n",
        "Example 2:\r\n",
        "\r\n",
        "Input: [2,1,2,5,3,2]\r\n",
        "\r\n",
        "Output: 2\r\n",
        "\r\n",
        "Example 3:\r\n",
        "\r\n",
        "Input: [5,1,5,2,5,3,5,4]\r\n",
        "\r\n",
        "Output: 5\r\n",
        " \r\n",
        "\r\n",
        "Note:\r\n",
        "\r\n",
        "4 <= A.length <= 10000\r\n",
        "\r\n",
        "0 <= A[i] < 10000\r\n",
        "\r\n",
        "A.length is even"
      ]
    },
    {
      "cell_type": "code",
      "metadata": {
        "id": "DjpA612CNRMC"
      },
      "source": [
        "class Solution:\r\n",
        "    def repeatedNTimes(self, A: List[int]) -> int:\r\n",
        "        count = {}\r\n",
        "        for i in A:\r\n",
        "            if i not in count:\r\n",
        "                count[i] = 1\r\n",
        "            else:\r\n",
        "                count[i] += 1\r\n",
        "        for k,v in count.items():\r\n",
        "            if v == len(A)/2:\r\n",
        "                return k"
      ],
      "execution_count": null,
      "outputs": []
    },
    {
      "cell_type": "markdown",
      "metadata": {
        "id": "DNyyoBIIquvl"
      },
      "source": [
        "## commonChars\r\n",
        "\r\n",
        "Given an array A of strings made only from lowercase letters, return a list of all characters that show up in all strings within the list (including duplicates).  For example, if a character occurs 3 times in all strings but not 4 times, you need to include that character three times in the final answer.\r\n",
        "\r\n",
        "You may return the answer in any order.\r\n",
        "\r\n",
        " \r\n",
        "\r\n",
        "Example 1:\r\n",
        "\r\n",
        "Input: [\"bella\",\"label\",\"roller\"]\r\n",
        "\r\n",
        "Output: [\"e\",\"l\",\"l\"]\r\n",
        "\r\n",
        "Example 2:\r\n",
        "\r\n",
        "Input: [\"cool\",\"lock\",\"cook\"]\r\n",
        "\r\n",
        "Output: [\"c\",\"o\"]\r\n",
        " "
      ]
    },
    {
      "cell_type": "code",
      "metadata": {
        "id": "x_2cqIZ0qsBe"
      },
      "source": [
        "class Solution:\r\n",
        "    def commonChars(self, A: List[str]) -> List[str]:  \r\n",
        "        res = []\r\n",
        "        count = {}\r\n",
        "        for word in A:\r\n",
        "            for letter in word:\r\n",
        "                if letter not in count:\r\n",
        "                    count[letter] = 1\r\n",
        "                else:\r\n",
        "                    count[letter] += 1\r\n",
        "        for let, cnt in count.items():\r\n",
        "            res += let * (cnt//len(A))\r\n",
        "        return res"
      ],
      "execution_count": null,
      "outputs": []
    },
    {
      "cell_type": "markdown",
      "metadata": {
        "id": "bBWPdBWz81ug"
      },
      "source": [
        "## uniqueOccurrences\r\n",
        "\r\n",
        "<div class=\"description__24sA\"><div class=\"css-101rr4k\"><div data-cy=\"question-title\" class=\"css-v3d350\">1207. Unique Number of Occurrences</div><div class=\"css-10o4wqw\"><div diff=\"easy\" class=\"css-14oi08n\">Easy</div><button class=\"btn__r7r7 css-1rdgofi\"><svg viewBox=\"0 0 24 24\" width=\"1em\" height=\"1em\" class=\"icon__3Su4\"><path fill-rule=\"evenodd\" d=\"M7 19v-8H4v8h3zM7 9c0-.55.22-1.05.58-1.41L14.17 1l1.06 1.05c.27.27.44.65.44 1.06l-.03.32L14.69 8H21c1.1 0 2 .9 2 2v2c0 .26-.05.5-.14.73l-3.02 7.05C19.54 20.5 18.83 21 18 21H4a2 2 0 0 1-2-2v-8a2 2 0 0 1 2-2h3zm2 0v10h9l3-7v-2h-9l1.34-5.34L9 9z\"></path></svg><span>628</span></button><button class=\"btn__r7r7 css-1rdgofi\"><svg viewBox=\"0 0 24 24\" width=\"1em\" height=\"1em\" class=\"icon__3Su4\"><path fill-rule=\"evenodd\" d=\"M17 3v12c0 .55-.22 1.05-.58 1.41L9.83 23l-1.06-1.05c-.27-.27-.44-.65-.44-1.06l.03-.32.95-4.57H3c-1.1 0-2-.9-2-2v-2c0-.26.05-.5.14-.73l3.02-7.05C4.46 3.5 5.17 3 6 3h11zm-2 12V5H6l-3 7v2h9l-1.34 5.34L15 15zm2-2h3V5h-3V3h3a2 2 0 0 1 2 2v8a2 2 0 0 1-2 2h-3v-2z\"></path></svg><span>24</span></button><button class=\"btn__r7r7 css-1rdgofi\"><svg viewBox=\"0 0 24 24\" width=\"1em\" height=\"1em\" class=\"icon__3Su4\"><path fill-rule=\"evenodd\" d=\"M16.5 3c-1.74 0-3.41.81-4.5 2.09C10.91 3.81 9.24 3 7.5 3 4.42 3 2 5.42 2 8.5c0 3.78 3.4 6.86 8.55 11.54L12 21.35l1.45-1.32C18.6 15.36 22 12.28 22 8.5 22 5.42 19.58 3 16.5 3zm-4.4 15.55l-.1.1-.1-.1C7.14 14.24 4 11.39 4 8.5 4 6.5 5.5 5 7.5 5c1.54 0 3.04.99 3.57 2.36h1.87C13.46 5.99 14.96 5 16.5 5c2 0 3.5 1.5 3.5 3.5 0 2.89-3.14 5.74-7.9 10.05z\"></path></svg><span>Add to List</span></button><button class=\"btn__r7r7 css-1rdgofi\"><svg viewBox=\"0 0 24 24\" width=\"1em\" height=\"1em\" class=\"icon__3Su4\"><path fill-rule=\"evenodd\" d=\"M17 5V2l5 5h-9a2 2 0 0 0-2 2v8H9V9a4 4 0 0 1 4-4h4zm3 14V9h2v10a2 2 0 0 1-2 2H4a2 2 0 0 1-2-2V5a2 2 0 0 1 2-2h3v2H4v14h16z\"></path></svg><span>Share</span></button></div></div><div class=\"content__u3I1 question-content__JfgR\"><div><p>Given an array of integers <code>arr</code>,&nbsp;write a function that returns <code>true</code> if and only if the number of occurrences of each value in the array is unique.</p>\r\n",
        "\r\n",
        "<p>&nbsp;</p>\r\n",
        "<p><strong>Example 1:</strong></p>\r\n",
        "\r\n",
        "<pre><strong>Input:</strong> arr = [1,2,2,1,1,3]\r\n",
        "<strong>Output:</strong> true\r\n",
        "<strong>Explanation:</strong>&nbsp;The value 1 has 3 occurrences, 2 has 2 and 3 has 1. No two values have the same number of occurrences.</pre>\r\n",
        "\r\n",
        "<p><strong>Example 2:</strong></p>\r\n",
        "\r\n",
        "<pre><strong>Input:</strong> arr = [1,2]\r\n",
        "<strong>Output:</strong> false\r\n",
        "</pre>\r\n",
        "\r\n",
        "<p><strong>Example 3:</strong></p>\r\n",
        "\r\n",
        "<pre><strong>Input:</strong> arr = [-3,0,1,-3,1,1,1,-3,10,0]\r\n",
        "<strong>Output:</strong> true\r\n",
        "</pre>\r\n",
        "\r\n",
        "<p>&nbsp;</p>\r\n",
        "<p><strong>Constraints:</strong></p>\r\n",
        "\r\n",
        "<ul>\r\n",
        "\t<li><code>1 &lt;= arr.length&nbsp;&lt;= 1000</code></li>\r\n",
        "\t<li><code>-1000 &lt;= arr[i] &lt;= 1000</code></li>\r\n",
        "</ul>\r\n",
        "</div></div><div style=\"position: relative;\"><div class=\"css-q9155n\"><div class=\"css-oqu510\"><div class=\"css-y3si18\">Accepted</div><div class=\"css-jkjiwi\">75,347</div></div><div class=\"css-oqu510\"><div class=\"css-y3si18\">Submissions</div><div class=\"css-jkjiwi\">105,075</div></div></div><div class=\"erd_scroll_detection_container erd_scroll_detection_container_animation_active\" style=\"visibility: hidden; display: inline; width: 0px; height: 0px; z-index: -1; overflow: hidden; margin: 0px; padding: 0px;\"><div dir=\"ltr\" class=\"erd_scroll_detection_container\" style=\"position: absolute; flex: 0 0 auto; overflow: hidden; z-index: -1; visibility: hidden; width: 100%; height: 100%; left: 0px; top: 0px;\"><div class=\"erd_scroll_detection_container\" style=\"position: absolute; flex: 0 0 auto; overflow: hidden; z-index: -1; visibility: hidden; left: -11px; top: -11px; right: -10px; bottom: -10px;\"><div style=\"position: absolute; flex: 0 0 auto; overflow: scroll; z-index: -1; visibility: hidden; width: 100%; height: 100%;\"><div style=\"position: absolute; left: 0px; top: 0px; width: 563px; height: 71px;\"></div></div><div style=\"position: absolute; flex: 0 0 auto; overflow: scroll; z-index: -1; visibility: hidden; width: 100%; height: 100%;\"><div style=\"position: absolute; width: 200%; height: 200%;\"></div></div></div></div></div></div><div class=\"header__28Cb\"><div class=\"title__3BS7\">Seen this question in a real interview before?</div><div class=\"btn-wrapper__19Tg\"><button class=\"btn__2ZIK btn-xs__uzp4 btn-info__16Rs action-btn__DKeo\" data-no-border=\"false\"><div class=\"btn-content-container__177h\"><span class=\"btn-content__10Tj\">Yes</span></div></button></div><div class=\"btn-wrapper__19Tg\"><button class=\"btn__2ZIK btn-xs__uzp4 btn-info__16Rs action-btn__DKeo\" data-no-border=\"false\"><div class=\"btn-content-container__177h\"><span class=\"btn-content__10Tj\">No</span></div></button></div></div><div class=\"css-isal7m\"><div class=\"css-blecvm e5i1odf0\"><div class=\"css-1jqueqk\"><div class=\"header__2X5E\">Companies<svg viewBox=\"0 0 1024 1024\" width=\"1em\" height=\"1em\" class=\"icon__3Su4 lock-icon__1hmE\"><path fill-rule=\"evenodd\" d=\"M512 0a269.474 269.474 0 0 1 269.474 269.474v107.79h53.894a161.684 161.684 0 0 1 161.685 161.683v323.369A161.684 161.684 0 0 1 835.368 1024H188.632A161.684 161.684 0 0 1 26.947 862.316V538.947a161.684 161.684 0 0 1 161.685-161.684h53.894v-107.79A269.474 269.474 0 0 1 512 0zm.647 618.119a80.842 80.842 0 1 0 0 161.684 80.842 80.842 0 0 0 0-161.684zM350.316 377.263h323.368v-107.79a161.684 161.684 0 0 0-323.368 0v107.79z\"></path></svg></div></div><svg viewBox=\"0 0 24 24\" width=\"1em\" height=\"1em\" class=\"icon__3Su4 css-1ehpd12\"><path fill-rule=\"evenodd\" d=\"M16.59 8.59L12 13.17 7.41 8.59 6 10l6 6 6-6z\"></path></svg></div><div class=\"css-1hky5w4\"></div></div><div class=\"css-isal7m\"><div class=\"css-blecvm e5i1odf0\"><div class=\"css-1jqueqk\"><div class=\"header__2RZv\">Related Topics</div></div><svg viewBox=\"0 0 24 24\" width=\"1em\" height=\"1em\" class=\"icon__3Su4 css-1ehpd12\"><path fill-rule=\"evenodd\" d=\"M16.59 8.59L12 13.17 7.41 8.59 6 10l6 6 6-6z\"></path></svg></div><div class=\"css-1hky5w4\"><a class=\"topic-tag__1jni\" href=\"/tag/hash-table/\"><span data-size=\"xs\" class=\"tag__2PqS\">Hash Table</span></a></div></div><div class=\"css-isal7m\"><div class=\"css-blecvm e5i1odf0\"><div class=\"css-1jqueqk\"><div class=\"header__f9p6\">Show Hint 1</div></div><svg viewBox=\"0 0 24 24\" width=\"1em\" height=\"1em\" class=\"icon__3Su4 css-1ehpd12\"><path fill-rule=\"evenodd\" d=\"M16.59 8.59L12 13.17 7.41 8.59 6 10l6 6 6-6z\"></path></svg></div><div class=\"css-1hky5w4\"><div>Find the number of occurrences of each element in the array using a hash map.</div></div></div><div class=\"css-isal7m\"><div class=\"css-blecvm e5i1odf0\"><div class=\"css-1jqueqk\"><div class=\"header__f9p6\">Show Hint 2</div></div><svg viewBox=\"0 0 24 24\" width=\"1em\" height=\"1em\" class=\"icon__3Su4 css-1ehpd12\"><path fill-rule=\"evenodd\" d=\"M16.59 8.59L12 13.17 7.41 8.59 6 10l6 6 6-6z\"></path></svg></div><div class=\"css-1hky5w4\"><div>Iterate through the hash map and check if there is a repeated value.</div></div></div></div>"
      ]
    },
    {
      "cell_type": "code",
      "metadata": {
        "id": "jd9FcTa28z47"
      },
      "source": [
        "from collections import defaultdict\r\n",
        "class Solution:\r\n",
        "    def uniqueOccurrences(self, arr: List[int]) -> bool:\r\n",
        "        ht = defaultdict(int)\r\n",
        "        occ = []\r\n",
        "        for i in arr:\r\n",
        "            ht[i]+=1\r\n",
        "        for i in ht.values():\r\n",
        "            if i in occ:\r\n",
        "                return False\r\n",
        "            occ.append(i)\r\n",
        "        return True"
      ],
      "execution_count": null,
      "outputs": []
    },
    {
      "cell_type": "code",
      "metadata": {
        "id": "uT2fvLvV9FHa"
      },
      "source": [
        ""
      ],
      "execution_count": null,
      "outputs": []
    }
  ]
}