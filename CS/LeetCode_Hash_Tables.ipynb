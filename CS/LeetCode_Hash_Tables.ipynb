{
  "nbformat": 4,
  "nbformat_minor": 0,
  "metadata": {
    "colab": {
      "name": "LeetCode Hash Tables.ipynb",
      "provenance": [],
      "collapsed_sections": []
    },
    "kernelspec": {
      "name": "python3",
      "display_name": "Python 3"
    }
  },
  "cells": [
    {
      "cell_type": "markdown",
      "metadata": {
        "id": "dU11p0ocp5oR"
      },
      "source": [
        "## numIdenticalPairs\r\n",
        "\r\n",
        "https://leetcode.com/problems/number-of-good-pairs/\r\n",
        "\r\n",
        "Given an array of integers nums.\r\n",
        "\r\n",
        "A pair (i,j) is called good if nums[i] == nums[j] and i < j.\r\n",
        "\r\n",
        "Return the number of good pairs.\r\n",
        "\r\n",
        " \r\n",
        "\r\n",
        "Example 1:\r\n",
        "\r\n",
        "Input: nums = [1,2,3,1,1,3]\r\n",
        "\r\n",
        "Output: 4\r\n",
        "\r\n",
        "Explanation: There are 4 good pairs (0,3), (0,4), (3,4), (2,5) 0-indexed.\r\n",
        "\r\n",
        "Example 2:\r\n",
        "\r\n",
        "Input: nums = [1,1,1,1]\r\n",
        "\r\n",
        "Output: 6\r\n",
        "\r\n",
        "Explanation: Each pair in the array are good.\r\n",
        "\r\n",
        "Example 3:\r\n",
        "\r\n",
        "Input: nums = [1,2,3]\r\n",
        "\r\n",
        "Output: 0\r\n",
        " \r\n",
        "\r\n",
        "Constraints:\r\n",
        "\r\n",
        "1 <= nums.length <= 100\r\n",
        "1 <= nums[i] <= 100"
      ]
    },
    {
      "cell_type": "code",
      "metadata": {
        "id": "E1GWQQ0TpuE_"
      },
      "source": [
        "class Solution:\r\n",
        "    def numIdenticalPairs(self, nums: List[int]) -> int:\r\n",
        "        result = 0\r\n",
        "        for i in range(len(nums)):\r\n",
        "            for j in range(i+1, len(nums)):\r\n",
        "                result += nums[i]==nums[j]\r\n",
        "        return result"
      ],
      "execution_count": null,
      "outputs": []
    },
    {
      "cell_type": "markdown",
      "metadata": {
        "id": "5M_CBO2agCcy"
      },
      "source": [
        "## numJewelsInStones\r\n",
        "\r\n",
        "You're given strings jewels representing the types of stones that are jewels, and stones representing the stones you have. Each character in stones is a type of stone you have. You want to know how many of the stones you have are also jewels.\r\n",
        "\r\n",
        "Letters are case sensitive, so \"a\" is considered a different type of stone from \"A\".\r\n",
        "\r\n",
        " \r\n",
        "\r\n",
        "Example 1:\r\n",
        "\r\n",
        "Input: jewels = \"aA\", stones = \"aAAbbbb\"\r\n",
        "\r\n",
        "Output: 3\r\n",
        "\r\n",
        "Example 2:\r\n",
        "\r\n",
        "Input: jewels = \"z\", stones = \"ZZ\"\r\n",
        "\r\n",
        "Output: 0\r\n",
        " \r\n",
        "\r\n",
        "Constraints:\r\n",
        "\r\n",
        "1 <= jewels.length, stones.length <= 50\r\n",
        "jewels and stones consist of only English letters.\r\n",
        "All the characters of jewels are unique."
      ]
    },
    {
      "cell_type": "code",
      "metadata": {
        "id": "THQ7cWOTgA2C"
      },
      "source": [
        "class Solution:\r\n",
        "    def numJewelsInStones(self, jewels: str, stones: str) -> int:\r\n",
        "        result = 0\r\n",
        "        for c in jewels:\r\n",
        "            if c in stones:\r\n",
        "                result += stones.count(c)\r\n",
        "        return result"
      ],
      "execution_count": null,
      "outputs": []
    },
    {
      "cell_type": "markdown",
      "metadata": {
        "id": "6NrSOcWYgKjk"
      },
      "source": [
        "Runtime: 20 ms, faster than 99.21% of Python3 online submissions for Jewels and Stones.\r\n",
        "\r\n",
        "Memory Usage: 14.2 MB, less than 76.02% of Python3 online submissions for Jewels and Stones."
      ]
    }
  ]
}