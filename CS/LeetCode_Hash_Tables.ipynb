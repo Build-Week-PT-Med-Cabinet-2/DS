{
  "nbformat": 4,
  "nbformat_minor": 0,
  "metadata": {
    "colab": {
      "name": "LeetCode Hash Tables.ipynb",
      "provenance": [],
      "collapsed_sections": []
    },
    "kernelspec": {
      "name": "python3",
      "display_name": "Python 3"
    }
  },
  "cells": [
    {
      "cell_type": "markdown",
      "metadata": {
        "id": "dU11p0ocp5oR"
      },
      "source": [
        "## numIdenticalPairs\r\n",
        "\r\n",
        "https://leetcode.com/problems/number-of-good-pairs/\r\n",
        "\r\n",
        "Given an array of integers nums.\r\n",
        "\r\n",
        "A pair (i,j) is called good if nums[i] == nums[j] and i < j.\r\n",
        "\r\n",
        "Return the number of good pairs.\r\n",
        "\r\n",
        " \r\n",
        "\r\n",
        "Example 1:\r\n",
        "\r\n",
        "Input: nums = [1,2,3,1,1,3]\r\n",
        "\r\n",
        "Output: 4\r\n",
        "\r\n",
        "Explanation: There are 4 good pairs (0,3), (0,4), (3,4), (2,5) 0-indexed.\r\n",
        "\r\n",
        "Example 2:\r\n",
        "\r\n",
        "Input: nums = [1,1,1,1]\r\n",
        "\r\n",
        "Output: 6\r\n",
        "\r\n",
        "Explanation: Each pair in the array are good.\r\n",
        "\r\n",
        "Example 3:\r\n",
        "\r\n",
        "Input: nums = [1,2,3]\r\n",
        "\r\n",
        "Output: 0\r\n",
        " \r\n",
        "\r\n",
        "Constraints:\r\n",
        "\r\n",
        "1 <= nums.length <= 100\r\n",
        "1 <= nums[i] <= 100"
      ]
    },
    {
      "cell_type": "code",
      "metadata": {
        "id": "E1GWQQ0TpuE_"
      },
      "source": [
        "class Solution:\r\n",
        "    def numIdenticalPairs(self, nums: List[int]) -> int:\r\n",
        "        result = 0\r\n",
        "        for i in range(len(nums)):\r\n",
        "            for j in range(i+1, len(nums)):\r\n",
        "                result += nums[i]==nums[j]\r\n",
        "        return result"
      ],
      "execution_count": null,
      "outputs": []
    },
    {
      "cell_type": "markdown",
      "metadata": {
        "id": "5M_CBO2agCcy"
      },
      "source": [
        "## numJewelsInStones\r\n",
        "\r\n",
        "You're given strings jewels representing the types of stones that are jewels, and stones representing the stones you have. Each character in stones is a type of stone you have. You want to know how many of the stones you have are also jewels.\r\n",
        "\r\n",
        "Letters are case sensitive, so \"a\" is considered a different type of stone from \"A\".\r\n",
        "\r\n",
        " \r\n",
        "\r\n",
        "Example 1:\r\n",
        "\r\n",
        "Input: jewels = \"aA\", stones = \"aAAbbbb\"\r\n",
        "\r\n",
        "Output: 3\r\n",
        "\r\n",
        "Example 2:\r\n",
        "\r\n",
        "Input: jewels = \"z\", stones = \"ZZ\"\r\n",
        "\r\n",
        "Output: 0\r\n",
        " \r\n",
        "\r\n",
        "Constraints:\r\n",
        "\r\n",
        "1 <= jewels.length, stones.length <= 50\r\n",
        "jewels and stones consist of only English letters.\r\n",
        "All the characters of jewels are unique."
      ]
    },
    {
      "cell_type": "code",
      "metadata": {
        "id": "THQ7cWOTgA2C"
      },
      "source": [
        "class Solution:\r\n",
        "    def numJewelsInStones(self, jewels: str, stones: str) -> int:\r\n",
        "        result = 0\r\n",
        "        for c in jewels:\r\n",
        "            if c in stones:\r\n",
        "                result += stones.count(c)\r\n",
        "        return result"
      ],
      "execution_count": null,
      "outputs": []
    },
    {
      "cell_type": "markdown",
      "metadata": {
        "id": "6NrSOcWYgKjk"
      },
      "source": [
        "Runtime: 20 ms, faster than 99.21% of Python3 online submissions for Jewels and Stones.\r\n",
        "\r\n",
        "Memory Usage: 14.2 MB, less than 76.02% of Python3 online submissions for Jewels and Stones."
      ]
    },
    {
      "cell_type": "markdown",
      "metadata": {
        "id": "wJNIpzo70vKK"
      },
      "source": [
        "Given the array nums, for each nums[i] find out how many numbers in the array are smaller than it. That is, for each nums[i] you have to count the number of valid j's such that j != i and nums[j] < nums[i].\r\n",
        "\r\n",
        "Return the answer in an array.\r\n",
        "\r\n",
        "Example 1:\r\n",
        "\r\n",
        "Input: nums = [8,1,2,2,3]\r\n",
        "\r\n",
        "Output: [4,0,1,1,3]\r\n",
        "\r\n",
        "Explanation: \r\n",
        "\r\n",
        "For nums[0]=8 there exist four smaller numbers than it (1, 2, 2 and 3). \r\n",
        "\r\n",
        "For nums[1]=1 does not exist any smaller number than it.\r\n",
        "\r\n",
        "For nums[2]=2 there exist one smaller number than it (1). \r\n",
        "\r\n",
        "For nums[3]=2 there exist one smaller number than it (1). \r\n",
        "\r\n",
        "For nums[4]=3 there exist three smaller numbers than it (1, 2 and 2).\r\n",
        "\r\n",
        "Example 2:\r\n",
        "\r\n",
        "Input: nums = [6,5,4,8]\r\n",
        "\r\n",
        "Output: [2,1,0,3]\r\n",
        "\r\n",
        "Example 3:\r\n",
        "\r\n",
        "Input: nums = [7,7,7,7]\r\n",
        "\r\n",
        "Output: [0,0,0,0]\r\n",
        " \r\n",
        "\r\n",
        "Constraints:\r\n",
        "\r\n",
        "2 <= nums.length <= 500\r\n",
        "\r\n",
        "0 <= nums[i] <= 100"
      ]
    },
    {
      "cell_type": "markdown",
      "metadata": {
        "id": "LTvdvAUdKSyC"
      },
      "source": [
        "## sumOfUnique\r\n",
        "\r\n",
        "You are given an integer array nums. The unique elements of an array are the elements that appear exactly once in the array.\r\n",
        "\r\n",
        "Return the sum of all the unique elements of nums.\r\n",
        "\r\n",
        " \r\n",
        "\r\n",
        "Example 1:\r\n",
        "\r\n",
        "Input: nums = [1,2,3,2]\r\n",
        "\r\n",
        "Output: 4\r\n",
        "\r\n",
        "Explanation: The unique elements are [1,3], and the sum is 4.\r\n",
        "\r\n",
        "Example 2:\r\n",
        "\r\n",
        "Input: nums = [1,1,1,1,1]\r\n",
        "\r\n",
        "Output: 0\r\n",
        "\r\n",
        "Explanation: There are no unique elements, and the sum is 0.\r\n",
        "\r\n",
        "Example 3:\r\n",
        "\r\n",
        "Input: nums = [1,2,3,4,5]\r\n",
        "\r\n",
        "Output: 15\r\n",
        "\r\n",
        "Explanation: The unique elements are [1,2,3,4,5], and the sum is 15."
      ]
    },
    {
      "cell_type": "code",
      "metadata": {
        "id": "2YHSa5wn1e8g"
      },
      "source": [
        "class Solution:\r\n",
        "    def sumOfUnique(self, nums: List[int]) -> int:\r\n",
        "        count = {}\r\n",
        "        sum = 0\r\n",
        "        for i in nums:\r\n",
        "            if i not in count:\r\n",
        "                count[i]=1\r\n",
        "            else:\r\n",
        "                count[i] += 1\r\n",
        "        for num,cnt in count.items():\r\n",
        "            if cnt == 1:\r\n",
        "                sum += num\r\n",
        "        return sum"
      ],
      "execution_count": null,
      "outputs": []
    }
  ]
}