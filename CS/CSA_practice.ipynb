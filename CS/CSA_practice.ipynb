{
  "nbformat": 4,
  "nbformat_minor": 0,
  "metadata": {
    "colab": {
      "name": "CSA practice.ipynb",
      "provenance": [],
      "collapsed_sections": []
    },
    "kernelspec": {
      "name": "python3",
      "display_name": "Python 3"
    }
  },
  "cells": [
    {
      "cell_type": "markdown",
      "metadata": {
        "id": "_hs3yI4MjC_p"
      },
      "source": [
        "Given an integer n and an array a of length n, your task is to apply the following mutation to a:\r\n",
        "\r\n",
        "Array a mutates into a new array b of length n.\r\n",
        "For each i from 0 to n - 1, b[i] = a[i - 1] + a[i] + a[i + 1].\r\n",
        "If some element in the sum a[i - 1] + a[i] + a[i + 1] does not exist, it should be set to 0. For example, b[0] should be equal to 0 + a[0] + a[1].\r\n",
        "Example\r\n",
        "\r\n",
        "For n = 5 and a = [4, 0, 1, -2, 3], the output should be mutateTheArray(n, a) = [4, 5, -1, 2, 1].\r\n",
        "\r\n",
        "b[0] = 0 + a[0] + a[1] = 0 + 4 + 0 = 4\r\n",
        "b[1] = a[0] + a[1] + a[2] = 4 + 0 + 1 = 5\r\n",
        "b[2] = a[1] + a[2] + a[3] = 0 + 1 + (-2) = -1\r\n",
        "b[3] = a[2] + a[3] + a[4] = 1 + (-2) + 3 = 2\r\n",
        "b[4] = a[3] + a[4] + 0 = (-2) + 3 + 0 = 1\r\n",
        "So, the resulting array after the mutation will be [4, 5, -1, 2, 1].\r\n",
        "\r\n",
        "Input/Output\r\n",
        "\r\n",
        "[execution time limit] 4 seconds (py3)\r\n",
        "\r\n",
        "[input] integer n\r\n",
        "\r\n",
        "An integer representing the length of the given array.\r\n",
        "\r\n",
        "Guaranteed constraints:\r\n",
        "1 ≤ n ≤ 103.\r\n",
        "\r\n",
        "[input] array.integer a\r\n",
        "\r\n",
        "An array of integers that needs to be mutated.\r\n",
        "\r\n",
        "Guaranteed constraints:\r\n",
        "a.length = n,\r\n",
        "-103 ≤ a[i] ≤ 103.\r\n",
        "\r\n",
        "[output] array.integer\r\n",
        "\r\n",
        "The resulting array after the mutation."
      ]
    },
    {
      "cell_type": "code",
      "metadata": {
        "id": "LglHiCJGi7hl"
      },
      "source": [
        "def mutateTheArray(n, a):\r\n",
        "    pad = [0]\r\n",
        "    result = []\r\n",
        "    for each in a:\r\n",
        "        pad.append(each)\r\n",
        "    pad.append(0)\r\n",
        "    for i in range(len(pad)-2):\r\n",
        "         result.append(pad[i]+pad[i+1]+pad[i+2])\r\n",
        "    return result"
      ],
      "execution_count": null,
      "outputs": []
    },
    {
      "cell_type": "markdown",
      "metadata": {
        "id": "4XiOc7a3lCyN"
      },
      "source": [
        "You are given two arrays of integers a and b of the same length, and an integer k. We will be iterating through array a from left to right, and simultaneously through array b from right to left, and looking at pairs (x, y), where x is from a and y is from b. Such a pair is called tiny if the concatenation xy is strictly less than k.\r\n",
        "\r\n",
        "Your task is to return the number of tiny pairs that you'll encounter during the simultaneous iteration through a and b.\r\n",
        "\r\n",
        "Example\r\n",
        "\r\n",
        "For a = [1, 2, 3], b = [1, 2, 3], and k = 31, the output should be\r\n",
        "countTinyPairs(a, b, k) = 2.\r\n",
        "\r\n",
        "We're considering the following pairs during iteration:\r\n",
        "\r\n",
        "(1, 3). Their concatenation equals 13, which is less than 31, so the pair is tiny;\r\n",
        "(2, 2). Their concatenation equals 22, which is less than 31, so the pair is tiny;\r\n",
        "(3, 1). Their concatenation equals 31, which is not less than 31, so the pair is not tiny.\r\n",
        "As you can see, there are 2 tiny pairs during the iteration, so the answer is 2.\r\n",
        "\r\n",
        "For a = [16, 1, 4, 2, 14], b = [7, 11, 2, 0, 15], and k = 743, the output should be\r\n",
        "countTinyPairs(a, b, k) = 4.\r\n",
        "\r\n",
        "We're considering the following pairs during iteration:\r\n",
        "\r\n",
        "(16, 15). Their concatenation equals 1615, which is greater than 743, so the pair is not tiny;\r\n",
        "(1, 0). Their concatenation equals 10, which is less than 743, so the pair is tiny;\r\n",
        "(4, 2). Their concatenation equals 42, which is less than 743, so the pair is tiny.\r\n",
        "(2, 11). Their concatenation equals 211, which is less than 743, so the pair is tiny;\r\n",
        "(14, 7). Their concatenation equals 147, which is less than 743, so the pair is tiny.\r\n",
        "There are 4 tiny pairs during the iteration, so the answer is 4.\r\n",
        "\r\n",
        "Input/Output\r\n",
        "\r\n",
        "[execution time limit] 4 seconds (py3)\r\n",
        "\r\n",
        "[input] array.integer a\r\n",
        "\r\n",
        "An array of non-negative integers.\r\n",
        "\r\n",
        "Guaranteed constraints:\r\n",
        "0 ≤ a.length ≤ 105,\r\n",
        "0 ≤ a[i] ≤ 104.\r\n",
        "\r\n",
        "[input] array.integer b\r\n",
        "\r\n",
        "An array of non-negative integers.\r\n",
        "\r\n",
        "Guaranteed constraints:\r\n",
        "b.length = a.length,\r\n",
        "0 ≤ b[i] ≤ 104.\r\n",
        "\r\n",
        "[input] integer k\r\n",
        "\r\n",
        "An integer to compare concatenated pairs with.\r\n",
        "\r\n",
        "Guaranteed constraints:\r\n",
        "0 ≤ k ≤ 109.\r\n",
        "\r\n",
        "[output] integer\r\n",
        "\r\n",
        "The number of tiny pairs during the iteration."
      ]
    },
    {
      "cell_type": "code",
      "metadata": {
        "id": "urb3hYrIlDMj"
      },
      "source": [
        "def countTinyPairs(a, b, k):\r\n",
        "    count = 0\r\n",
        "    b = b[::-1]\r\n",
        "    for i in range(len(a)):\r\n",
        "        if int(str(a[i])+str(b[i])) < k:\r\n",
        "            count +=1\r\n",
        "    return count\r\n"
      ],
      "execution_count": null,
      "outputs": []
    }
  ]
}