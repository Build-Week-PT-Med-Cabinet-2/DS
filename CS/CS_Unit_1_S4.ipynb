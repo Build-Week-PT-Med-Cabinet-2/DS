{
  "nbformat": 4,
  "nbformat_minor": 0,
  "metadata": {
    "colab": {
      "name": "CS Unit 1 S4",
      "provenance": [],
      "collapsed_sections": []
    },
    "kernelspec": {
      "name": "python3",
      "display_name": "Python 3"
    }
  },
  "cells": [
    {
      "cell_type": "markdown",
      "metadata": {
        "id": "wUQhBNcnJCmh"
      },
      "source": [
        "# Mod 1"
      ]
    },
    {
      "cell_type": "markdown",
      "metadata": {
        "id": "C6vsz4F9Ntts"
      },
      "source": [
        "see also: CodeSignal Hash Tables.ipnb\r\n"
      ]
    },
    {
      "cell_type": "markdown",
      "metadata": {
        "id": "pnN_ghN3hV_g"
      },
      "source": [
        "## csFindTheSingleNumber\r\n",
        "\r\n",
        "You are given a non-empty array of integers.\r\n",
        "\r\n",
        "One element appears exactly once, with every other element appearing at least twice, perhaps more.\r\n",
        "\r\n",
        "Write a function that can find and return the element that appears exactly once.\r\n",
        "\r\n",
        "Example 1:\r\n",
        "\r\n",
        "Input: [1,1,2,1]\r\n",
        "\r\n",
        "Output: 2\r\n",
        "\r\n",
        "Example 2:\r\n",
        "\r\n",
        "Input: [1,2,1,2,1,2,80]\r\n",
        "\r\n",
        "Output: 80\r\n",
        "\r\n",
        "Note: You should be able to develop a solution that has O(n) time complexity."
      ]
    },
    {
      "cell_type": "code",
      "metadata": {
        "id": "CEIw9OlohTWL"
      },
      "source": [
        "def csFindTheSingleNumber(nums):\r\n",
        "    for i in nums:\r\n",
        "        if nums.count(i) == 1:\r\n",
        "            return i"
      ],
      "execution_count": null,
      "outputs": []
    },
    {
      "cell_type": "markdown",
      "metadata": {
        "id": "NHPo8AQ3axFW"
      },
      "source": [
        "## csAverageOfTopFive\r\n",
        "\r\n",
        "Given an array of integers nums.\r\n",
        "\r\n",
        "A pair (i,j) is called good if nums[i] == nums[j] and i < j.\r\n",
        "\r\n",
        "Return the number of good pairs.\r\n",
        "\r\n",
        " \r\n",
        "\r\n",
        "Example 1:\r\n",
        "\r\n",
        "Input: nums = [1,2,3,1,1,3]\r\n",
        "\r\n",
        "Output: 4\r\n",
        "\r\n",
        "Explanation: There are 4 good pairs (0,3), (0,4), (3,4), (2,5) 0-indexed.\r\n",
        "\r\n",
        "Example 2:\r\n",
        "\r\n",
        "Input: nums = [1,1,1,1]\r\n",
        "\r\n",
        "Output: 6\r\n",
        "Explanation: Each pair in the array are good.\r\n",
        "\r\n",
        "Example 3:\r\n",
        "\r\n",
        "Input: nums = [1,2,3]\r\n",
        "Output: 0\r\n",
        " \r\n",
        "\r\n",
        "Constraints:\r\n",
        "\r\n",
        "1 <= nums.length <= 100\r\n",
        "\r\n",
        "1 <= nums[i] <= 100"
      ]
    },
    {
      "cell_type": "code",
      "metadata": {
        "id": "tdg1U8EJI0BX"
      },
      "source": [
        "def csAverageOfTopFive(scores):\r\n",
        "    scores_by_student = [0] * 100\r\n",
        "    totals_by_student = [0] * 100\r\n",
        "    num_tests_by_student = [0] * 100\r\n",
        "    result=[]\r\n",
        "    for i in range(len(scores)):\r\n",
        "        key = hash(scores[i][0]) % len(totals_by_student) \r\n",
        "        #hashing code although not needed for integers in python\r\n",
        "        if not scores_by_student[key]:\r\n",
        "            scores_by_student[key] = []\r\n",
        "        scores_by_student[key].append(scores[i][1])\r\n",
        "        #stores each score in an array located at the hashed index\r\n",
        "        if num_tests_by_student[key] < 5:\r\n",
        "            num_tests_by_student[key] += 1 \r\n",
        "        #increment the number of tests to divide by for average. max 5\r\n",
        "        scores_by_student[key].sort(reverse=True)\r\n",
        "        #for ease of selecting top 5\r\n",
        "    for i, v in enumerate(scores_by_student):\r\n",
        "        if v and len(v) <= 5:\r\n",
        "            totals_by_student[i] = sum(v)\r\n",
        "        elif v:\r\n",
        "            totals_by_student[i] = sum(v[:5])\r\n",
        "    for i, v in enumerate(totals_by_student):\r\n",
        "        if v:\r\n",
        "            result.append([i,v//num_tests_by_student[i]])\r\n",
        "    return result "
      ],
      "execution_count": null,
      "outputs": []
    },
    {
      "cell_type": "code",
      "metadata": {
        "id": "NvVVJiLMlFs8"
      },
      "source": [
        "#code by Beej Hall using dictionaries and \r\n",
        "def csAverageOfTopFive(scores):\r\n",
        "    scores_by_student = {} # to instantiate the dictionaries\r\n",
        "    totals_by_student = {} \r\n",
        "    \r\n",
        "    result=[] # initialize return list\r\n",
        "    \r\n",
        "    for i in range(len(scores)):\r\n",
        "        student, score = scores[i] # tuple upacking for each element\r\n",
        "        \r\n",
        "        if student not in scores_by_student:\r\n",
        "            scores_by_student[student] = [] #initialize a list to store scores\r\n",
        "        scores_by_student[student].append(score) #store score in list at key\r\n",
        "        \r\n",
        "    for i, v in scores_by_student.items():\r\n",
        "        v = sorted(v, reverse=True)[:5]\r\n",
        "        # sorts descending and limits to top 5\r\n",
        "        average = sum(v) // len(v)\r\n",
        "        # calculates average by len (eliminating need num_tests_by_student list\r\n",
        "        result.append([i, average])\r\n",
        "        \r\n",
        "    return result"
      ],
      "execution_count": null,
      "outputs": []
    },
    {
      "cell_type": "markdown",
      "metadata": {
        "id": "n5yUkJfYiVzR"
      },
      "source": [
        "## csMaxNumberOfLambdas\r\n",
        "\r\n",
        "Given a string text, you need to use the characters of text to form as many instances of the word \"lambda\" as possible.\r\n",
        "\r\n",
        "You can use each character in text at most once.\r\n",
        "\r\n",
        "Write a function that returns the maximum number of instances of \"lambda\" that can be formed.\r\n",
        "\r\n",
        "Example 1:\r\n",
        "\r\n",
        "Input: text = \"mbxcdatlas\"\r\n",
        "\r\n",
        "Output: 1\r\n",
        "\r\n",
        "Example 2:\r\n",
        "\r\n",
        "Input: text = \"lalaaxcmbdtsumbdav\"\r\n",
        "\r\n",
        "Output: 2\r\n",
        "\r\n",
        "Example 3:\r\n",
        "\r\n",
        "Input: text = \"sctlamb\"\r\n",
        "\r\n",
        "Output: 0\r\n",
        "\r\n",
        "Notes:\r\n",
        "\r\n",
        "text consists of lowercase English characters only"
      ]
    },
    {
      "cell_type": "code",
      "metadata": {
        "id": "x8OJ3I5vhJBC"
      },
      "source": [
        "def csMaxNumberOfLambdas(text):\r\n",
        "    hashTable = [0] * 6\r\n",
        "    for i,c in enumerate(\"lambda\"):\r\n",
        "        hashTable[i] = text.count(c)\r\n",
        "    return min(hashTable)"
      ],
      "execution_count": null,
      "outputs": []
    },
    {
      "cell_type": "code",
      "metadata": {
        "id": "EPwg5afa908C"
      },
      "source": [
        "def csMaxNumberOfLambdas(text):\r\n",
        "    ht = {}\r\n",
        "    for i in \"lambda\":\r\n",
        "      ht[i]=0\r\n",
        "    for c in text:\r\n",
        "      if c in ht:\r\n",
        "        ht[c]+=1\r\n",
        "    return min(ht.values())\r\n",
        "\r\n",
        "    "
      ],
      "execution_count": null,
      "outputs": []
    },
    {
      "cell_type": "markdown",
      "metadata": {
        "id": "35yi3oJHQjA8"
      },
      "source": [
        "# Mod 2"
      ]
    },
    {
      "cell_type": "markdown",
      "metadata": {
        "id": "9Gm_04k5QlEk"
      },
      "source": [
        "## csIsomorphicStrings\r\n",
        "\r\n",
        "<div class=\"-flex -scroll -padding-16 -space-v-16\"><div class=\"-layout-h -space-h-16\"><div class=\"-layout-h -space-h-4 -center-center\"><div class=\"icon -size-16 -color-green\"><div class=\"-layout-h -center\"><svg width=\"16\" height=\"16\" viewBox=\"0 0 16 16\"><path fill-rule=\"evenodd\" clip-rule=\"evenodd\" d=\"M8 16A8 8 0 1 1 8 0a8 8 0 0 1 0 16zm-1.43-3c-1.642-.344-2.462-1.136-2.462-2.376V9.612c0-.688-.37-1.032-1.108-1.032V7.42c.739 0 1.108-.346 1.108-1.037V5.31c.013-.613.225-1.11.636-1.487.414-.378 1.023-.653 1.825-.823L7 3.9c-.574.163-.873.621-.896 1.374v1.109c0 .763-.421 1.301-1.265 1.615.844.313 1.265.853 1.265 1.62v1.103c.023.753.322 1.211.896 1.374L6.57 13zm2.86 0c1.642-.344 2.462-1.136 2.462-2.376V9.612c0-.688.37-1.032 1.108-1.032V7.42c-.739 0-1.108-.346-1.108-1.037V5.31c-.013-.613-.225-1.11-.636-1.487-.414-.378-1.023-.653-1.825-.823L9 3.9c.574.163.873.621.896 1.374v1.109c0 .763.421 1.301 1.265 1.615-.844.313-1.265.853-1.265 1.62v1.103c-.023.753-.322 1.211-.896 1.374l.43.905z\"></path></svg></div></div><p class=\"-bold -font-size-14 -capitalize\">codewriting</p></div></div><div class=\"markdown -arial\"><p>Given two strings <code>a</code> and <code>b</code>, determine if they are isomorphic.</p>\r\n",
        "<p>Two strings are isomorphic if the characters in <code>a</code> can be replaced to get <code>b</code>.</p>\r\n",
        "<p><em>All occurrences of a character must be replaced with another character while preserving the order of characters. No two characters may map to the same character but a character may map to itself.</em></p>\r\n",
        "<p>Example 1:</p>\r\n",
        "<pre><code class=\"language-plaintext\">Input: \r\n",
        "a = \"odd\"\r\n",
        "b = \"egg\"\r\n",
        "\r\n",
        "Output:\r\n",
        "true\r\n",
        "</code></pre>\r\n",
        "<p>Example 2:</p>\r\n",
        "<pre><code class=\"language-plaintext\">Input:\r\n",
        "a = \"foo\"\r\n",
        "b = \"bar\"\r\n",
        "\r\n",
        "Output:\r\n",
        "false\r\n",
        "</code></pre>\r\n",
        "<p>Example 3:</p>\r\n",
        "<pre><code class=\"language-plaintext\">Input:\r\n",
        "a = \"abca\"\r\n",
        "b = \"zbxz\"\r\n",
        "\r\n",
        "Output:\r\n",
        "true\r\n",
        "</code></pre>\r\n",
        "<p>Example 4:</p>\r\n",
        "<pre><code class=\"language-plaintext\">Input:\r\n",
        "a = \"abc\"\r\n",
        "b = \"\"\r\n",
        "\r\n",
        "Output:\r\n",
        "false\r\n",
        "</code></pre>\r\n",
        "<ul>\r\n",
        "<li>\r\n",
        "<p><strong>[execution time limit] 4 seconds (py3)</strong></p>\r\n",
        "</li>\r\n",
        "<li>\r\n",
        "<p><strong>[input] string a</strong></p>\r\n",
        "</li>\r\n",
        "<li>\r\n",
        "<p><strong>[input] string b</strong></p>\r\n",
        "</li>\r\n",
        "<li>\r\n",
        "<p><strong>[output] boolean</strong></p>\r\n",
        "</li>\r\n",
        "</ul>\r\n",
        "<p><strong>[Python 3] Syntax Tips</strong></p>\r\n",
        "<pre><code class=\"language-python\"><span class=\"hljs-comment\"># Prints help message to the console</span>\r\n",
        "<span class=\"hljs-comment\"># Returns a string</span>\r\n",
        "<span class=\"hljs-function\"><span class=\"hljs-keyword\">def</span> <span class=\"hljs-title\">helloWorld</span>(<span class=\"hljs-params\">name</span>):</span>\r\n",
        "    print(<span class=\"hljs-string\">\"This prints to the console when you Run Tests\"</span>)\r\n",
        "    <span class=\"hljs-keyword\">return</span> <span class=\"hljs-string\">\"Hello, \"</span> + name\r\n",
        "\r\n",
        "</code></pre>\r\n",
        "</div></div>"
      ]
    },
    {
      "cell_type": "code",
      "metadata": {
        "id": "pGTQGS-PQhjZ"
      },
      "source": [
        "from collections import defaultdict\r\n",
        "def csIsomorphicStrings(a, b):\r\n",
        "    if len(a) != len(b): # for edge case where strings are different lengths\r\n",
        "        return False\r\n",
        "    result = True\r\n",
        "    hashA = defaultdict(int)\r\n",
        "    hashB = defaultdict(int)\r\n",
        "    for letter in a:\r\n",
        "        hashA[letter]+=1\r\n",
        "    for letter in b:\r\n",
        "        hashB[letter]+=1\r\n",
        "    zipHash = zip(hashA.values(), hashB.values())\r\n",
        "    for (count1), (count2) in zipHash:\r\n",
        "        if count1 != count2:\r\n",
        "            result = False\r\n",
        "    return result\r\n",
        "    "
      ],
      "execution_count": null,
      "outputs": []
    },
    {
      "cell_type": "markdown",
      "metadata": {
        "id": "jpJn_26XoFo9"
      },
      "source": [
        "## csWordPattern\r\n",
        "\r\n",
        "<div class=\"-flex -scroll -padding-16 -space-v-16\"><div class=\"-layout-h -space-h-16\"><div class=\"-layout-h -space-h-4 -center-center\"><div class=\"icon -size-16 -color-green\"><div class=\"-layout-h -center\"><svg width=\"16\" height=\"16\" viewBox=\"0 0 16 16\"><path fill-rule=\"evenodd\" clip-rule=\"evenodd\" d=\"M8 16A8 8 0 1 1 8 0a8 8 0 0 1 0 16zm-1.43-3c-1.642-.344-2.462-1.136-2.462-2.376V9.612c0-.688-.37-1.032-1.108-1.032V7.42c.739 0 1.108-.346 1.108-1.037V5.31c.013-.613.225-1.11.636-1.487.414-.378 1.023-.653 1.825-.823L7 3.9c-.574.163-.873.621-.896 1.374v1.109c0 .763-.421 1.301-1.265 1.615.844.313 1.265.853 1.265 1.62v1.103c.023.753.322 1.211.896 1.374L6.57 13zm2.86 0c1.642-.344 2.462-1.136 2.462-2.376V9.612c0-.688.37-1.032 1.108-1.032V7.42c-.739 0-1.108-.346-1.108-1.037V5.31c-.013-.613-.225-1.11-.636-1.487-.414-.378-1.023-.653-1.825-.823L9 3.9c.574.163.873.621.896 1.374v1.109c0 .763.421 1.301 1.265 1.615-.844.313-1.265.853-1.265 1.62v1.103c-.023.753-.322 1.211-.896 1.374l.43.905z\"></path></svg></div></div><p class=\"-bold -font-size-14 -capitalize\">codewriting</p></div></div><div class=\"markdown -arial\"><p>Given a <code>pattern</code> and a string <code>a</code>, find if <code>a</code> follows the same pattern.</p>\r\n",
        "<p>Here, to \"follow\" means a full match, such that there is a one-to-one correspondence between a letter in pattern and a non-empty word in s.</p>\r\n",
        "<p>Example 1:</p>\r\n",
        "<pre><code class=\"language-plaintext\">Input:\r\n",
        "pattern = \"abba\"\r\n",
        "a = \"lambda school school lambda\"\r\n",
        "\r\n",
        "Output: true\r\n",
        "</code></pre>\r\n",
        "<p>Example 2:</p>\r\n",
        "<pre><code class=\"language-plaintext\">Input:\r\n",
        "pattern = \"abba\"\r\n",
        "a = \"lambda school school coding\"\r\n",
        "\r\n",
        "Output:\r\n",
        "false\r\n",
        "</code></pre>\r\n",
        "<p>Example 3:</p>\r\n",
        "<pre><code class=\"language-plaintext\">Input:\r\n",
        "pattern = \"aaaa\"\r\n",
        "a = \"lambda school school lambda\"\r\n",
        "\r\n",
        "Output: false\r\n",
        "</code></pre>\r\n",
        "<p>Example 4:</p>\r\n",
        "<pre><code class=\"language-plaintext\">Input:\r\n",
        "pattern = \"abba\"\r\n",
        "a = \"lambda lambda lambda lambda\"\r\n",
        "\r\n",
        "Output: false\r\n",
        "</code></pre>\r\n",
        "<p>Notes:</p>\r\n",
        "<ul>\r\n",
        "<li><code>pattern</code> contains only lower-case English letters.</li>\r\n",
        "<li><code>a</code> contains only lower-case English letters and spaces ' '.</li>\r\n",
        "<li><code>a</code> does not contain any leading or trailing spaces.</li>\r\n",
        "<li>All the words in <code>a</code> are separated by a single space.</li>\r\n",
        "</ul>\r\n",
        "<ul>\r\n",
        "<li>\r\n",
        "<p><strong>[execution time limit] 4 seconds (py3)</strong></p>\r\n",
        "</li>\r\n",
        "<li>\r\n",
        "<p><strong>[input] string pattern</strong></p>\r\n",
        "</li>\r\n",
        "<li>\r\n",
        "<p><strong>[input] string a</strong></p>\r\n",
        "</li>\r\n",
        "<li>\r\n",
        "<p><strong>[output] boolean</strong></p>\r\n",
        "</li>\r\n",
        "</ul>\r\n",
        "<p><strong>[Python 3] Syntax Tips</strong></p>\r\n",
        "<pre><code class=\"language-python\"><span class=\"hljs-comment\"># Prints help message to the console</span>\r\n",
        "<span class=\"hljs-comment\"># Returns a string</span>\r\n",
        "<span class=\"hljs-function\"><span class=\"hljs-keyword\">def</span> <span class=\"hljs-title\">helloWorld</span>(<span class=\"hljs-params\">name</span>):</span>\r\n",
        "    print(<span class=\"hljs-string\">\"This prints to the console when you Run Tests\"</span>)\r\n",
        "    <span class=\"hljs-keyword\">return</span> <span class=\"hljs-string\">\"Hello, \"</span> + name\r\n",
        "\r\n",
        "</code></pre>\r\n",
        "</div></div>"
      ]
    },
    {
      "cell_type": "code",
      "metadata": {
        "id": "jM9zibZRoD2W"
      },
      "source": [
        "def csWordPattern(pattern, a):\r\n",
        "    word_pattern = a.split()\r\n",
        "    ht = {}\r\n",
        "    if len(pattern)!= len(word_pattern):\r\n",
        "        return False\r\n",
        "    # handles edge case of different lengths\r\n",
        "       \r\n",
        "    for i in range(len(pattern)):\r\n",
        "        if pattern[i] not in ht:\r\n",
        "            ht[pattern[i]] = word_pattern[i]\r\n",
        "        elif ht[pattern[i]] != word_pattern[i]:\r\n",
        "            return False\r\n",
        "    for idx, (key, value) in enumerate(zip(pattern, word_pattern)):\r\n",
        "            if idx+1 < len(word_pattern)-1 and key != pattern[idx+1] and value == word_pattern[idx+1]:\r\n",
        "                return False\r\n",
        "    return True"
      ],
      "execution_count": null,
      "outputs": []
    }
  ]
}