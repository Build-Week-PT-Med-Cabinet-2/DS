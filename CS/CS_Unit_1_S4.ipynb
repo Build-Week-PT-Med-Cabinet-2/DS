{
  "nbformat": 4,
  "nbformat_minor": 0,
  "metadata": {
    "colab": {
      "name": "CS Unit 1 S4",
      "provenance": [],
      "collapsed_sections": []
    },
    "kernelspec": {
      "name": "python3",
      "display_name": "Python 3"
    }
  },
  "cells": [
    {
      "cell_type": "markdown",
      "metadata": {
        "id": "wUQhBNcnJCmh"
      },
      "source": [
        "# Mod 1"
      ]
    },
    {
      "cell_type": "markdown",
      "metadata": {
        "id": "pnN_ghN3hV_g"
      },
      "source": [
        "## csFindTheSingleNumber\r\n",
        "\r\n",
        "You are given a non-empty array of integers.\r\n",
        "\r\n",
        "One element appears exactly once, with every other element appearing at least twice, perhaps more.\r\n",
        "\r\n",
        "Write a function that can find and return the element that appears exactly once.\r\n",
        "\r\n",
        "Example 1:\r\n",
        "\r\n",
        "Input: [1,1,2,1]\r\n",
        "\r\n",
        "Output: 2\r\n",
        "\r\n",
        "Example 2:\r\n",
        "\r\n",
        "Input: [1,2,1,2,1,2,80]\r\n",
        "\r\n",
        "Output: 80\r\n",
        "\r\n",
        "Note: You should be able to develop a solution that has O(n) time complexity."
      ]
    },
    {
      "cell_type": "code",
      "metadata": {
        "id": "CEIw9OlohTWL"
      },
      "source": [
        "def csFindTheSingleNumber(nums):\r\n",
        "    for i in nums:\r\n",
        "        if nums.count(i) == 1:\r\n",
        "            return i"
      ],
      "execution_count": null,
      "outputs": []
    },
    {
      "cell_type": "markdown",
      "metadata": {
        "id": "NHPo8AQ3axFW"
      },
      "source": [
        "## csAverageOfTopFive\r\n",
        "\r\n",
        "Given an array of integers nums.\r\n",
        "\r\n",
        "A pair (i,j) is called good if nums[i] == nums[j] and i < j.\r\n",
        "\r\n",
        "Return the number of good pairs.\r\n",
        "\r\n",
        " \r\n",
        "\r\n",
        "Example 1:\r\n",
        "\r\n",
        "Input: nums = [1,2,3,1,1,3]\r\n",
        "\r\n",
        "Output: 4\r\n",
        "\r\n",
        "Explanation: There are 4 good pairs (0,3), (0,4), (3,4), (2,5) 0-indexed.\r\n",
        "\r\n",
        "Example 2:\r\n",
        "\r\n",
        "Input: nums = [1,1,1,1]\r\n",
        "\r\n",
        "Output: 6\r\n",
        "Explanation: Each pair in the array are good.\r\n",
        "\r\n",
        "Example 3:\r\n",
        "\r\n",
        "Input: nums = [1,2,3]\r\n",
        "Output: 0\r\n",
        " \r\n",
        "\r\n",
        "Constraints:\r\n",
        "\r\n",
        "1 <= nums.length <= 100\r\n",
        "\r\n",
        "1 <= nums[i] <= 100"
      ]
    },
    {
      "cell_type": "code",
      "metadata": {
        "id": "tdg1U8EJI0BX"
      },
      "source": [
        "def csAverageOfTopFive(scores):\r\n",
        "    scores_by_student = [0] * 100\r\n",
        "    totals_by_student = [0] * 100\r\n",
        "    num_tests_by_student = [0] * 100\r\n",
        "    result=[]\r\n",
        "    for i in range(len(scores)):\r\n",
        "        key = hash(scores[i][0]) % len(totals_by_student) \r\n",
        "        #hashing code although not needed for integers in python\r\n",
        "        if not scores_by_student[key]:\r\n",
        "            scores_by_student[key] = []\r\n",
        "        scores_by_student[key].append(scores[i][1])\r\n",
        "        #stores each score in an array located at the hashed index\r\n",
        "        if num_tests_by_student[key] < 5:\r\n",
        "            num_tests_by_student[key] += 1 \r\n",
        "        #increment the number of tests to divide by for average. max 5\r\n",
        "        scores_by_student[key].sort(reverse=True)\r\n",
        "        #for ease of selecting top 5\r\n",
        "    for i, v in enumerate(scores_by_student):\r\n",
        "        if v and len(v) <= 5:\r\n",
        "            totals_by_student[i] = sum(v)\r\n",
        "        elif v:\r\n",
        "            totals_by_student[i] = sum(v[:5])\r\n",
        "    for i, v in enumerate(totals_by_student):\r\n",
        "        if v:\r\n",
        "            result.append([i,v//num_tests_by_student[i]])\r\n",
        "    return result "
      ],
      "execution_count": null,
      "outputs": []
    },
    {
      "cell_type": "code",
      "metadata": {
        "id": "NvVVJiLMlFs8"
      },
      "source": [
        "#code by Beej Hall using dictionaries and \r\n",
        "def csAverageOfTopFive(scores):\r\n",
        "    scores_by_student = {} # to instantiate the dictionaries\r\n",
        "    totals_by_student = {} \r\n",
        "    \r\n",
        "    result=[] # initialize return list\r\n",
        "    \r\n",
        "    for i in range(len(scores)):\r\n",
        "        student, score = scores[i] # tuple upacking for each element\r\n",
        "        \r\n",
        "        if student not in scores_by_student:\r\n",
        "            scores_by_student[student] = [] #initialize a list to store scores\r\n",
        "        scores_by_student[student].append(score) #store score in list at key\r\n",
        "        \r\n",
        "    for i, v in scores_by_student.items():\r\n",
        "        v = sorted(v, reverse=True)[:5]\r\n",
        "        # sorts descending and limits to top 5\r\n",
        "        average = sum(v) // len(v)\r\n",
        "        # calculates average by len (eliminating need num_tests_by_student list\r\n",
        "        result.append([i, average])\r\n",
        "        \r\n",
        "    return result"
      ],
      "execution_count": null,
      "outputs": []
    },
    {
      "cell_type": "markdown",
      "metadata": {
        "id": "n5yUkJfYiVzR"
      },
      "source": [
        "## csMaxNumberOfLambdas\r\n",
        "\r\n",
        "Given a string text, you need to use the characters of text to form as many instances of the word \"lambda\" as possible.\r\n",
        "\r\n",
        "You can use each character in text at most once.\r\n",
        "\r\n",
        "Write a function that returns the maximum number of instances of \"lambda\" that can be formed.\r\n",
        "\r\n",
        "Example 1:\r\n",
        "\r\n",
        "Input: text = \"mbxcdatlas\"\r\n",
        "\r\n",
        "Output: 1\r\n",
        "\r\n",
        "Example 2:\r\n",
        "\r\n",
        "Input: text = \"lalaaxcmbdtsumbdav\"\r\n",
        "\r\n",
        "Output: 2\r\n",
        "\r\n",
        "Example 3:\r\n",
        "\r\n",
        "Input: text = \"sctlamb\"\r\n",
        "\r\n",
        "Output: 0\r\n",
        "\r\n",
        "Notes:\r\n",
        "\r\n",
        "text consists of lowercase English characters only"
      ]
    },
    {
      "cell_type": "code",
      "metadata": {
        "id": "x8OJ3I5vhJBC"
      },
      "source": [
        "def csMaxNumberOfLambdas(text):\r\n",
        "    hashTable = [0] * 6\r\n",
        "    for i,c in enumerate(\"lambda\"):\r\n",
        "        hashTable[i] = text.count(c)\r\n",
        "    return min(hashTable)"
      ],
      "execution_count": null,
      "outputs": []
    }
  ]
}