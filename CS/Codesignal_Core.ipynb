{
  "nbformat": 4,
  "nbformat_minor": 0,
  "metadata": {
    "colab": {
      "name": "Codesignal Core.ipynb",
      "provenance": [],
      "collapsed_sections": []
    },
    "kernelspec": {
      "name": "python3",
      "display_name": "Python 3"
    }
  },
  "cells": [
    {
      "cell_type": "markdown",
      "metadata": {
        "id": "56uZc6J5hd1o"
      },
      "source": [
        "# adjacentElementsProduct\r\n",
        "Given an array of integers, find the pair of adjacent elements that has the largest product and return that product.\r\n",
        "\r\n",
        "Example\r\n",
        "\r\n",
        "For inputArray = [3, 6, -2, -5, 7, 3], the output should be\r\n",
        "adjacentElementsProduct(inputArray) = 21.\r\n",
        "\r\n",
        "7 and 3 produce the largest product.\r\n",
        "\r\n",
        "Input/Output\r\n",
        "\r\n",
        "[execution time limit] 4 seconds (py3)\r\n",
        "\r\n",
        "[input] array.integer inputArray\r\n",
        "\r\n",
        "An array of integers containing at least two elements.\r\n",
        "\r\n",
        "Guaranteed constraints:\r\n",
        "2 ≤ inputArray.length ≤ 10,\r\n",
        "-1000 ≤ inputArray[i] ≤ 1000.\r\n",
        "\r\n",
        "[output] integer\r\n",
        "\r\n",
        "The largest product of adjacent elements."
      ]
    },
    {
      "cell_type": "code",
      "metadata": {
        "id": "sVNDGosRweUl"
      },
      "source": [
        "def adjacentElementsProduct(inputArray):\r\n",
        "    result = -1001\r\n",
        "    for i in range(len(inputArray)-1):\r\n",
        "        if (inputArray[i] * inputArray[i+1]) > result:\r\n",
        "            result = inputArray[i] * inputArray[i+1]\r\n",
        "    return result\r\n"
      ],
      "execution_count": null,
      "outputs": []
    },
    {
      "cell_type": "markdown",
      "metadata": {
        "id": "AsB-mBtkz8Dj"
      },
      "source": [
        "# shapeArea\r\n",
        "Below we will define an n-interesting polygon. Your task is to find the area of a polygon for a given n.\r\n",
        "\r\n",
        "A 1-interesting polygon is just a square with a side of length 1. An n-interesting polygon is obtained by taking the n - 1-interesting polygon and appending 1-interesting polygons to its rim, side by side. You can see the 1-, 2-, 3- and 4-interesting polygons in the picture below.\r\n",
        "\r\n",
        "<img src=\"https://codesignal.s3.amazonaws.com/tasks/shapeArea/img/area.png?_tm=1582090003453\" alt=\"\">\r\n",
        "\r\n",
        "Example\r\n",
        "\r\n",
        "For n = 2, the output should be\r\n",
        "shapeArea(n) = 5;\r\n",
        "For n = 3, the output should be\r\n",
        "shapeArea(n) = 13.\r\n",
        "Input/Output\r\n",
        "\r\n",
        "[execution time limit] 4 seconds (py3)\r\n",
        "\r\n",
        "[input] integer n\r\n",
        "\r\n",
        "Guaranteed constraints:\r\n",
        "1 ≤ n < 104.\r\n",
        "\r\n",
        "[output] integer\r\n",
        "\r\n",
        "The area of the n-interesting polygon."
      ]
    },
    {
      "cell_type": "code",
      "metadata": {
        "id": "o6R5yanMz8hm"
      },
      "source": [
        "def shapeArea(n):\r\n",
        "    inc = 0\r\n",
        "    result = 1\r\n",
        "    for i in range(n):\r\n",
        "        result += inc \r\n",
        "        inc += 4\r\n",
        "    return result"
      ],
      "execution_count": null,
      "outputs": []
    },
    {
      "cell_type": "code",
      "metadata": {
        "id": "3WZhQL6Fz8uG"
      },
      "source": [
        "def shapeArea2(n):\r\n",
        "    return n**2 + (n-1)**2"
      ],
      "execution_count": null,
      "outputs": []
    },
    {
      "cell_type": "markdown",
      "metadata": {
        "id": "WZWAy9T33las"
      },
      "source": [
        "# makeArrayConsecutive\r\n",
        "\r\n",
        "Ratiorg got statues of different sizes as a present from CodeMaster for his birthday, each statue having an non-negative integer size. Since he likes to make things perfect, he wants to arrange them from smallest to largest so that each statue will be bigger than the previous one exactly by 1. He may need some additional statues to be able to accomplish that. Help him figure out the minimum number of additional statues needed.\r\n",
        "\r\n",
        "Example\r\n",
        "\r\n",
        "For statues = [6, 2, 3, 8], the output should be\r\n",
        "makeArrayConsecutive2(statues) = 3.\r\n",
        "\r\n",
        "Ratiorg needs statues of sizes 4, 5 and 7.\r\n",
        "\r\n",
        "Input/Output\r\n",
        "\r\n",
        "[execution time limit] 4 seconds (py3)\r\n",
        "\r\n",
        "[input] array.integer statues\r\n",
        "\r\n",
        "An array of distinct non-negative integers.\r\n",
        "\r\n",
        "Guaranteed constraints:\r\n",
        "1 ≤ statues.length ≤ 10,\r\n",
        "0 ≤ statues[i] ≤ 20.\r\n",
        "\r\n",
        "[output] integer\r\n",
        "\r\n",
        "The minimal number of statues that need to be added to existing statues such that it contains every integer size from an interval [L, R] (for some L, R) and no other sizes."
      ]
    },
    {
      "cell_type": "code",
      "metadata": {
        "id": "hqEI706Z3mA9"
      },
      "source": [
        "def makeArrayConsecutive2(statues):\r\n",
        "    result = 0\r\n",
        "    statues = sorted(statues)\r\n",
        "    for i in range(len(statues)-1):\r\n",
        "        result += (statues[i+1]-statues[i]-1)\r\n",
        "    return result"
      ],
      "execution_count": null,
      "outputs": []
    },
    {
      "cell_type": "code",
      "metadata": {
        "id": "0a96gw4I3xnu"
      },
      "source": [
        "#More elegant, but the logic that went into finding this answer is tough to factor in my head:\r\n",
        "''' I see they used the need for there to be an increase by one per element so if you take the \r\n",
        "highest and lowest, the amount of elements in between would be short by the number of statues \r\n",
        "needed to complete the set. the plus one because: 0 indexing of len ''' \r\n",
        "\r\n",
        "def makeArrayConsecutive3(statues):\r\n",
        "    return max(statues) - min(statues) - len(statues) + 1 "
      ],
      "execution_count": null,
      "outputs": []
    },
    {
      "cell_type": "code",
      "metadata": {
        "id": "rdS2b4qQ5zRu"
      },
      "source": [
        "#Also good\r\n",
        "\r\n",
        "def makeArrayConsecutive4(statues):\r\n",
        "    return sum([1 for i in range(min(statues), max(statues)) if i not in statues])\r\n",
        "     # sums a list of 1's that is the length of the number of missing hieghts"
      ],
      "execution_count": null,
      "outputs": []
    },
    {
      "cell_type": "code",
      "metadata": {
        "colab": {
          "base_uri": "https://localhost:8080/"
        },
        "id": "Odq057t2Vfxe",
        "outputId": "c011fb23-b1cb-4a89-cb94-0e0693d108dc"
      },
      "source": [
        "1 % 2 "
      ],
      "execution_count": null,
      "outputs": [
        {
          "output_type": "execute_result",
          "data": {
            "text/plain": [
              "1"
            ]
          },
          "metadata": {
            "tags": []
          },
          "execution_count": 2
        }
      ]
    },
    {
      "cell_type": "code",
      "metadata": {
        "colab": {
          "base_uri": "https://localhost:8080/"
        },
        "id": "Gggkw3lLVl3v",
        "outputId": "e46e007c-3270-4017-8ae8-8467272b0d0c"
      },
      "source": [
        "2 % 2"
      ],
      "execution_count": null,
      "outputs": [
        {
          "output_type": "execute_result",
          "data": {
            "text/plain": [
              "0"
            ]
          },
          "metadata": {
            "tags": []
          },
          "execution_count": 3
        }
      ]
    },
    {
      "cell_type": "markdown",
      "metadata": {
        "id": "ldsW77Nc0pbo"
      },
      "source": [
        "# maxMultiple\r\n",
        "Given a divisor and a bound, find the largest integer N such that:\r\n",
        "\r\n",
        "N is divisible by divisor.\r\n",
        "N is less than or equal to bound.\r\n",
        "N is greater than 0.\r\n",
        "It is guaranteed that such a number exists.\r\n",
        "\r\n",
        "Example\r\n",
        "\r\n",
        "For divisor = 3 and bound = 10, the output should be\r\n",
        "maxMultiple(divisor, bound) = 9.\r\n",
        "\r\n",
        "The largest integer divisible by 3 and not larger than 10 is 9."
      ]
    },
    {
      "cell_type": "code",
      "metadata": {
        "id": "oZZkGHHh0oW6"
      },
      "source": [
        "def maxMultiple(divisor, bound):\r\n",
        "    return bound-bound%divisor"
      ],
      "execution_count": null,
      "outputs": []
    },
    {
      "cell_type": "markdown",
      "metadata": {
        "id": "yFDzPKYm1F9_"
      },
      "source": [
        "# circleOfNumbers\r\n",
        "Consider integer numbers from 0 to n - 1 written down along the circle in such a way that the distance between any two neighboring numbers is equal (note that 0 and n - 1 are neighboring, too).\r\n",
        "\r\n",
        "Given n and firstNumber, find the number which is written in the radially opposite position to firstNumber.\r\n",
        "\r\n",
        "Example\r\n",
        "\r\n",
        "\r\n",
        "<img src=\"https://codesignal.s3.amazonaws.com/tasks/circleOfNumbers/img/example.png?_tm=1582003395936\" alt=\"\">\r\n",
        "\r\n",
        "\r\n",
        "For n = 10 and firstNumber = 2, the output should be\r\n",
        "circleOfNumbers(n, firstNumber) = 7.\r\n",
        "\r\n"
      ]
    },
    {
      "cell_type": "code",
      "metadata": {
        "colab": {
          "base_uri": "https://localhost:8080/"
        },
        "id": "Rt48UpBwOpfh",
        "outputId": "96811f13-601d-4191-a7af-d07e92e4f41f"
      },
      "source": [
        "a = [1, 3, 8]\r\n",
        "b = a\r\n",
        "b[0] = 5\r\n",
        "print(a)"
      ],
      "execution_count": null,
      "outputs": [
        {
          "output_type": "stream",
          "text": [
            "[5, 3, 8]\n"
          ],
          "name": "stdout"
        }
      ]
    },
    {
      "cell_type": "markdown",
      "metadata": {
        "id": "7nR32BdAeAO0"
      },
      "source": [
        "# lateRide\r\n",
        "\r\n",
        "One night you go for a ride on your motorcycle. At 00:00 you start your engine, and the built-in timer automatically begins counting the length of your ride, in minutes. Off you go to explore the neighborhood.\r\n",
        "\r\n",
        "When you finally decide to head back, you realize there's a chance the bridges on your route home are up, leaving you stranded! Unfortunately, you don't have your watch on you and don't know what time it is. All you know thanks to the bike's timer is that n minutes have passed since 00:00.\r\n",
        "\r\n",
        "Using the bike's timer, calculate the current time. Return an answer as the sum of digits that the digital timer in the format hh:mm would show.\r\n",
        "\r\n",
        "Example\r\n",
        "\r\n",
        "For n = 240, the output should be\r\n",
        "lateRide(n) = 4.\r\n",
        "\r\n",
        "Since 240 minutes have passed, the current time is 04:00. The digits sum up to 0 + 4 + 0 + 0 = 4, which is the answer.\r\n",
        "\r\n",
        "For n = 808, the output should be\r\n",
        "lateRide(n) = 14.\r\n",
        "\r\n",
        "808 minutes mean that it's 13:28 now, so the answer should be 1 + 3 + 2 + 8 = 14.\r\n",
        "\r\n",
        "Input/Output\r\n",
        "\r\n",
        "[execution time limit] 4 seconds (py3)\r\n",
        "\r\n",
        "[input] integer n\r\n",
        "\r\n",
        "The duration of your ride, in minutes. It is guaranteed that you've been riding for less than a day (24 hours).\r\n",
        "\r\n",
        "Guaranteed constraints:\r\n",
        "0 ≤ n < 60 · 24.\r\n",
        "\r\n",
        "[output] integer\r\n",
        "\r\n",
        "The sum of the digits the digital timer would show."
      ]
    },
    {
      "cell_type": "code",
      "metadata": {
        "id": "Kb8rlloHd_Sr"
      },
      "source": [
        "def lateRide(minutes):\r\n",
        "    hours = (minutes // 60)\r\n",
        "    minutes %= 60 \r\n",
        "    clock = hours*100 + minutes\r\n",
        "    result = 0\r\n",
        "    while clock:\r\n",
        "        result += clock % 10\r\n",
        "        clock //= 10\r\n",
        "    return result"
      ],
      "execution_count": null,
      "outputs": []
    },
    {
      "cell_type": "code",
      "metadata": {
        "id": "Mtd8qXJXenDN"
      },
      "source": [
        "# best answer on CodeSignal\r\n",
        "def lateRide(n):\r\n",
        "    return sum(map(int, str(n // 60 * 100 + n % 60)))"
      ],
      "execution_count": null,
      "outputs": []
    },
    {
      "cell_type": "markdown",
      "metadata": {
        "id": "5stzK7WArrlM"
      },
      "source": [
        "# phoneCall\r\n",
        "\r\n",
        "Some phone usage rate may be described as follows:\r\n",
        "\r\n",
        "first minute of a call costs min1 cents,\r\n",
        "each minute from the 2nd up to 10th (inclusive) costs min2_10 cents\r\n",
        "each minute after 10th costs min11 cents.\r\n",
        "You have s cents on your account before the call. What is the duration of the longest call (in minutes rounded down to the nearest integer) you can have?\r\n",
        "\r\n",
        "Example\r\n",
        "\r\n",
        "For min1 = 3, min2_10 = 1, min11 = 2, and s = 20, the output should be\r\n",
        "phoneCall(min1, min2_10, min11, s) = 14.\r\n",
        "\r\n",
        "Here's why:\r\n",
        "\r\n",
        "the first minute costs 3 cents, which leaves you with 20 - 3 = 17 cents;\r\n",
        "the total cost of minutes 2 through 10 is 1 * 9 = 9, so you can talk 9 more minutes and still have 17 - 9 = 8 cents;\r\n",
        "each next minute costs 2 cents, which means that you can talk 8 / 2 = 4 more minutes.\r\n",
        "Thus, the longest call you can make is 1 + 9 + 4 = 14 minutes long."
      ]
    },
    {
      "cell_type": "code",
      "metadata": {
        "id": "a2k2EcversCq"
      },
      "source": [
        "def phoneCall(min1, min2_10, min11, cents):\r\n",
        "    result = 0\r\n",
        "    if cents >= min1:\r\n",
        "        bal = cents - min1\r\n",
        "        result +=1\r\n",
        "        if bal == 0 : return result\r\n",
        "    else:\r\n",
        "        return result\r\n",
        "    if bal > 0 :\r\n",
        "        for i in range(9):\r\n",
        "            bal -= min2_10\r\n",
        "            result += 1\r\n",
        "            if bal < 0: \r\n",
        "                return result-1\r\n",
        "            elif bal == 0:\r\n",
        "                return result\r\n",
        "    return 10 + (bal//min11)"
      ],
      "execution_count": null,
      "outputs": []
    },
    {
      "cell_type": "markdown",
      "metadata": {
        "id": "9X_TvRHjDN9p"
      },
      "source": [
        "# knapsackLight\r\n",
        "\r\n",
        "You found two items in a treasure chest! The first item weighs weight1 and is worth value1, and the second item weighs weight2 and is worth value2. What is the total maximum value of the items you can take with you, assuming that your max weight capacity is maxW and you can't come back for the items later?\r\n",
        "\r\n",
        "Note that there are only two items and you can't bring more than one item of each type, i.e. you can't take two first items or two second items.\r\n",
        "\r\n",
        "Example\r\n",
        "\r\n",
        "For value1 = 10, weight1 = 5, value2 = 6, weight2 = 4, and maxW = 8, the output should be\r\n",
        "knapsackLight(value1, weight1, value2, weight2, maxW) = 10.\r\n",
        "\r\n",
        "You can only carry the first item.\r\n",
        "\r\n",
        "For value1 = 10, weight1 = 5, value2 = 6, weight2 = 4, and maxW = 9, the output should be\r\n",
        "knapsackLight(value1, weight1, value2, weight2, maxW) = 16.\r\n",
        "\r\n",
        "You're strong enough to take both of the items with you.\r\n",
        "\r\n",
        "For value1 = 5, weight1 = 3, value2 = 7, weight2 = 4, and maxW = 6, the output should be\r\n",
        "knapsackLight(value1, weight1, value2, weight2, maxW) = 7.\r\n",
        "\r\n",
        "You can't take both items, but you can take any of them."
      ]
    },
    {
      "cell_type": "code",
      "metadata": {
        "id": "YzCpMm7gDQL1"
      },
      "source": [
        "def knapsackLight(value1, weight1, value2, weight2, maxW):\r\n",
        "    if maxW >= weight1 + weight2:\r\n",
        "        return value1 + value2\r\n",
        "    elif maxW >= weight1 and value1 > value2:\r\n",
        "        return value1\r\n",
        "    elif maxW >= weight2 and value2 > value1:\r\n",
        "        return value2\r\n",
        "    elif maxW >= weight1:\r\n",
        "        return value1\r\n",
        "    elif maxW >= weight2:\r\n",
        "        return value2\r\n",
        "    else:\r\n",
        "        return 0\r\n"
      ],
      "execution_count": null,
      "outputs": []
    },
    {
      "cell_type": "code",
      "metadata": {
        "id": "XfTSyn2nDRLt"
      },
      "source": [
        "'''\r\n",
        " In a one liner (Saved because I learned from this that Booleans evaluate to 0 \r\n",
        " or 1 and can be used as such in math operastions... not pep8, but beuatiful\r\n",
        "'''\r\n",
        "def knapsackLight(value1, weight1, value2, weight2, maxW):\r\n",
        "  return max((weight1 + weight2 <=maxW) * (value1 + value2), (weight1 <=maxW) * value1, (weight2 <=maxW) * value2)\r\n"
      ],
      "execution_count": null,
      "outputs": []
    },
    {
      "cell_type": "code",
      "metadata": {
        "colab": {
          "base_uri": "https://localhost:8080/"
        },
        "id": "lTyZrnDkP7Rg",
        "outputId": "9a092442-b38d-455a-b3cc-33576e0f2c9a"
      },
      "source": [
        "5* True"
      ],
      "execution_count": null,
      "outputs": [
        {
          "output_type": "execute_result",
          "data": {
            "text/plain": [
              "5"
            ]
          },
          "metadata": {
            "tags": []
          },
          "execution_count": 3
        }
      ]
    },
    {
      "cell_type": "code",
      "metadata": {
        "colab": {
          "base_uri": "https://localhost:8080/"
        },
        "id": "q3R7xYR3Lg4z",
        "outputId": "16983747-f03b-4efc-810f-5537402379f9"
      },
      "source": [
        "5* False"
      ],
      "execution_count": null,
      "outputs": [
        {
          "output_type": "execute_result",
          "data": {
            "text/plain": [
              "0"
            ]
          },
          "metadata": {
            "tags": []
          },
          "execution_count": 2
        }
      ]
    },
    {
      "cell_type": "markdown",
      "metadata": {
        "id": "oQfqvni8QSbS"
      },
      "source": [
        "# extraNumber\r\n",
        "\r\n",
        "You're given three integers, a, b and c. It is guaranteed that two of these integers are equal to each other. What is the value of the third integer?\r\n",
        "\r\n",
        "Example\r\n",
        "\r\n",
        "For a = 2, b = 7, and c = 2, the output should be\r\n",
        "extraNumber(a, b, c) = 7.\r\n",
        "\r\n",
        "The two equal numbers are a and c. The third number (b) equals 7, which is the answer."
      ]
    },
    {
      "cell_type": "code",
      "metadata": {
        "id": "2IsZ_aDmP_Il"
      },
      "source": [
        "def extraNumber(a, b, c):\r\n",
        "    return max((a==b) * c, (a==c) * b, (c==b) *a)\r\n"
      ],
      "execution_count": null,
      "outputs": []
    },
    {
      "cell_type": "code",
      "metadata": {
        "id": "5AlebSidP-rS"
      },
      "source": [
        "def extraNumber(a, b, c):\r\n",
        "    return a^b^c #returns the 'odd man out' ^ operator with only return the value that do not match bitwise"
      ],
      "execution_count": null,
      "outputs": []
    },
    {
      "cell_type": "markdown",
      "metadata": {
        "id": "DffTru7kCrnz"
      },
      "source": [
        "# matrixElementsSum\r\n",
        "\r\n",
        "Given 'matrix', a rectangular matrix of integers, where each value represents the cost of the room, your task is to return the total sum of all rooms that are suitable for the CodeBots (ie: add up all the values that don't appear below a 0).\r\n",
        "\r\n",
        "Example\r\n",
        "![image.png](data:image/png;base64,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)\r\n",
        "For\r\n",
        "\r\n",
        "matrix = [[0, 1, 1, 2], \r\n",
        "          [0, 5, 0, 0], \r\n",
        "          [2, 0, 3, 3]]\r\n",
        "the output should be\r\n",
        "matrixElementsSum(matrix) = 9."
      ]
    },
    {
      "cell_type": "code",
      "metadata": {
        "id": "eAgZ2Zc0CqAr"
      },
      "source": [
        "def matrixElementsSum(matrix):\r\n",
        "    total = 0\r\n",
        "    for row in range(len(matrix)):\r\n",
        "        for col in range(len(matrix[0])):\r\n",
        "            if matrix[row][col] == 0 and row+1 < len(matrix):\r\n",
        "                matrix[row+1][col] = 0  #changes next row to 0 in haunted column \r\n",
        "            total += matrix[row][col]\r\n",
        "    \r\n",
        "    return total"
      ],
      "execution_count": null,
      "outputs": []
    },
    {
      "cell_type": "code",
      "metadata": {
        "id": "fVj1PVzjD819"
      },
      "source": [
        "#or\r\n",
        "def matrixElementsSum(m):\r\n",
        "    r = len(m)\r\n",
        "    c = len(m[0])\r\n",
        "    total=0\r\n",
        "    for j in range(c):        # for each column  (outer for loop)\r\n",
        "        for i in range(r):    # step down through rows (inner loop)\r\n",
        "            if m[i][j]!=0:    # check the element\r\n",
        "                total+=m[i][j]# add non-zeros\r\n",
        "            else:             # or move to next column since no\r\n",
        "                break         # more rooms are acceptable\r\n",
        "    return total\r\n"
      ],
      "execution_count": null,
      "outputs": []
    },
    {
      "cell_type": "markdown",
      "metadata": {
        "id": "0NthXHSSWGKe"
      },
      "source": [
        "# magicalWell\r\n",
        "\r\n",
        "You are standing at a magical well. It has two positive integers written on it: a and b. Each time you cast a magic marble into the well, it gives you a * b dollars and then both a and b increase by 1. You have n magic marbles. How much money will you make?\r\n",
        "\r\n",
        "Example\r\n",
        "\r\n",
        "For a = 1, b = 2, and n = 2, the output should be\r\n",
        "magicalWell(a, b, n) = 8.\r\n",
        "\r\n",
        "You will cast your first marble and get $2, after which the numbers will become 2 and 3. When you cast your second marble, the well will give you $6. Overall, you'll make $8. So, the output is 8."
      ]
    },
    {
      "cell_type": "code",
      "metadata": {
        "id": "ekvombbxWG-C"
      },
      "source": [
        "def magicalWell(a, b, n):\r\n",
        "    sum = 0\r\n",
        "    for i in range(0,n):\r\n",
        "        sum += (a+i)*(b+i)\r\n",
        "    return sum"
      ],
      "execution_count": null,
      "outputs": []
    },
    {
      "cell_type": "markdown",
      "metadata": {
        "id": "ejkuLC7oWQR-"
      },
      "source": [
        "# lineUp\r\n",
        "\r\n",
        "To prepare his students for an upcoming game, the sports coach decides to try some new training drills. To begin with, he lines them up and starts with the following warm-up exercise: when the coach says 'L', he instructs the students to turn to the left. Alternatively, when he says 'R', they should turn to the right. Finally, when the coach says 'A', the students should turn around.\r\n",
        "\r\n",
        "Unfortunately some students (not all of them, but at least one) can't tell left from right, meaning they always turn right when they hear 'L' and left when they hear 'R'. The coach wants to know how many times the students end up facing the same direction.\r\n",
        "\r\n",
        "Given the list of commands the coach has given, count the number of such commands after which the students will be facing the same direction.\r\n",
        "\r\n",
        "Example\r\n",
        "\r\n",
        "For commands = \"LLARL\", the output should be\r\n",
        "lineUp(commands) = 3.\r\n",
        "\r\n",
        "Let's say that there are 4 students, and the second one can't tell left from right. In this case, only after the second, third and fifth commands will the students face the same direction.\r\n",
        "\r\n",
        "<img src=\"https://codesignal.s3.amazonaws.com/tasks/lineUp/img/example.png?_tm=1582036863271\" alt=\"\">"
      ]
    },
    {
      "cell_type": "code",
      "metadata": {
        "id": "Fdj-I295WQsL"
      },
      "source": [
        "def lineUp(commands):\r\n",
        "    weird = False\r\n",
        "    total = 0\r\n",
        "    for command in commands:\r\n",
        "        if command == 'L' or command == 'R':\r\n",
        "            weird = not weird\r\n",
        "        if not weird:\r\n",
        "            total += 1\r\n",
        "    return total"
      ],
      "execution_count": null,
      "outputs": []
    },
    {
      "cell_type": "markdown",
      "metadata": {
        "id": "ueWukEhwqecT"
      },
      "source": [
        "# additionWithoutCarrying\r\n",
        "\r\n",
        "(or what I like to call \"Recast-a-thon\")\r\n",
        "\r\n",
        "A little boy is studying arithmetic. He has just learned how to add two integers, written one below another, column by column. But he always forgets about the important part - carrying.\r\n",
        "\r\n",
        "Given two integers, your task is to find the result which the little boy will get.\r\n",
        "\r\n",
        "Note: The boy had learned from this site, so feel free to check it out too if you are not familiar with column addition.\r\n",
        "\r\n",
        "Example\r\n",
        "\r\n",
        "For param1 = 456 and param2 = 1734, the output should be\r\n",
        "additionWithoutCarrying(param1, param2) = 1180.\r\n",
        "\r\n",
        "   456\r\n",
        "  1734\r\n",
        "+ ____\r\n",
        "  1180\r\n",
        "The boy performs the following operations from right to left:\r\n",
        "\r\n",
        "6 + 4 = 10 but he forgets about carrying the 1 and just writes down the 0 in the last column\r\n",
        "5 + 3 = 8\r\n",
        "4 + 7 = 11 but he forgets about the leading 1 and just writes down 1 under 4 and 7.\r\n",
        "There is no digit in the first number corresponding to the leading digit of the second one, so the boy imagines that 0 is written before 456. Thus, he gets 0 + 1 = 1."
      ]
    },
    {
      "cell_type": "code",
      "metadata": {
        "id": "tdqVU3fJqcRW"
      },
      "source": [
        "def additionWithoutCarrying(p1, p2):\r\n",
        "    s1, s2 = str(p1), str(p2)\r\n",
        "    l1,l2 = list(s1),list(s2)\r\n",
        "    l3 = []\r\n",
        "    \r\n",
        "    l1 = l1[::-1]\r\n",
        "    l2 = l2[::-1]\r\n",
        "    for i in range(max(len(l1), len(l2))):\r\n",
        "        if i < len(l1) and i < len(l2):\r\n",
        "            l3.append(str((int(l1[i])+int(l2[i])) % 10))\r\n",
        "        elif i < len(l1):\r\n",
        "            l3.append(l1[i])\r\n",
        "        elif i < len(l2):\r\n",
        "            l3.append(l2[i])\r\n",
        "    l3 = l3[::-1]\r\n",
        "    for num in l3:\r\n",
        "        result = \"\".join(l3)\r\n",
        "    return int(result)"
      ],
      "execution_count": null,
      "outputs": []
    }
  ]
}