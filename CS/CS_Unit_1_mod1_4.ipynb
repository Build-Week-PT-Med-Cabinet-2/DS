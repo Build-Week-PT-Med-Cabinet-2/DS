{
  "nbformat": 4,
  "nbformat_minor": 0,
  "metadata": {
    "colab": {
      "name": "CS Unit 1 mod1-3.ipynb",
      "provenance": [],
      "collapsed_sections": []
    },
    "kernelspec": {
      "name": "python3",
      "display_name": "Python 3"
    }
  },
  "cells": [
    {
      "cell_type": "code",
      "metadata": {
        "id": "7vzIZP8WUDKk"
      },
      "source": [
        "from string import ascii_lowercase\r\n",
        "abc = ascii_lowercase"
      ],
      "execution_count": null,
      "outputs": []
    },
    {
      "cell_type": "code",
      "metadata": {
        "colab": {
          "base_uri": "https://localhost:8080/",
          "height": 35
        },
        "id": "yFluJSqZc9y0",
        "outputId": "23ebd660-ae33-4a39-a14b-c9a020768c52"
      },
      "source": [
        "abc[0]"
      ],
      "execution_count": null,
      "outputs": [
        {
          "output_type": "execute_result",
          "data": {
            "application/vnd.google.colaboratory.intrinsic+json": {
              "type": "string"
            },
            "text/plain": [
              "'a'"
            ]
          },
          "metadata": {
            "tags": []
          },
          "execution_count": 2
        }
      ]
    },
    {
      "cell_type": "code",
      "metadata": {
        "id": "cGja5YmFdTjO"
      },
      "source": [
        "def csSchoolYearsAndGroups(years, groups):\r\n",
        "    \r\n",
        "    year = 1\r\n",
        "    output = \"\"\r\n",
        "    for each in range(years):\r\n",
        "        for i in range(groups):\r\n",
        "            letter = abc[i]\r\n",
        "            output += str(year) + letter + ', '\r\n",
        "        year += 1\r\n",
        "    return output[:-2]"
      ],
      "execution_count": null,
      "outputs": []
    },
    {
      "cell_type": "code",
      "metadata": {
        "colab": {
          "base_uri": "https://localhost:8080/",
          "height": 71
        },
        "id": "W5R__WuodWaY",
        "outputId": "6341640e-e8c3-41b1-affd-451084b62b25"
      },
      "source": [
        "csSchoolYearsAndGroups(7, 10)"
      ],
      "execution_count": null,
      "outputs": [
        {
          "output_type": "execute_result",
          "data": {
            "application/vnd.google.colaboratory.intrinsic+json": {
              "type": "string"
            },
            "text/plain": [
              "'1a, 1b, 1c, 1d, 1e, 1f, 1g, 1h, 1i, 1j, 2a, 2b, 2c, 2d, 2e, 2f, 2g, 2h, 2i, 2j, 3a, 3b, 3c, 3d, 3e, 3f, 3g, 3h, 3i, 3j, 4a, 4b, 4c, 4d, 4e, 4f, 4g, 4h, 4i, 4j, 5a, 5b, 5c, 5d, 5e, 5f, 5g, 5h, 5i, 5j, 6a, 6b, 6c, 6d, 6e, 6f, 6g, 6h, 6i, 6j, 7a, 7b, 7c, 7d, 7e, 7f, 7g, 7h, 7i, 7j'"
            ]
          },
          "metadata": {
            "tags": []
          },
          "execution_count": 6
        }
      ]
    },
    {
      "cell_type": "code",
      "metadata": {
        "id": "bKmpFRqZfBH9"
      },
      "source": [
        "def csMakeItJazzy(chords):\r\n",
        "  results = []\r\n",
        "\r\n",
        "  for each in chords:\r\n",
        "      if each[-1] != '7':\r\n",
        "        results.append(each + '7')\r\n",
        "      else : results.append(each)\r\n",
        "\r\n",
        "  return results"
      ],
      "execution_count": null,
      "outputs": []
    },
    {
      "cell_type": "code",
      "metadata": {
        "colab": {
          "base_uri": "https://localhost:8080/"
        },
        "id": "rf76-DjQfCkU",
        "outputId": "c866839d-66f9-44a2-f1ad-43700c47a584"
      },
      "source": [
        "csMakeItJazzy(['G', 'H', 'J'])"
      ],
      "execution_count": null,
      "outputs": [
        {
          "output_type": "execute_result",
          "data": {
            "text/plain": [
              "['G7', 'H7', 'J7']"
            ]
          },
          "metadata": {
            "tags": []
          },
          "execution_count": 12
        }
      ]
    },
    {
      "cell_type": "code",
      "metadata": {
        "colab": {
          "base_uri": "https://localhost:8080/"
        },
        "id": "Amsr_udAmW58",
        "outputId": "d255f3df-3ba1-46bb-d764-bd1caceb0bd7"
      },
      "source": [
        "csMakeItJazzy(['E7', 'A', 'J7'])"
      ],
      "execution_count": null,
      "outputs": [
        {
          "output_type": "execute_result",
          "data": {
            "text/plain": [
              "['E7', 'A7', 'J7']"
            ]
          },
          "metadata": {
            "tags": []
          },
          "execution_count": 13
        }
      ]
    },
    {
      "cell_type": "code",
      "metadata": {
        "id": "jhZDdWsEuOYv"
      },
      "source": [
        "str_1 = 'asdf'\r\n",
        "str_2 = 'ashdf'"
      ],
      "execution_count": 2,
      "outputs": []
    },
    {
      "cell_type": "code",
      "metadata": {
        "id": "n8gl2UULuNRE"
      },
      "source": [
        "def csFindAddedLetter(str_1, str_2):\r\n",
        "    return str(list(set(str_2) - set(str_1))[0])"
      ],
      "execution_count": null,
      "outputs": []
    },
    {
      "cell_type": "code",
      "metadata": {
        "colab": {
          "base_uri": "https://localhost:8080/",
          "height": 53
        },
        "id": "PXYBzKgduZ8x",
        "outputId": "bf2b68b4-47a7-4f7d-fe74-9a7c4c1d53e1"
      },
      "source": [
        "print(str_1, str_2)\r\n",
        "csFindAddedLetter(str_1, str_2)"
      ],
      "execution_count": null,
      "outputs": [
        {
          "output_type": "stream",
          "text": [
            "asdf ashdf\n"
          ],
          "name": "stdout"
        },
        {
          "output_type": "execute_result",
          "data": {
            "application/vnd.google.colaboratory.intrinsic+json": {
              "type": "string"
            },
            "text/plain": [
              "'h'"
            ]
          },
          "metadata": {
            "tags": []
          },
          "execution_count": 16
        }
      ]
    },
    {
      "cell_type": "markdown",
      "metadata": {
        "id": "MaRT0ce1m4lD"
      },
      "source": [
        "This worked in a notebook, but not in Codesignal... the next function is functional in both"
      ]
    },
    {
      "cell_type": "code",
      "metadata": {
        "id": "S4tldNFFj6zJ"
      },
      "source": [
        "def csSortedTwoSum(numbers, target):\r\n",
        "    found = False\r\n",
        "    while not found:\r\n",
        "        for first in numbers:\r\n",
        "            for second in numbers:\r\n",
        "                if first != second & (not found):\r\n",
        "                    found = (target-second == first)\r\n",
        "                    if found: return [numbers.index(first),numbers.index(second)]"
      ],
      "execution_count": null,
      "outputs": []
    },
    {
      "cell_type": "code",
      "metadata": {
        "id": "tm2doNQlFCGb"
      },
      "source": [
        "def csFindAddedLetter(str_1, str_2):\r\n",
        "    for letter in str_1:\r\n",
        "        if letter in str_2:\r\n",
        "            str_2 = str_2.replace(letter,'',1)\r\n",
        "    return str_2"
      ],
      "execution_count": 9,
      "outputs": []
    },
    {
      "cell_type": "code",
      "metadata": {
        "id": "PdATLXjz6NT5"
      },
      "source": [
        "def csFindAddedLetter2(str_1, str2):\r\n",
        "  for char in str_2 :\r\n",
        "    if str_1.count(char) != str_2.count(char):\r\n",
        "      return char"
      ],
      "execution_count": 6,
      "outputs": []
    },
    {
      "cell_type": "code",
      "metadata": {
        "colab": {
          "base_uri": "https://localhost:8080/",
          "height": 36
        },
        "id": "YHTr5r-g80Lb",
        "outputId": "ab05dc0a-aa4d-4dca-d3cc-940249ea12af"
      },
      "source": [
        "csFindAddedLetter(str_1, str_2)"
      ],
      "execution_count": 10,
      "outputs": [
        {
          "output_type": "execute_result",
          "data": {
            "application/vnd.google.colaboratory.intrinsic+json": {
              "type": "string"
            },
            "text/plain": [
              "'h'"
            ]
          },
          "metadata": {
            "tags": []
          },
          "execution_count": 10
        }
      ]
    },
    {
      "cell_type": "code",
      "metadata": {
        "colab": {
          "base_uri": "https://localhost:8080/",
          "height": 36
        },
        "id": "YNGtPA-3nGXX",
        "outputId": "fd39553b-4206-4967-8751-bc6e9d8bc937"
      },
      "source": [
        "csFindAddedLetter2(str_1, str_2)"
      ],
      "execution_count": 7,
      "outputs": [
        {
          "output_type": "execute_result",
          "data": {
            "application/vnd.google.colaboratory.intrinsic+json": {
              "type": "string"
            },
            "text/plain": [
              "'h'"
            ]
          },
          "metadata": {
            "tags": []
          },
          "execution_count": 7
        }
      ]
    },
    {
      "cell_type": "code",
      "metadata": {
        "id": "5TocTkfXJC4g"
      },
      "source": [
        "def csFirstUniqueChar(input_str):\r\n",
        "    index = -1\r\n",
        "    for idx, char in enumerate(input_str):\r\n",
        "        count = 0\r\n",
        "        for idx2, char2 in enumerate(input_str):\r\n",
        "            if char.lower() == char2.lower():\r\n",
        "                count += 1\r\n",
        "        if count == 1 :\r\n",
        "            index = idx\r\n",
        "            break \r\n",
        "    return index\r\n"
      ],
      "execution_count": null,
      "outputs": []
    },
    {
      "cell_type": "markdown",
      "metadata": {
        "id": "5m_H1hGzoISQ"
      },
      "source": [
        "After submitting to codesignal, I updated this to work ignoring case."
      ]
    },
    {
      "cell_type": "code",
      "metadata": {
        "colab": {
          "base_uri": "https://localhost:8080/"
        },
        "id": "VwXuQuetnRRe",
        "outputId": "87e94c51-9289-43b0-a97d-d9ef79fd3069"
      },
      "source": [
        "csFirstUniqueChar(\"I love Lambda School\")"
      ],
      "execution_count": null,
      "outputs": [
        {
          "output_type": "execute_result",
          "data": {
            "text/plain": [
              "0"
            ]
          },
          "metadata": {
            "tags": []
          },
          "execution_count": 24
        }
      ]
    },
    {
      "cell_type": "code",
      "metadata": {
        "colab": {
          "base_uri": "https://localhost:8080/"
        },
        "id": "7nclNOKUngEn",
        "outputId": "48bf13ca-cd60-4bf8-d482-f93a8fac2c7e"
      },
      "source": [
        "csFirstUniqueChar(\"I intend to complete Lambda on time\")"
      ],
      "execution_count": null,
      "outputs": [
        {
          "output_type": "execute_result",
          "data": {
            "text/plain": [
              "12"
            ]
          },
          "metadata": {
            "tags": []
          },
          "execution_count": 25
        }
      ]
    },
    {
      "cell_type": "markdown",
      "metadata": {
        "id": "EKq12pfloX0N"
      },
      "source": [
        "# Live lecture examples"
      ]
    },
    {
      "cell_type": "code",
      "metadata": {
        "colab": {
          "base_uri": "https://localhost:8080/"
        },
        "id": "psM5gNhxM4GI",
        "outputId": "d6cf0d39-476a-41bd-ee52-03510a67467d"
      },
      "source": [
        "accounts = [[1,2,3,],[10,11,12]]\r\n",
        "totals = []\r\n",
        "for i in accounts:\r\n",
        "  totals.append(sum(i))\r\n",
        "max(totals)"
      ],
      "execution_count": null,
      "outputs": [
        {
          "output_type": "execute_result",
          "data": {
            "text/plain": [
              "33"
            ]
          },
          "metadata": {
            "tags": []
          },
          "execution_count": 26
        }
      ]
    },
    {
      "cell_type": "markdown",
      "metadata": {
        "id": "O1UvOFKdN8JV"
      },
      "source": [
        "# Mod 4"
      ]
    },
    {
      "cell_type": "code",
      "metadata": {
        "id": "bleaMShRN7Sq"
      },
      "source": [
        "def csReverseIntegerBits(n):\r\n",
        "    binary = bin(n)\r\n",
        "    string1 = str(binary)[2:]\r\n",
        "    rev_str = \"0b\" + string1[::-1]\r\n",
        "    return int(rev_str, 2)\r\n"
      ],
      "execution_count": null,
      "outputs": []
    },
    {
      "cell_type": "code",
      "metadata": {
        "id": "8qqCVAleR0vi"
      },
      "source": [
        "binary = \"0100100001100101011011000110110001101111\""
      ],
      "execution_count": 2,
      "outputs": []
    },
    {
      "cell_type": "code",
      "metadata": {
        "id": "lSQQ41u9N_qW"
      },
      "source": [
        "def csBinaryToASCII(binary):\r\n",
        "    result = \"\"\r\n",
        "    bin_chars = [binary[i:i+8] for i in range(0, len(binary), 8)]\r\n",
        "    for each in bin_chars :\r\n",
        "        result = result + \"\".join(chr(int(each, 2)))\r\n",
        "    return result"
      ],
      "execution_count": 3,
      "outputs": []
    },
    {
      "cell_type": "code",
      "metadata": {
        "colab": {
          "base_uri": "https://localhost:8080/",
          "height": 53
        },
        "id": "Sblht42BRvi5",
        "outputId": "e762be94-ccc5-403e-b3f2-44e9c5d05430"
      },
      "source": [
        "csBinaryToASCII(binary)"
      ],
      "execution_count": 4,
      "outputs": [
        {
          "output_type": "stream",
          "text": [
            "['01001000', '01100101', '01101100', '01101100', '01101111']\n"
          ],
          "name": "stdout"
        },
        {
          "output_type": "execute_result",
          "data": {
            "application/vnd.google.colaboratory.intrinsic+json": {
              "type": "string"
            },
            "text/plain": [
              "'Hello'"
            ]
          },
          "metadata": {
            "tags": []
          },
          "execution_count": 4
        }
      ]
    },
    {
      "cell_type": "code",
      "metadata": {
        "id": "ulCQYZVHUit3"
      },
      "source": [
        "def csRaindrops(number):\r\n",
        "    result = \"\"\r\n",
        "    if number % 3 == 0 : result = result + \"Pling\"\r\n",
        "    if number % 5 == 0 : result = result + \"Plang\"\r\n",
        "    if number % 7 == 0 : result = result + \"Plong\"\r\n",
        "    if result == \"\": \r\n",
        "        return str(number) \r\n",
        "    else: \r\n",
        "        return result"
      ],
      "execution_count": null,
      "outputs": []
    },
    {
      "cell_type": "markdown",
      "metadata": {
        "id": "vwyI80hIVULV"
      },
      "source": [
        "## list comprehension practice for syntax"
      ]
    },
    {
      "cell_type": "code",
      "metadata": {
        "colab": {
          "base_uri": "https://localhost:8080/"
        },
        "id": "rJKHjJjBU1Yx",
        "outputId": "9702de8c-14ef-434f-ce0b-48d99b95a343"
      },
      "source": [
        "new_list = [\"a\" + str(i) for i in range(1, 20, 2)]\r\n",
        "new_list"
      ],
      "execution_count": 6,
      "outputs": [
        {
          "output_type": "execute_result",
          "data": {
            "text/plain": [
              "['a1', 'a3', 'a5', 'a7', 'a9', 'a11', 'a13', 'a15', 'a17', 'a19']"
            ]
          },
          "metadata": {
            "tags": []
          },
          "execution_count": 6
        }
      ]
    }
  ]
}