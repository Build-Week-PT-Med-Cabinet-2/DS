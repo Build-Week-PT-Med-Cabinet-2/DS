{
  "nbformat": 4,
  "nbformat_minor": 0,
  "metadata": {
    "colab": {
      "name": "CodeSignal Core 3",
      "provenance": []
    },
    "kernelspec": {
      "name": "python3",
      "display_name": "Python 3"
    },
    "language_info": {
      "name": "python"
    }
  },
  "cells": [
    {
      "cell_type": "markdown",
      "metadata": {
        "id": "-BThT342d75s"
      },
      "source": [
        "Given a string, enclose it in round brackets.\n",
        "\n",
        "Example\n",
        "\n",
        "For inputString = \"abacaba\", the output should be\n",
        "encloseInBrackets(inputString) = \"(abacaba)\".\n"
      ]
    },
    {
      "cell_type": "code",
      "metadata": {
        "id": "iGtLeUj2dybx"
      },
      "source": [
        "def encloseInBrackets(inputString):\n",
        "    return(f\"({inputString})\")"
      ],
      "execution_count": null,
      "outputs": []
    },
    {
      "cell_type": "markdown",
      "metadata": {
        "id": "NBrUfyFmeAzR"
      },
      "source": [
        "Proper nouns always begin with a capital letter, followed by small letters.\n",
        "\n",
        "Correct a given proper noun so that it fits this statement.\n",
        "\n",
        "Example\n",
        "\n",
        "For noun = \"pARiS\", the output should be\n",
        "properNounCorrection(noun) = \"Paris\";\n",
        "For noun = \"John\", the output should be\n",
        "properNounCorrection(noun) = \"John\"."
      ]
    },
    {
      "cell_type": "code",
      "metadata": {
        "id": "SUnEH4HteMNC"
      },
      "source": [
        "def properNounCorrection(noun):\n",
        "    return noun.title()"
      ],
      "execution_count": null,
      "outputs": []
    },
    {
      "cell_type": "markdown",
      "metadata": {
        "id": "kYPP31MzeYQZ"
      },
      "source": [
        "Determine whether the given string can be obtained by one concatenation of some string to itself.\n",
        "\n",
        "Example\n",
        "\n",
        "For inputString = \"tandemtandem\", the output should be\n",
        "isTandemRepeat(inputString) = true;\n",
        "For inputString = \"qqq\", the output should be\n",
        "isTandemRepeat(inputString) = false;\n",
        "For inputString = \"2w2ww\", the output should be\n",
        "isTandemRepeat(inputString) = false."
      ]
    },
    {
      "cell_type": "code",
      "metadata": {
        "id": "kt3wvYHTgGPZ"
      },
      "source": [
        "def isTandemRepeat(inputString):\n",
        "    mid = len(inputString)//2\n",
        "    return inputString[:mid] == inputString[mid:] # slices are 0 indexed and exclusive"
      ],
      "execution_count": null,
      "outputs": []
    },
    {
      "cell_type": "markdown",
      "metadata": {
        "id": "vIXkNy9cgTyo"
      },
      "source": [
        "Given a string, check if it can become a palindrome through a case change of some (possibly, none) letters.\n",
        "\n",
        "Example\n",
        "\n",
        "For inputString = \"AaBaa\", the output should be\n",
        "isCaseInsensitivePalindrome(inputString) = true.\n",
        "\n",
        "\"aabaa\" is a palindrome as well as \"AABAA\", \"aaBaa\", etc.\n",
        "\n",
        "For inputString = \"abac\", the output should be\n",
        "isCaseInsensitivePalindrome(inputString) = false.\n",
        "\n",
        "All the strings which can be obtained via changing case of some group of letters, i.e. \"abac\", \"Abac\", \"aBAc\" and 13 more, are not palindromes."
      ]
    },
    {
      "cell_type": "code",
      "metadata": {
        "id": "XhMbi9Tyg6Co"
      },
      "source": [
        "def isCaseInsensitivePalindrome(inputString):\n",
        "    return inputString.lower() == inputString[::-1].lower()"
      ],
      "execution_count": null,
      "outputs": []
    },
    {
      "cell_type": "markdown",
      "metadata": {
        "id": "ni9sI6Osg9oA"
      },
      "source": [
        ""
      ]
    }
  ]
}