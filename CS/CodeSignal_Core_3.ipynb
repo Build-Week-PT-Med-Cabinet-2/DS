{
  "nbformat": 4,
  "nbformat_minor": 0,
  "metadata": {
    "colab": {
      "name": "CodeSignal Core 3",
      "provenance": [],
      "collapsed_sections": []
    },
    "kernelspec": {
      "name": "python3",
      "display_name": "Python 3"
    },
    "language_info": {
      "name": "python"
    }
  },
  "cells": [
    {
      "cell_type": "markdown",
      "metadata": {
        "id": "-BThT342d75s"
      },
      "source": [
        "Given a string, enclose it in round brackets.\n",
        "\n",
        "Example\n",
        "\n",
        "For inputString = \"abacaba\", the output should be\n",
        "encloseInBrackets(inputString) = \"(abacaba)\".\n"
      ]
    },
    {
      "cell_type": "code",
      "metadata": {
        "id": "iGtLeUj2dybx"
      },
      "source": [
        "def encloseInBrackets(inputString):\n",
        "    return(f\"({inputString})\")"
      ],
      "execution_count": null,
      "outputs": []
    },
    {
      "cell_type": "markdown",
      "metadata": {
        "id": "NBrUfyFmeAzR"
      },
      "source": [
        "Proper nouns always begin with a capital letter, followed by small letters.\n",
        "\n",
        "Correct a given proper noun so that it fits this statement.\n",
        "\n",
        "Example\n",
        "\n",
        "For noun = \"pARiS\", the output should be\n",
        "properNounCorrection(noun) = \"Paris\";\n",
        "For noun = \"John\", the output should be\n",
        "properNounCorrection(noun) = \"John\"."
      ]
    },
    {
      "cell_type": "code",
      "metadata": {
        "id": "SUnEH4HteMNC"
      },
      "source": [
        "def properNounCorrection(noun):\n",
        "    return noun.title()"
      ],
      "execution_count": null,
      "outputs": []
    },
    {
      "cell_type": "markdown",
      "metadata": {
        "id": "kYPP31MzeYQZ"
      },
      "source": [
        "Determine whether the given string can be obtained by one concatenation of some string to itself.\n",
        "\n",
        "Example\n",
        "\n",
        "For inputString = \"tandemtandem\", the output should be\n",
        "isTandemRepeat(inputString) = true;\n",
        "For inputString = \"qqq\", the output should be\n",
        "isTandemRepeat(inputString) = false;\n",
        "For inputString = \"2w2ww\", the output should be\n",
        "isTandemRepeat(inputString) = false."
      ]
    },
    {
      "cell_type": "code",
      "metadata": {
        "id": "kt3wvYHTgGPZ"
      },
      "source": [
        "def isTandemRepeat(inputString):\n",
        "    mid = len(inputString)//2\n",
        "    return inputString[:mid] == inputString[mid:] # slices are 0 indexed and exclusive"
      ],
      "execution_count": null,
      "outputs": []
    },
    {
      "cell_type": "markdown",
      "metadata": {
        "id": "vIXkNy9cgTyo"
      },
      "source": [
        "Given a string, check if it can become a palindrome through a case change of some (possibly, none) letters.\n",
        "\n",
        "Example\n",
        "\n",
        "For inputString = \"AaBaa\", the output should be\n",
        "isCaseInsensitivePalindrome(inputString) = true.\n",
        "\n",
        "\"aabaa\" is a palindrome as well as \"AABAA\", \"aaBaa\", etc.\n",
        "\n",
        "For inputString = \"abac\", the output should be\n",
        "isCaseInsensitivePalindrome(inputString) = false.\n",
        "\n",
        "All the strings which can be obtained via changing case of some group of letters, i.e. \"abac\", \"Abac\", \"aBAc\" and 13 more, are not palindromes."
      ]
    },
    {
      "cell_type": "code",
      "metadata": {
        "id": "XhMbi9Tyg6Co"
      },
      "source": [
        "def isCaseInsensitivePalindrome(inputString):\n",
        "    return inputString.lower() == inputString[::-1].lower()"
      ],
      "execution_count": null,
      "outputs": []
    },
    {
      "cell_type": "markdown",
      "metadata": {
        "id": "ni9sI6Osg9oA"
      },
      "source": [
        "An email address such as \"John.Smith@example.com\" is made up of a local part (\"John.Smith\"), an \"@\" symbol, then a domain part (\"example.com\").\n",
        "\n",
        "The domain name part of an email address may only consist of letters, digits, hyphens and dots. The local part, however, also allows a lot of different special characters. Here you can look at several examples of correct and incorrect email addresses.\n",
        "\n",
        "Given a valid email address, find its domain part.\n",
        "\n",
        "Example\n",
        "\n",
        "For address = \"prettyandsimple@example.com\", the output should be\n",
        "findEmailDomain(address) = \"example.com\";\n",
        "For address = \"fully-qualified-domain@codesignal.com\", the output should be\n",
        "findEmailDomain(address) = \"codesignal.com\"."
      ]
    },
    {
      "cell_type": "code",
      "metadata": {
        "id": "43NtaBHL6Tad"
      },
      "source": [
        "def findEmailDomain(address):\n",
        "    split_email_list = address.split('@')\n",
        "    return split_email_list[-1]"
      ],
      "execution_count": null,
      "outputs": []
    },
    {
      "cell_type": "markdown",
      "metadata": {
        "id": "gKrO3Pzs6eGN"
      },
      "source": [
        "You are implementing your own HTML editor. To make it more comfortable for developers you would like to add an auto-completion feature to it.\n",
        "\n",
        "Given the starting HTML tag, find the appropriate end tag which your editor should propose.\n",
        "\n",
        "If you are not familiar with HTML, consult with this note.\n",
        "\n",
        "Example\n",
        "\n",
        "<ul>\n",
        "<li>For <code>startTag = \"&lt;button type='button' disabled&gt;\"</code>, the output should be<br>\n",
        "<code>htmlEndTagByStartTag(startTag) = \"&lt;/button&gt;\"</code>;</li>\n",
        "<li>For <code>startTag = \"&lt;i&gt;\"</code>, the output should be<br>\n",
        "<code>htmlEndTagByStartTag(startTag) = \"&lt;/i&gt;\"</code>.</li>\n",
        "</ul>"
      ]
    },
    {
      "cell_type": "code",
      "metadata": {
        "id": "XR-Q851o8C0V"
      },
      "source": [
        "def htmlEndTagByStartTag(startTag):\n",
        "    tag_list = startTag.split()\n",
        "    tag = tag_list[0][1:]\n",
        "    if tag[-1] == '>' :\n",
        "        return ('</'+ tag)\n",
        "    return ('</'+ tag + '>')"
      ],
      "execution_count": null,
      "outputs": []
    },
    {
      "cell_type": "markdown",
      "metadata": {
        "id": "iZLstP9v8ckM"
      },
      "source": [
        "A media access control address (MAC address) is a unique identifier assigned to network interfaces for communications on the physical network segment.\n",
        "\n",
        "The standard (IEEE 802) format for printing MAC-48 addresses in human-friendly form is six groups of two hexadecimal digits (0 to 9 or A to F), separated by hyphens (e.g. 01-23-45-67-89-AB).\n",
        "\n",
        "Your task is to check by given string inputString whether it corresponds to MAC-48 address or not.\n",
        "\n",
        "Example:\n",
        "\n",
        "<ul>\n",
        "<li>For <code>inputString = \"00-1B-63-84-45-E6\"</code>, the output should be<br>\n",
        "<code>isMAC48Address(inputString) = true</code>;</li>\n",
        "<li>For <code>inputString = \"Z1-1B-63-84-45-E6\"</code>, the output should be<br>\n",
        "<code>isMAC48Address(inputString) = false</code>;</li>\n",
        "<li>For <code>inputString = \"not a MAC-48 address\"</code>, the output should be<br>\n",
        "<code>isMAC48Address(inputString) = false</code>.</li>\n",
        "</ul>"
      ]
    },
    {
      "cell_type": "code",
      "metadata": {
        "id": "5v7qgWwa9XWb"
      },
      "source": [
        "def isMAC48Address(inputString):\n",
        "    if len(inputString) != 17:\n",
        "        return False\n",
        "    if inputString[2] != '-':\n",
        "        return False\n",
        "    hex_lst = inputString.split('-')\n",
        "    if len(hex_lst) != 6:\n",
        "        return False\n",
        "    for each in hex_lst:\n",
        "        if each:\n",
        "            if len(each) != 2:\n",
        "                return False \n",
        "            if each[0] not in \"ABCDEF0123456789\":\n",
        "                return False\n",
        "            if each[1] not in \"ABCDEF0123456789\":\n",
        "                return False\n",
        "    return True\n"
      ],
      "execution_count": null,
      "outputs": []
    }
  ]
}