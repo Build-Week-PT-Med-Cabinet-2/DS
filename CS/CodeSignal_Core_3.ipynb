{
  "nbformat": 4,
  "nbformat_minor": 0,
  "metadata": {
    "colab": {
      "name": "CodeSignal Core 3",
      "provenance": [],
      "collapsed_sections": []
    },
    "kernelspec": {
      "name": "python3",
      "display_name": "Python 3"
    },
    "language_info": {
      "name": "python"
    }
  },
  "cells": [
    {
      "cell_type": "markdown",
      "metadata": {
        "id": "Wgwj_c8H2CBl"
      },
      "source": [
        "#Book Market"
      ]
    },
    {
      "cell_type": "markdown",
      "metadata": {
        "id": "Pppgbh8Kzy0h"
      },
      "source": [
        "## encloseInBrackets"
      ]
    },
    {
      "cell_type": "markdown",
      "metadata": {
        "id": "-BThT342d75s"
      },
      "source": [
        "Given a string, enclose it in round brackets.\n",
        "\n",
        "Example\n",
        "\n",
        "For inputString = \"abacaba\", the output should be\n",
        "encloseInBrackets(inputString) = \"(abacaba)\".\n"
      ]
    },
    {
      "cell_type": "code",
      "metadata": {
        "id": "iGtLeUj2dybx"
      },
      "source": [
        "def encloseInBrackets(inputString):\n",
        "    return(f\"({inputString})\")"
      ],
      "execution_count": null,
      "outputs": []
    },
    {
      "cell_type": "markdown",
      "metadata": {
        "id": "rVeqKdIPzwZJ"
      },
      "source": [
        "## properNounCorrection"
      ]
    },
    {
      "cell_type": "markdown",
      "metadata": {
        "id": "NBrUfyFmeAzR"
      },
      "source": [
        "Proper nouns always begin with a capital letter, followed by small letters.\n",
        "\n",
        "Correct a given proper noun so that it fits this statement.\n",
        "\n",
        "Example\n",
        "\n",
        "For noun = \"pARiS\", the output should be\n",
        "properNounCorrection(noun) = \"Paris\";\n",
        "For noun = \"John\", the output should be\n",
        "properNounCorrection(noun) = \"John\"."
      ]
    },
    {
      "cell_type": "code",
      "metadata": {
        "id": "SUnEH4HteMNC"
      },
      "source": [
        "def properNounCorrection(noun):\n",
        "    return noun.title()"
      ],
      "execution_count": null,
      "outputs": []
    },
    {
      "cell_type": "markdown",
      "metadata": {
        "id": "5ks2EtZOzspZ"
      },
      "source": [
        "## isTandemRepeat"
      ]
    },
    {
      "cell_type": "markdown",
      "metadata": {
        "id": "kYPP31MzeYQZ"
      },
      "source": [
        "Determine whether the given string can be obtained by one concatenation of some string to itself.\n",
        "\n",
        "Example\n",
        "\n",
        "For inputString = \"tandemtandem\", the output should be\n",
        "isTandemRepeat(inputString) = true;\n",
        "For inputString = \"qqq\", the output should be\n",
        "isTandemRepeat(inputString) = false;\n",
        "For inputString = \"2w2ww\", the output should be\n",
        "isTandemRepeat(inputString) = false."
      ]
    },
    {
      "cell_type": "code",
      "metadata": {
        "id": "kt3wvYHTgGPZ"
      },
      "source": [
        "def isTandemRepeat(inputString):\n",
        "    mid = len(inputString)//2\n",
        "    return inputString[:mid] == inputString[mid:] # slices are 0 indexed and exclusive"
      ],
      "execution_count": null,
      "outputs": []
    },
    {
      "cell_type": "markdown",
      "metadata": {
        "id": "LBQ2Ry8WzluQ"
      },
      "source": [
        "## findEmailDomain"
      ]
    },
    {
      "cell_type": "markdown",
      "metadata": {
        "id": "vIXkNy9cgTyo"
      },
      "source": [
        "Given a string, check if it can become a palindrome through a case change of some (possibly, none) letters.\n",
        "\n",
        "Example\n",
        "\n",
        "For inputString = \"AaBaa\", the output should be\n",
        "isCaseInsensitivePalindrome(inputString) = true.\n",
        "\n",
        "\"aabaa\" is a palindrome as well as \"AABAA\", \"aaBaa\", etc.\n",
        "\n",
        "For inputString = \"abac\", the output should be\n",
        "isCaseInsensitivePalindrome(inputString) = false.\n",
        "\n",
        "All the strings which can be obtained via changing case of some group of letters, i.e. \"abac\", \"Abac\", \"aBAc\" and 13 more, are not palindromes."
      ]
    },
    {
      "cell_type": "code",
      "metadata": {
        "id": "XhMbi9Tyg6Co"
      },
      "source": [
        "def C(inputString):\n",
        "    return inputString.lower() == inputString[::-1].lower()"
      ],
      "execution_count": null,
      "outputs": []
    },
    {
      "cell_type": "markdown",
      "metadata": {
        "id": "ftK-98XTzinI"
      },
      "source": [
        "## findEmailDomain"
      ]
    },
    {
      "cell_type": "markdown",
      "metadata": {
        "id": "ni9sI6Osg9oA"
      },
      "source": [
        "An email address such as \"John.Smith@example.com\" is made up of a local part (\"John.Smith\"), an \"@\" symbol, then a domain part (\"example.com\").\n",
        "\n",
        "The domain name part of an email address may only consist of letters, digits, hyphens and dots. The local part, however, also allows a lot of different special characters. Here you can look at several examples of correct and incorrect email addresses.\n",
        "\n",
        "Given a valid email address, find its domain part.\n",
        "\n",
        "Example\n",
        "\n",
        "For address = \"prettyandsimple@example.com\", the output should be\n",
        "findEmailDomain(address) = \"example.com\";\n",
        "For address = \"fully-qualified-domain@codesignal.com\", the output should be\n",
        "findEmailDomain(address) = \"codesignal.com\"."
      ]
    },
    {
      "cell_type": "code",
      "metadata": {
        "id": "43NtaBHL6Tad"
      },
      "source": [
        "def findEmailDomain(address):\n",
        "    split_email_list = address.split('@')\n",
        "    return split_email_list[-1]"
      ],
      "execution_count": null,
      "outputs": []
    },
    {
      "cell_type": "markdown",
      "metadata": {
        "id": "8D2k1GTrzexA"
      },
      "source": [
        "## htmlEndTagByStartTag"
      ]
    },
    {
      "cell_type": "markdown",
      "metadata": {
        "id": "gKrO3Pzs6eGN"
      },
      "source": [
        "You are implementing your own HTML editor. To make it more comfortable for developers you would like to add an auto-completion feature to it.\n",
        "\n",
        "Given the starting HTML tag, find the appropriate end tag which your editor should propose.\n",
        "\n",
        "If you are not familiar with HTML, consult with this note.\n",
        "\n",
        "Example\n",
        "\n",
        "<ul>\n",
        "<li>For <code>startTag = \"&lt;button type='button' disabled&gt;\"</code>, the output should be<br>\n",
        "<code>htmlEndTagByStartTag(startTag) = \"&lt;/button&gt;\"</code>;</li>\n",
        "<li>For <code>startTag = \"&lt;i&gt;\"</code>, the output should be<br>\n",
        "<code>htmlEndTagByStartTag(startTag) = \"&lt;/i&gt;\"</code>.</li>\n",
        "</ul>"
      ]
    },
    {
      "cell_type": "code",
      "metadata": {
        "id": "XR-Q851o8C0V"
      },
      "source": [
        "def htmlEndTagByStartTag(startTag):\n",
        "    tag_list = startTag.split()\n",
        "    tag = tag_list[0][1:]\n",
        "    if tag[-1] == '>' :\n",
        "        return ('</'+ tag)\n",
        "    return ('</'+ tag + '>')"
      ],
      "execution_count": null,
      "outputs": []
    },
    {
      "cell_type": "markdown",
      "metadata": {
        "id": "o7heLt6azYS4"
      },
      "source": [
        "## isMAC48Address"
      ]
    },
    {
      "cell_type": "markdown",
      "metadata": {
        "id": "iZLstP9v8ckM"
      },
      "source": [
        "A media access control address (MAC address) is a unique identifier assigned to network interfaces for communications on the physical network segment.\n",
        "\n",
        "The standard (IEEE 802) format for printing MAC-48 addresses in human-friendly form is six groups of two hexadecimal digits (0 to 9 or A to F), separated by hyphens (e.g. 01-23-45-67-89-AB).\n",
        "\n",
        "Your task is to check by given string inputString whether it corresponds to MAC-48 address or not.\n",
        "\n",
        "Example:\n",
        "\n",
        "<ul>\n",
        "<li>For <code>inputString = \"00-1B-63-84-45-E6\"</code>, the output should be<br>\n",
        "<code>isMAC48Address(inputString) = true</code>;</li>\n",
        "<li>For <code>inputString = \"Z1-1B-63-84-45-E6\"</code>, the output should be<br>\n",
        "<code>isMAC48Address(inputString) = false</code>;</li>\n",
        "<li>For <code>inputString = \"not a MAC-48 address\"</code>, the output should be<br>\n",
        "<code>isMAC48Address(inputString) = false</code>.</li>\n",
        "</ul>"
      ]
    },
    {
      "cell_type": "code",
      "metadata": {
        "id": "5v7qgWwa9XWb"
      },
      "source": [
        "def isMAC48Address(inputString):\n",
        "    if len(inputString) != 17:\n",
        "        return False\n",
        "    if inputString[2] != '-':\n",
        "        return False\n",
        "    hex_lst = inputString.split('-')\n",
        "    if len(hex_lst) != 6:\n",
        "        return False\n",
        "    for each in hex_lst:\n",
        "        if each:\n",
        "            if len(each) != 2:\n",
        "                return False \n",
        "            if each[0] not in \"ABCDEF0123456789\":\n",
        "                return False\n",
        "            if each[1] not in \"ABCDEF0123456789\":\n",
        "                return False\n",
        "    return True\n"
      ],
      "execution_count": null,
      "outputs": []
    },
    {
      "cell_type": "markdown",
      "metadata": {
        "id": "86pYSCVOzU4h"
      },
      "source": [
        "## isUnstablePair"
      ]
    },
    {
      "cell_type": "markdown",
      "metadata": {
        "id": "83S6XuwyrLSH"
      },
      "source": [
        "Some file managers sort filenames taking into account case of the letters, others compare strings as if all of the letters are of the same case. That may lead to different ways of filename ordering.\n",
        "\n",
        "Call two filenames an unstable pair if their ordering depends on the case.\n",
        "\n",
        "To compare two filenames a and b, find the first position i at which a[i] ≠ b[i]. If a[i] < b[i], then a < b. Otherwise a > b. If such position doesn't exist, the shorter string goes first.\n",
        "\n",
        "Given two filenames, check whether they form an unstable pair.\n",
        "\n",
        "Example\n",
        "\n",
        "<ul>\n",
        "<li>\n",
        "<p>For <code>filename1 = \"aa\"</code> and <code>filename2 = \"AAB\"</code>, the output should be<br>\n",
        "<code>isUnstablePair(filename1, filename2) = true</code>.</p>\n",
        "<p>Because <code>\"AAB\" &lt; \"aa\"</code>, but <code>\"AAB\" &gt; \"AA\"</code>.</p>\n",
        "</li>\n",
        "<li>\n",
        "<p>For <code>filename1 = \"A\"</code> and <code>filename2 = \"z\"</code>, the output should be<br>\n",
        "<code>isUnstablePair(filename1, filename2) = false</code>.</p>\n",
        "<p>Both <code>\"A\" &lt; \"z\"</code> and <code>\"a\" &lt; \"z\"</code>.</p>\n",
        "</li>\n",
        "</ul>"
      ]
    },
    {
      "cell_type": "code",
      "metadata": {
        "id": "jAdv79r7qqZ5"
      },
      "source": [
        "def isUnstablePair(filename1, filename2):\n",
        "    if (filename1 < filename2) & (filename1.lower() < filename2.lower()):\n",
        "        return False\n",
        "    elif (filename1 > filename2) & (filename1.lower() > filename2.lower()):\n",
        "        return False\n",
        "    return True"
      ],
      "execution_count": null,
      "outputs": []
    },
    {
      "cell_type": "markdown",
      "metadata": {
        "id": "0lJlv4Nt2Obc"
      },
      "source": [
        "# Mirror Lake"
      ]
    },
    {
      "cell_type": "markdown",
      "metadata": {
        "id": "-1p6Wh-2zQrB"
      },
      "source": [
        "## stringsConstruction"
      ]
    },
    {
      "cell_type": "markdown",
      "metadata": {
        "id": "nUlAoWWv2nz7"
      },
      "source": [
        "Given two strings a and b, both consisting only of lowercase English letters, your task is to calculate how many strings equal to a can be constructed using only letters from the string b? Each letter can be used only once and in one string only.\n",
        "\n",
        "Example\n",
        "\n",
        "For a = \"abc\" and b = \"abccba\", the output should be stringsConstruction(a, b) = 2.\n",
        "\n",
        "We can construct 2 strings a = \"abc\" using only letters from the string b.\n",
        "\n",
        "For a = \"ab\" and b = \"abcbcb\", the output should be stringsConstruction(a, b) = 1."
      ]
    },
    {
      "cell_type": "code",
      "metadata": {
        "id": "OwxhWnPI2sQ7"
      },
      "source": [
        "def stringsConstruction(a, b):\n",
        "    lst = []\n",
        "    for char in a:\n",
        "        lst.append(b.count(char)//a.count(char))\n",
        "    return min(lst)"
      ],
      "execution_count": null,
      "outputs": []
    },
    {
      "cell_type": "markdown",
      "metadata": {
        "id": "vFufpA7UzMDC"
      },
      "source": [
        "## isSubstitutionCipher*"
      ]
    },
    {
      "cell_type": "markdown",
      "metadata": {
        "id": "aGYDV9jCy6iy"
      },
      "source": [
        "A ciphertext alphabet is obtained from the plaintext alphabet by means of rearranging some characters. For example \"bacdef...xyz\" will be a simple ciphertext alphabet where a and b are rearranged.\n",
        "\n",
        "A substitution cipher is a method of encoding where each letter of the plaintext alphabet is replaced with the corresponding (i.e. having the same index) letter of some ciphertext alphabet.\n",
        "\n",
        "Given two strings, check whether it is possible to obtain them from each other using some (possibly, different) substitution ciphers.\n",
        "\n",
        "Example\n",
        "\n",
        "<ul>\n",
        "<li>\n",
        "<p>For <code>string1 = \"aacb\"</code> and <code>string2 = \"aabc\"</code>, the output should be<br>\n",
        "<code>isSubstitutionCipher(string1, string2) = true</code>.</p>\n",
        "<p>Any <em>ciphertext alphabet</em> that starts with <code>acb...</code> would make this transformation possible.</p>\n",
        "</li>\n",
        "<li>\n",
        "<p>For <code>string1 = \"aa\"</code> and <code>string2 = \"bc\"</code>, the output should be<br>\n",
        "<code>isSubstitutionCipher(string1, string2) = false</code>.</p>\n",
        "</li>\n",
        "</ul>"
      ]
    },
    {
      "cell_type": "code",
      "metadata": {
        "id": "6nCm9B-G2nGM"
      },
      "source": [
        "def isSubstitutionCipher(string1, string2):\n",
        "    d = {}\n",
        "    r = {}\n",
        "    for x,y in zip(string1,string2):\n",
        "        if x in d:\n",
        "            if d[x]!=y:\n",
        "                return False\n",
        "        if y in r:\n",
        "            if r[y]!=x:\n",
        "                return False\n",
        "        r[y]=x\n",
        "        d[x]=y\n",
        "    return True"
      ],
      "execution_count": null,
      "outputs": []
    }
  ]
}