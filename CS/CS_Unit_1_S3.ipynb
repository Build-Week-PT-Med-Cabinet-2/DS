{
  "nbformat": 4,
  "nbformat_minor": 0,
  "metadata": {
    "colab": {
      "name": "CS Unit 1 S3.ipynb",
      "provenance": [],
      "collapsed_sections": []
    },
    "kernelspec": {
      "name": "python3",
      "display_name": "Python 3"
    }
  },
  "cells": [
    {
      "cell_type": "code",
      "metadata": {
        "id": "ivZAvr4eeFNc"
      },
      "source": [
        "# Binary trees are already defined with this interface:\r\n",
        "# class Tree(object):\r\n",
        "#   def __init__(self, x):\r\n",
        "#     self.value = x\r\n",
        "#     self.left = None\r\n",
        "#     self.right = None"
      ],
      "execution_count": null,
      "outputs": []
    },
    {
      "cell_type": "markdown",
      "metadata": {
        "id": "17fPA0AdwZXn"
      },
      "source": [
        "# Mod 1"
      ]
    },
    {
      "cell_type": "markdown",
      "metadata": {
        "id": "gCs_bt-GOmTe"
      },
      "source": [
        "## balancedBinaryTree\r\n",
        "\r\n",
        "You are given a binary tree and you need to write a function that can determine if it is height-balanced.\r\n",
        "\r\n",
        "A height-balanced tree can be defined as a binary tree in which the left and right subtrees of every node differ in height by a maximum of 1.\r\n",
        "\r\n",
        "Example 1:\r\n",
        "Given the following tree [5,10,25,None,None,12,3]:\r\n",
        "\r\n",
        "<pre><code class=\"language-plaintext\">    5\r\n",
        "   / \\\r\n",
        " 10  25\r\n",
        "    /  \\\r\n",
        "   12   3\r\n",
        "</code></pre>\r\n",
        "return True.\r\n",
        "\r\n",
        "Example 2:\r\n",
        "Given the following tree [5,6,6,7,7,None,None,8,8]:\r\n",
        "\r\n",
        "<pre><code class=\"language-plaintext\">       5\r\n",
        "      / \\\r\n",
        "     6   6\r\n",
        "    / \\\r\n",
        "   7   7\r\n",
        "  / \\\r\n",
        " 8   8\r\n",
        "</code></pre>\r\n",
        "\r\n",
        "return False.\r\n",
        "\r\n",
        "[execution time limit] 4 seconds (py3)\r\n",
        "\r\n",
        "[input] tree.integer root\r\n",
        "\r\n",
        "[output] boolean"
      ]
    },
    {
      "cell_type": "code",
      "metadata": {
        "id": "fY2eqr-LOMdL"
      },
      "source": [
        "# Binary trees are already defined with this interface:\r\n",
        "# class Tree(object):\r\n",
        "#   def __init__(self, x):\r\n",
        "#     self.value = x\r\n",
        "#     self.left = None\r\n",
        "#     self.right = None\r\n",
        "\r\n",
        "def depth(root):\r\n",
        "    if not root: \r\n",
        "        return 0\r\n",
        "    return max(depth(root.left), depth(root.right)) + 1\r\n",
        "  \r\n",
        "\r\n",
        "def balancedBinaryTree(root):\r\n",
        "    if not root: \r\n",
        "        return True\r\n",
        "    left_depth = depth(root.left) \r\n",
        "    right_depth = depth(root.right)\r\n",
        "    return (abs(left_depth - right_depth) <= 1) and balancedBinaryTree(root.left) and balancedBinaryTree(root.right)"
      ],
      "execution_count": null,
      "outputs": []
    },
    {
      "cell_type": "markdown",
      "metadata": {
        "id": "yxi5Atf_weg6"
      },
      "source": [
        "## minimumDepthBinaryTree\r\n",
        "\r\n",
        "You are given a binary tree and you are asked to write a function that finds its minimum depth. The minimum depth can be defined as the number of nodes along the shortest path from the root down to the nearest leaf node. As a reminder, a leaf node is a node with no children.\r\n",
        "\r\n",
        "Example:\r\n",
        "Given the binary tree [5,7,22,None,None,17,9],\r\n",
        "<pre><code class=\"language-plaintext\">    5\r\n",
        "   / \\\r\n",
        "  7  22\r\n",
        "    /  \\\r\n",
        "   17   9\r\n",
        "</code></pre>\r\n",
        "your function should return its minimum depth = 2.\r\n",
        "\r\n",
        "[execution time limit] 4 seconds (py3)\r\n",
        "\r\n",
        "[input] tree.integer root\r\n",
        "\r\n",
        "[output] integer"
      ]
    },
    {
      "cell_type": "code",
      "metadata": {
        "id": "OwXg-LX-wc_h"
      },
      "source": [
        "# Binary trees are already defined with this interface:\r\n",
        "# class Tree(object):\r\n",
        "#   def __init__(self, x):\r\n",
        "#     self.value = x\r\n",
        "#     self.left = None\r\n",
        "#     self.right = None\r\n",
        "def minimumDepthBinaryTree(root):\r\n",
        "    if root is None: \r\n",
        "        return 0 \r\n",
        "    if not root.left and not root.right: \r\n",
        "        return 1\r\n",
        "    if not root.left: #call again on right \r\n",
        "        return minimumDepthBinaryTree(root.right)+1\r\n",
        "    if not root.right: #call again on left\r\n",
        "        return minminimumDepthBinaryTreeDepth(root.left) +1 \r\n",
        "    # if none of these are true anymore, exit recursion & return the minimum\r\n",
        "    return min(minimumDepthBinaryTree(root.left), minimumDepthBinaryTree(root.right))+1"
      ],
      "execution_count": null,
      "outputs": []
    },
    {
      "cell_type": "markdown",
      "metadata": {
        "id": "p8A_qVN6ZlKN"
      },
      "source": [
        "# Mod 2\r\n"
      ]
    },
    {
      "cell_type": "markdown",
      "metadata": {
        "id": "MLBT7jiDdTI6"
      },
      "source": [
        "## traverseTree\r\n",
        "\r\n",
        "Given a binary tree of integers t, return its node values in the following format:\r\n",
        "\r\n",
        "The first element should be the value of the tree root;\r\n",
        "The next elements should be the values of the nodes at height 1 (i.e. the root children), ordered from the leftmost to the rightmost one;\r\n",
        "The elements after that should be the values of the nodes at height 2 (i.e. the children of the nodes at height 1) ordered in the same way;\r\n",
        "Etc.\r\n",
        "Example\r\n",
        "\r\n",
        "For\r\n",
        "<pre><code>t = {\r\n",
        "    \"value\": 1,\r\n",
        "    \"left\": {\r\n",
        "        \"value\": 2,\r\n",
        "        \"left\": null,\r\n",
        "        \"right\": {\r\n",
        "            \"value\": 3,\r\n",
        "            \"left\": null,\r\n",
        "            \"right\": null\r\n",
        "        }\r\n",
        "    },\r\n",
        "    \"right\": {\r\n",
        "        \"value\": 4,\r\n",
        "        \"left\": {\r\n",
        "            \"value\": 5,\r\n",
        "            \"left\": null,\r\n",
        "            \"right\": null\r\n",
        "        },\r\n",
        "        \"right\": null\r\n",
        "    }\r\n",
        "}\r\n",
        "</code></pre>\r\n",
        "the output should be\r\n",
        "traverseTree(t) = [1, 2, 4, 3, 5].\r\n",
        "\r\n",
        "This t looks like this:\r\n",
        "\r\n",
        "<pre><code>     1\r\n",
        "   /   \\\r\n",
        "  2     4\r\n",
        "   \\   /\r\n",
        "    3 5\r\n",
        "</code></pre>"
      ]
    },
    {
      "cell_type": "code",
      "metadata": {
        "id": "1Bzv2g0Jd7c-"
      },
      "source": [
        "def traverseTree(t):\r\n",
        "    if not t:\r\n",
        "        return []\r\n",
        "    result = []\r\n",
        "    queue = []\r\n",
        "    queue.append(t)\r\n",
        "    while len(queue) != 0:\r\n",
        "        node = queue.pop(0)\r\n",
        "        result.append(node.value)\r\n",
        "        if node.left:\r\n",
        "            queue.append(node.left)\r\n",
        "        if node.right:\r\n",
        "            queue.append(node.right)\r\n",
        "    return result"
      ],
      "execution_count": null,
      "outputs": []
    },
    {
      "cell_type": "markdown",
      "metadata": {
        "id": "hKieDwa5cntX"
      },
      "source": [
        "## binaryTreeInOrderTraversal\r\n",
        "\r\n",
        "You are given a binary tree. Write a function that returns the binary tree's node values using an in-order traversal.\r\n",
        "\r\n",
        "Example:\r\n",
        "Input: [2,None,3,4]\r\n",
        "<pre><code class=\"language-plaintext\">   2\r\n",
        "    \\\r\n",
        "     3\r\n",
        "    /\r\n",
        "   4\r\n",
        "</code></pre>\r\n",
        "Output: [2,4,3]\r\n",
        "\r\n",
        "\r\n",
        "\r\n"
      ]
    },
    {
      "cell_type": "code",
      "metadata": {
        "id": "QWBf0rW8cm5C"
      },
      "source": [
        "def helper(root, res):\r\n",
        "    if not root:\r\n",
        "        return\r\n",
        "    helper(root.left, res)\r\n",
        "    res.append(root.value)\r\n",
        "    helper(root.right, res)\r\n",
        "    \r\n",
        "def binaryTreeInOrderTraversal(root):\r\n",
        "    result = []\r\n",
        "    helper(root, result)\r\n",
        "    return result\r\n",
        "    "
      ],
      "execution_count": null,
      "outputs": []
    },
    {
      "cell_type": "markdown",
      "metadata": {
        "id": "EOjOpfKjZpKd"
      },
      "source": [
        "## treePaths\r\n",
        "\r\n",
        "Given a binary tree of integers, return all the paths from the tree's root to its leaves as an array of strings. The strings should have the following format:\r\n",
        "\"root->node1->node2->...->noden\", representing the path from root to noden, where root is the value stored in the root and node1,node2,...,noden are the values stored in the 1st, 2nd,..., and nth nodes in the path respectively (noden representing the leaf).\r\n",
        "\r\n",
        "Example\r\n",
        "\r\n",
        "For\r\n",
        "\r\n",
        "<pre><code>t = {\r\n",
        "    \"value\": 5,\r\n",
        "    \"left\": {\r\n",
        "        \"value\": 2,\r\n",
        "        \"left\": {\r\n",
        "            \"value\": 10,\r\n",
        "            \"left\": null,\r\n",
        "            \"right\": null\r\n",
        "        },\r\n",
        "        \"right\": {\r\n",
        "            \"value\": 4,\r\n",
        "            \"left\": null,\r\n",
        "            \"right\": null\r\n",
        "        }\r\n",
        "    },\r\n",
        "    \"right\": {\r\n",
        "        \"value\": -3,\r\n",
        "        \"left\": null,\r\n",
        "        \"right\": null\r\n",
        "    }\r\n",
        "}\r\n",
        "</code></pre>\r\n",
        "\r\n",
        "The given tree looks like this:\r\n",
        "\r\n",
        "<pre><code>    5\r\n",
        "   / \\\r\n",
        "  2  -3\r\n",
        " / \\\r\n",
        "10  4\r\n",
        "</code></pre>"
      ]
    },
    {
      "cell_type": "code",
      "metadata": {
        "id": "VFKJ7vFmZkFs"
      },
      "source": [
        "# Binary trees are already defined with this interface:\r\n",
        "# class Tree(object):\r\n",
        "#   def __init__(self, x):\r\n",
        "#     self.value = x\r\n",
        "#     self.left = None\r\n",
        "#     self.right = None\r\n",
        "def treePaths(t): \r\n",
        "    # list to store path \r\n",
        "    path = [] \r\n",
        "    result = []\r\n",
        "    getPath(t, path, 0, result)\r\n",
        "    return result\r\n",
        "\r\n",
        "def getPath(t, path, pathLen, result): \r\n",
        "    if t is None: \r\n",
        "        return\r\n",
        "    if(len(path) > pathLen):  \r\n",
        "        # replace element in list\r\n",
        "        path[pathLen] = t.value \r\n",
        "    else: \r\n",
        "        #add to end of list\r\n",
        "        path.append(t.value) \r\n",
        "    pathLen = pathLen + 1\r\n",
        "    \r\n",
        "    if t.left is None and t.right is None: \r\n",
        "        addString(path, result, pathLen) \r\n",
        "    else: \r\n",
        "        getPath(t.left, path, pathLen, result) \r\n",
        "        getPath(t.right, path, pathLen, result) \r\n",
        "\r\n",
        "def addString(ints,res, pathLen): \r\n",
        "    s = \"\"\r\n",
        "    for i in range(pathLen):\r\n",
        "        s+=(str(ints[i])+\"->\") \r\n",
        "    res.append(s[:-2])\r\n",
        "    return res"
      ],
      "execution_count": null,
      "outputs": []
    },
    {
      "cell_type": "markdown",
      "metadata": {
        "id": "pbsjulK7MQpf"
      },
      "source": [
        "# Lecture\r\n"
      ]
    },
    {
      "cell_type": "markdown",
      "metadata": {
        "id": "VLtnevp3NIo2"
      },
      "source": [
        "## Recursive Max Depth"
      ]
    },
    {
      "cell_type": "code",
      "metadata": {
        "id": "Udi04iTdMVIi"
      },
      "source": [
        "# Definition for a binary tree node.\r\n",
        "# class TreeNode:\r\n",
        "#     def __init__(self, val=0, left=None, right=None):\r\n",
        "#         self.val = val\r\n",
        "#         self.left = left\r\n",
        "#         self.right = right\r\n",
        "\r\n",
        "### https://leetcode.com/problems/maximum-depth-of-binary-tree/\r\n",
        "\r\n",
        "\r\n",
        "class Solution:\r\n",
        "    def maxDepth(self, root: TreeNode) -> int:\r\n",
        "        self.maxDepth = 0\r\n",
        "        self.maxDepthHelper(root, 1)\r\n",
        "        return self.maxDepth\r\n",
        "    \r\n",
        "    def maxDepthHelper(self, root, currDepth):\r\n",
        "        if root.left == None and root.right == None:\r\n",
        "            if currDepth > self.maxDepth:\r\n",
        "                self.maxDepth = currDepth\r\n",
        "            return\r\n",
        "        self.maxDepthHelper(root.left, currDepth+1)\r\n",
        "        self.maxDepthHelper(root.right, currDepth+1)"
      ],
      "execution_count": null,
      "outputs": []
    },
    {
      "cell_type": "markdown",
      "metadata": {
        "id": "2Os_hweFNRIo"
      },
      "source": [
        "## Iterative Max Depth"
      ]
    },
    {
      "cell_type": "code",
      "metadata": {
        "id": "sIDqFsvRMbvc"
      },
      "source": [
        "# Definition for a binary tree node.\r\n",
        "# class TreeNode:\r\n",
        "#     def __init__(self, val=0, left=None, right=None):\r\n",
        "#         self.val = val\r\n",
        "#         self.left = left\r\n",
        "#         self.right = right\r\n",
        "from collections  import deque\r\n",
        "\r\n",
        "class Solution:\r\n",
        "    def maxDepth(self, root: TreeNode) -> int:\r\n",
        "        if root == None:\r\n",
        "            return 0\r\n",
        "        stack = deque()\r\n",
        "        stack.append((root, 1))\r\n",
        "        maxDepthFound = 1\r\n",
        "        while len(stack) > 0:\r\n",
        "            curr = stack.pop()\r\n",
        "            currNode, currDepth = curr[0], curr[1]\r\n",
        "            if currNode.left == None and currNode.right == None:\r\n",
        "                if currDepth > maxDepthFound:\r\n",
        "                    maxDepthFound = currDepth\r\n",
        "            if currNode.left != None:\r\n",
        "                stack.append((currNode.left, currDepth + 1))\r\n",
        "            if currNode.right != None:\r\n",
        "                stack.append((currNode.right, currDepth + 1))\r\n",
        "        return maxDepthFound"
      ],
      "execution_count": null,
      "outputs": []
    }
  ]
}