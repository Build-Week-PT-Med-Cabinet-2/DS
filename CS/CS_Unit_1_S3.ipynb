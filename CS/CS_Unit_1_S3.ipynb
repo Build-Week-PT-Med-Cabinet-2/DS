{
  "nbformat": 4,
  "nbformat_minor": 0,
  "metadata": {
    "colab": {
      "name": "CS Unit 1 S3.ipynb",
      "provenance": [],
      "collapsed_sections": [],
      "toc_visible": true
    },
    "kernelspec": {
      "name": "python3",
      "display_name": "Python 3"
    }
  },
  "cells": [
    {
      "cell_type": "code",
      "metadata": {
        "id": "ivZAvr4eeFNc"
      },
      "source": [
        "# Binary trees are already defined with this interface:\r\n",
        "# class Tree(object):\r\n",
        "#   def __init__(self, x):\r\n",
        "#     self.value = x\r\n",
        "#     self.left = None\r\n",
        "#     self.right = None"
      ],
      "execution_count": null,
      "outputs": []
    },
    {
      "cell_type": "markdown",
      "metadata": {
        "id": "17fPA0AdwZXn"
      },
      "source": [
        "# Mod 1"
      ]
    },
    {
      "cell_type": "markdown",
      "metadata": {
        "id": "gCs_bt-GOmTe"
      },
      "source": [
        "## balancedBinaryTree\r\n",
        "\r\n",
        "You are given a binary tree and you need to write a function that can determine if it is height-balanced.\r\n",
        "\r\n",
        "A height-balanced tree can be defined as a binary tree in which the left and right subtrees of every node differ in height by a maximum of 1.\r\n",
        "\r\n",
        "Example 1:\r\n",
        "Given the following tree [5,10,25,None,None,12,3]:\r\n",
        "\r\n",
        "<pre><code class=\"language-plaintext\">    5\r\n",
        "   / \\\r\n",
        " 10  25\r\n",
        "    /  \\\r\n",
        "   12   3\r\n",
        "</code></pre>\r\n",
        "return True.\r\n",
        "\r\n",
        "Example 2:\r\n",
        "Given the following tree [5,6,6,7,7,None,None,8,8]:\r\n",
        "\r\n",
        "<pre><code class=\"language-plaintext\">       5\r\n",
        "      / \\\r\n",
        "     6   6\r\n",
        "    / \\\r\n",
        "   7   7\r\n",
        "  / \\\r\n",
        " 8   8\r\n",
        "</code></pre>\r\n",
        "\r\n",
        "return False.\r\n",
        "\r\n",
        "[execution time limit] 4 seconds (py3)\r\n",
        "\r\n",
        "[input] tree.integer root\r\n",
        "\r\n",
        "[output] boolean"
      ]
    },
    {
      "cell_type": "code",
      "metadata": {
        "id": "fY2eqr-LOMdL"
      },
      "source": [
        "# Binary trees are already defined with this interface:\r\n",
        "# class Tree(object):\r\n",
        "#   def __init__(self, x):\r\n",
        "#     self.value = x\r\n",
        "#     self.left = None\r\n",
        "#     self.right = None\r\n",
        "\r\n",
        "def depth(root):\r\n",
        "    if not root: \r\n",
        "        return 0\r\n",
        "    return max(depth(root.left), depth(root.right)) + 1\r\n",
        "  \r\n",
        "\r\n",
        "def balancedBinaryTree(root):\r\n",
        "    if not root: \r\n",
        "        return True\r\n",
        "    left_depth = depth(root.left) \r\n",
        "    right_depth = depth(root.right)\r\n",
        "    return (abs(left_depth - right_depth) <= 1) and balancedBinaryTree(root.left) and balancedBinaryTree(root.right)"
      ],
      "execution_count": null,
      "outputs": []
    },
    {
      "cell_type": "markdown",
      "metadata": {
        "id": "yxi5Atf_weg6"
      },
      "source": [
        "## minimumDepthBinaryTree\r\n",
        "\r\n",
        "You are given a binary tree and you are asked to write a function that finds its minimum depth. The minimum depth can be defined as the number of nodes along the shortest path from the root down to the nearest leaf node. As a reminder, a leaf node is a node with no children.\r\n",
        "\r\n",
        "Example:\r\n",
        "Given the binary tree [5,7,22,None,None,17,9],\r\n",
        "<pre><code class=\"language-plaintext\">    5\r\n",
        "   / \\\r\n",
        "  7  22\r\n",
        "    /  \\\r\n",
        "   17   9\r\n",
        "</code></pre>\r\n",
        "your function should return its minimum depth = 2.\r\n",
        "\r\n",
        "[execution time limit] 4 seconds (py3)\r\n",
        "\r\n",
        "[input] tree.integer root\r\n",
        "\r\n",
        "[output] integer"
      ]
    },
    {
      "cell_type": "code",
      "metadata": {
        "id": "OwXg-LX-wc_h"
      },
      "source": [
        "# Binary trees are already defined with this interface:\r\n",
        "# class Tree(object):\r\n",
        "#   def __init__(self, x):\r\n",
        "#     self.value = x\r\n",
        "#     self.left = None\r\n",
        "#     self.right = None\r\n",
        "def minimumDepthBinaryTree(root):\r\n",
        "    if root is None: \r\n",
        "        return 0 \r\n",
        "    if not root.left and not root.right: \r\n",
        "        return 1\r\n",
        "    if not root.left: #call again on right \r\n",
        "        return minimumDepthBinaryTree(root.right)+1\r\n",
        "    if not root.right: #call again on left\r\n",
        "        return minminimumDepthBinaryTreeDepth(root.left) +1 \r\n",
        "    # if none of these are true anymore, exit recursion & return the minimum\r\n",
        "    return min(minimumDepthBinaryTree(root.left), minimumDepthBinaryTree(root.right))+1"
      ],
      "execution_count": null,
      "outputs": []
    },
    {
      "cell_type": "markdown",
      "metadata": {
        "id": "p8A_qVN6ZlKN"
      },
      "source": [
        "# Mod 2\r\n"
      ]
    },
    {
      "cell_type": "markdown",
      "metadata": {
        "id": "MLBT7jiDdTI6"
      },
      "source": [
        "## traverseTree\r\n",
        "\r\n",
        "Given a binary tree of integers t, return its node values in the following format:\r\n",
        "\r\n",
        "The first element should be the value of the tree root;\r\n",
        "The next elements should be the values of the nodes at height 1 (i.e. the root children), ordered from the leftmost to the rightmost one;\r\n",
        "The elements after that should be the values of the nodes at height 2 (i.e. the children of the nodes at height 1) ordered in the same way;\r\n",
        "Etc.\r\n",
        "Example\r\n",
        "\r\n",
        "For\r\n",
        "<pre><code>t = {\r\n",
        "    \"value\": 1,\r\n",
        "    \"left\": {\r\n",
        "        \"value\": 2,\r\n",
        "        \"left\": null,\r\n",
        "        \"right\": {\r\n",
        "            \"value\": 3,\r\n",
        "            \"left\": null,\r\n",
        "            \"right\": null\r\n",
        "        }\r\n",
        "    },\r\n",
        "    \"right\": {\r\n",
        "        \"value\": 4,\r\n",
        "        \"left\": {\r\n",
        "            \"value\": 5,\r\n",
        "            \"left\": null,\r\n",
        "            \"right\": null\r\n",
        "        },\r\n",
        "        \"right\": null\r\n",
        "    }\r\n",
        "}\r\n",
        "</code></pre>\r\n",
        "the output should be\r\n",
        "traverseTree(t) = [1, 2, 4, 3, 5].\r\n",
        "\r\n",
        "This t looks like this:\r\n",
        "\r\n",
        "<pre><code>     1\r\n",
        "   /   \\\r\n",
        "  2     4\r\n",
        "   \\   /\r\n",
        "    3 5\r\n",
        "</code></pre>"
      ]
    },
    {
      "cell_type": "code",
      "metadata": {
        "id": "1Bzv2g0Jd7c-"
      },
      "source": [
        "def traverseTree(t):\r\n",
        "    if not t:\r\n",
        "        return []\r\n",
        "    result = []\r\n",
        "    queue = []\r\n",
        "    queue.append(t)\r\n",
        "    while len(queue) != 0:\r\n",
        "        node = queue.pop(0)\r\n",
        "        result.append(node.value)\r\n",
        "        if node.left:\r\n",
        "            queue.append(node.left)\r\n",
        "        if node.right:\r\n",
        "            queue.append(node.right)\r\n",
        "    return result"
      ],
      "execution_count": null,
      "outputs": []
    },
    {
      "cell_type": "markdown",
      "metadata": {
        "id": "hKieDwa5cntX"
      },
      "source": [
        "## binaryTreeInOrderTraversal\r\n",
        "\r\n",
        "You are given a binary tree. Write a function that returns the binary tree's node values using an in-order traversal.\r\n",
        "\r\n",
        "Example:\r\n",
        "Input: [2,None,3,4]\r\n",
        "<pre><code class=\"language-plaintext\">   2\r\n",
        "    \\\r\n",
        "     3\r\n",
        "    /\r\n",
        "   4\r\n",
        "</code></pre>\r\n",
        "Output: [2,4,3]\r\n",
        "\r\n",
        "\r\n",
        "\r\n"
      ]
    },
    {
      "cell_type": "code",
      "metadata": {
        "id": "QWBf0rW8cm5C"
      },
      "source": [
        "def helper(root, res):\r\n",
        "    if not root:\r\n",
        "        return\r\n",
        "    helper(root.left, res)\r\n",
        "    res.append(root.value)\r\n",
        "    helper(root.right, res)\r\n",
        "    \r\n",
        "def binaryTreeInOrderTraversal(root):\r\n",
        "    result = []\r\n",
        "    helper(root, result)\r\n",
        "    return result\r\n",
        "    "
      ],
      "execution_count": null,
      "outputs": []
    },
    {
      "cell_type": "markdown",
      "metadata": {
        "id": "EOjOpfKjZpKd"
      },
      "source": [
        "## treePaths\r\n",
        "\r\n",
        "Given a binary tree of integers, return all the paths from the tree's root to its leaves as an array of strings. The strings should have the following format:\r\n",
        "\"root->node1->node2->...->noden\", representing the path from root to noden, where root is the value stored in the root and node1,node2,...,noden are the values stored in the 1st, 2nd,..., and nth nodes in the path respectively (noden representing the leaf).\r\n",
        "\r\n",
        "Example\r\n",
        "\r\n",
        "For\r\n",
        "\r\n",
        "<pre><code>t = {\r\n",
        "    \"value\": 5,\r\n",
        "    \"left\": {\r\n",
        "        \"value\": 2,\r\n",
        "        \"left\": {\r\n",
        "            \"value\": 10,\r\n",
        "            \"left\": null,\r\n",
        "            \"right\": null\r\n",
        "        },\r\n",
        "        \"right\": {\r\n",
        "            \"value\": 4,\r\n",
        "            \"left\": null,\r\n",
        "            \"right\": null\r\n",
        "        }\r\n",
        "    },\r\n",
        "    \"right\": {\r\n",
        "        \"value\": -3,\r\n",
        "        \"left\": null,\r\n",
        "        \"right\": null\r\n",
        "    }\r\n",
        "}\r\n",
        "</code></pre>\r\n",
        "\r\n",
        "The given tree looks like this:\r\n",
        "\r\n",
        "<pre><code>    5\r\n",
        "   / \\\r\n",
        "  2  -3\r\n",
        " / \\\r\n",
        "10  4\r\n",
        "</code></pre>"
      ]
    },
    {
      "cell_type": "code",
      "metadata": {
        "id": "VFKJ7vFmZkFs"
      },
      "source": [
        "# Binary trees are already defined with this interface:\r\n",
        "# class Tree(object):\r\n",
        "#   def __init__(self, x):\r\n",
        "#     self.value = x\r\n",
        "#     self.left = None\r\n",
        "#     self.right = None\r\n",
        "def treePaths(t): \r\n",
        "    # list to store path \r\n",
        "    path = [] \r\n",
        "    result = []\r\n",
        "    getPath(t, path, 0, result)\r\n",
        "    return result\r\n",
        "\r\n",
        "def getPath(t, path, pathLen, result): \r\n",
        "    if t is None: \r\n",
        "        return\r\n",
        "    if(len(path) > pathLen):  \r\n",
        "        # replace element in list\r\n",
        "        path[pathLen] = t.value \r\n",
        "    else: \r\n",
        "        #add to end of list\r\n",
        "        path.append(t.value) \r\n",
        "    pathLen = pathLen + 1\r\n",
        "    \r\n",
        "    if t.left is None and t.right is None: \r\n",
        "        addString(path, result, pathLen) \r\n",
        "    else: \r\n",
        "        getPath(t.left, path, pathLen, result) \r\n",
        "        getPath(t.right, path, pathLen, result) \r\n",
        "\r\n",
        "def addString(ints,res, pathLen): \r\n",
        "    s = \"\"\r\n",
        "    for i in range(pathLen):\r\n",
        "        s+=(str(ints[i])+\"->\") \r\n",
        "    res.append(s[:-2])\r\n",
        "    return res"
      ],
      "execution_count": null,
      "outputs": []
    },
    {
      "cell_type": "markdown",
      "metadata": {
        "id": "pbsjulK7MQpf"
      },
      "source": [
        "# Lecture\r\n"
      ]
    },
    {
      "cell_type": "markdown",
      "metadata": {
        "id": "VLtnevp3NIo2"
      },
      "source": [
        "## Recursive Max Depth"
      ]
    },
    {
      "cell_type": "code",
      "metadata": {
        "id": "Udi04iTdMVIi"
      },
      "source": [
        "# Definition for a binary tree node.\r\n",
        "# class TreeNode:\r\n",
        "#     def __init__(self, val=0, left=None, right=None):\r\n",
        "#         self.val = val\r\n",
        "#         self.left = left\r\n",
        "#         self.right = right\r\n",
        "\r\n",
        "### https://leetcode.com/problems/maximum-depth-of-binary-tree/\r\n",
        "\r\n",
        "\r\n",
        "class Solution:\r\n",
        "    def maxDepth(self, root: TreeNode) -> int:\r\n",
        "        self.maxDepth = 0\r\n",
        "        self.maxDepthHelper(root, 1)\r\n",
        "        return self.maxDepth\r\n",
        "    \r\n",
        "    def maxDepthHelper(self, root, currDepth):\r\n",
        "        if root.left == None and root.right == None:\r\n",
        "            if currDepth > self.maxDepth:\r\n",
        "                self.maxDepth = currDepth\r\n",
        "            return\r\n",
        "        self.maxDepthHelper(root.left, currDepth+1)\r\n",
        "        self.maxDepthHelper(root.right, currDepth+1)"
      ],
      "execution_count": null,
      "outputs": []
    },
    {
      "cell_type": "markdown",
      "metadata": {
        "id": "2Os_hweFNRIo"
      },
      "source": [
        "## Iterative Max Depth"
      ]
    },
    {
      "cell_type": "code",
      "metadata": {
        "id": "sIDqFsvRMbvc"
      },
      "source": [
        "# Definition for a binary tree node.\r\n",
        "# class TreeNode:\r\n",
        "#     def __init__(self, val=0, left=None, right=None):\r\n",
        "#         self.val = val\r\n",
        "#         self.left = left\r\n",
        "#         self.right = right\r\n",
        "from collections  import deque\r\n",
        "\r\n",
        "class Solution:\r\n",
        "    def maxDepth(self, root: TreeNode) -> int:\r\n",
        "        if root == None:\r\n",
        "            return 0\r\n",
        "        stack = deque()\r\n",
        "        stack.append((root, 1))\r\n",
        "        maxDepthFound = 1\r\n",
        "        while len(stack) > 0:\r\n",
        "            curr = stack.pop()\r\n",
        "            currNode, currDepth = curr[0], curr[1]\r\n",
        "            if currNode.left == None and currNode.right == None:\r\n",
        "                if currDepth > maxDepthFound:\r\n",
        "                    maxDepthFound = currDepth\r\n",
        "            if currNode.left != None:\r\n",
        "                stack.append((currNode.left, currDepth + 1))\r\n",
        "            if currNode.right != None:\r\n",
        "                stack.append((currNode.right, currDepth + 1))\r\n",
        "        return maxDepthFound"
      ],
      "execution_count": null,
      "outputs": []
    },
    {
      "cell_type": "markdown",
      "metadata": {
        "id": "EqvrWc79ov-G"
      },
      "source": [
        "# Mod 3\r\n"
      ]
    },
    {
      "cell_type": "markdown",
      "metadata": {
        "id": "opsOfRvBo9n3"
      },
      "source": [
        "## Graph Class code\r\n",
        " "
      ]
    },
    {
      "cell_type": "code",
      "metadata": {
        "id": "SMGtGLV0m85M"
      },
      "source": [
        "class Vertex:\r\n",
        "    def __init__(self, value):\r\n",
        "        self.value = value\r\n",
        "        self.connections = {}\r\n",
        "\r\n",
        "    def __str__(self):\r\n",
        "        return str(self.value) + ' connections: '+str([x.value for x in self.connections])\r\n",
        "\r\n",
        "    def add_connection(self, vert, weight = 0):\r\n",
        "        self.connections[vert] = weight\r\n",
        "\r\n",
        "    def get_connections(self):\r\n",
        "        return self.connections.keys()\r\n",
        "\r\n",
        "    def get_value(self):\r\n",
        "        return self.value\r\n",
        "\r\n",
        "    def get_weight(self, vert):\r\n",
        "        return self.connections[vert]\r\n",
        "\r\n",
        "class Graph:\r\n",
        "    def __init__(self):\r\n",
        "        self.vertices = {}\r\n",
        "        self.count = 0\r\n",
        "\r\n",
        "    def __contains__(self, vert):\r\n",
        "        return vert in self.vertices\r\n",
        "\r\n",
        "    def __iter__(self):\r\n",
        "        return iter(self.vertices.values())\r\n",
        "\r\n",
        "    def add_vertex(self, value):\r\n",
        "        self.count += 1\r\n",
        "        new_vert = Vertex(value)\r\n",
        "        self.vertices[value] = new_vert\r\n",
        "        return new_vert\r\n",
        "\r\n",
        "    def add_edge(self, v1, v2, weight = 0):\r\n",
        "        if v1 not in self.vertices:\r\n",
        "            self.add_vertex(v1)\r\n",
        "        if v2 not in self.vertices:\r\n",
        "            self.add_vertex(v2)\r\n",
        "        self.vertices[v1].add_connection(self.vertices[v2], weight)\r\n",
        "\r\n",
        "    def get_vertices(self):\r\n",
        "        return self.vertices.keys()"
      ],
      "execution_count": null,
      "outputs": []
    },
    {
      "cell_type": "code",
      "metadata": {
        "colab": {
          "base_uri": "https://localhost:8080/"
        },
        "id": "ivcqpGez-uLU",
        "outputId": "d0df2978-1bc5-4728-8b58-65c7895f36db"
      },
      "source": [
        "if 5 not in [1,3]:\r\n",
        "  print('not')\r\n",
        "else : print('in')"
      ],
      "execution_count": null,
      "outputs": [
        {
          "output_type": "stream",
          "text": [
            "not\n"
          ],
          "name": "stdout"
        }
      ]
    },
    {
      "cell_type": "markdown",
      "metadata": {
        "id": "kN8EtvUBY1pv"
      },
      "source": [
        "You are given a directed acyclic graph (DAG) that contains N nodes.\r\n",
        "\r\n",
        "Write a function that can find all the possible paths from node 0 to node N - 1.\r\n",
        "\r\n",
        "graph[a] is a list of all nodes b for which the edge a -> b exists.\r\n",
        "\r\n",
        "Example:\r\n",
        "<img src=\"https://codesignal.s3.amazonaws.com/uploads/1601416906699/Screen_Shot_2020-09-29_at_3.01.34_PM.png\" alt=\"Graph illustration\">\r\n",
        "\r\n",
        "<pre><code class=\"language-plaintext\">Input: graph = [[1, 2],[3],[3],[4],[]]\r\n",
        "Output: [[0,1,3,4], [0,2,3,4]]\r\n",
        "</code></pre>\r\n",
        "Note: The results must be returned in sorted order. You can use any built-in sort method on the results array at the end of your function before returning."
      ]
    },
    {
      "cell_type": "code",
      "metadata": {
        "id": "6UqcfK-4ECYt"
      },
      "source": [
        "# Dictionary of strings and ints\r\n",
        "word_freq = {\r\n",
        "\"Hello\": 56,\r\n",
        "\"at\": 23,\r\n",
        "\"test\": {43},\r\n",
        "\"this\": 43\r\n",
        "}\r\n"
      ],
      "execution_count": 5,
      "outputs": []
    },
    {
      "cell_type": "code",
      "metadata": {
        "colab": {
          "base_uri": "https://localhost:8080/"
        },
        "id": "ZtMTP1ZTEFUa",
        "outputId": "1c94b7fb-59d8-488c-e95a-4031a4465b11"
      },
      "source": [
        "word_freq.update({'before': 23})\r\n",
        "word_freq"
      ],
      "execution_count": 6,
      "outputs": [
        {
          "output_type": "execute_result",
          "data": {
            "text/plain": [
              "{'Hello': 56, 'at': 23, 'before': 23, 'test': {43}, 'this': 43}"
            ]
          },
          "metadata": {
            "tags": []
          },
          "execution_count": 6
        }
      ]
    },
    {
      "cell_type": "code",
      "metadata": {
        "colab": {
          "base_uri": "https://localhost:8080/"
        },
        "id": "ZBPhl_5HEXPf",
        "outputId": "ff4adab1-c149-42b4-8c19-f92a19455fad"
      },
      "source": [
        "word_freq.update({'test': 23})\r\n",
        "word_freq"
      ],
      "execution_count": 7,
      "outputs": [
        {
          "output_type": "execute_result",
          "data": {
            "text/plain": [
              "{'Hello': 56, 'at': 23, 'before': 23, 'test': 23, 'this': 43}"
            ]
          },
          "metadata": {
            "tags": []
          },
          "execution_count": 7
        }
      ]
    },
    {
      "cell_type": "code",
      "metadata": {
        "id": "SXcAOiFyYzCD"
      },
      "source": [
        "from collections import defaultdict, deque # defaultdict was my downfall. \r\n",
        "import random                              # lessons learned, more practice\r\n",
        "                                           # needed with graphs and deque\r\n",
        "\r\n",
        "# def append_value(dict_obj, key, value):\r\n",
        "#     # Check if key exist in dict or not\r\n",
        "#     if key in dict_obj:\r\n",
        "#         # Key exist in dict.\r\n",
        "#         # Check if type of value of key is list or not\r\n",
        "#         if not isinstance(dict_obj[key], list):\r\n",
        "#             # If type is not list then make it list\r\n",
        "#             dict_obj[key] = [dict_obj[key]]\r\n",
        "#         # Append the value in list\r\n",
        "#         dict_obj[key].append(value)\r\n",
        "#     else:\r\n",
        "#         # As key is not in dict,\r\n",
        "#         # so, add key-value pair\r\n",
        "#         dict_obj[key] = value\r\n",
        "\r\n",
        "# def convert(a):\r\n",
        "#     '''\r\n",
        "#     converts a (oddly formatted) graph into an adjancency matrix\r\n",
        "#     '''\r\n",
        "#     adjList = defaultdict(set) \r\n",
        "#     for i in range(len(a)): \r\n",
        "#         for j in a[i]:\r\n",
        "#             adjList[j].add(i)\r\n",
        "#     return adjList\r\n",
        "\r\n",
        "# visited = set() \r\n",
        "# '''\r\n",
        "# initializes global var visited    \r\n",
        "# '''\r\n",
        "\r\n",
        "# def dftRecursive(start, graph, result):\r\n",
        "#     visited.add(start)\r\n",
        "#     for path in start:\r\n",
        "#         if path not in visited:\r\n",
        "#             dftRecursive(path, graph, result)  \r\n",
        "#     result.append(visited)\r\n",
        "    \r\n",
        "# def csFindAllPathsFromAToB(graph):\r\n",
        "#     result = []\r\n",
        "#     aList = convert(graph)\r\n",
        "#     start = aList[0]\r\n",
        "#     dftRecursive(start, aList, result)\r\n",
        "#     return result\r\n",
        "\r\n",
        "def csFindAllPathsFromAToB(graph):\r\n",
        "    stack = deque()         #never used in an assignment, but I will have to get \r\n",
        "    stack.append((0, [0])) #2 Dummy node... also never occured to me to try\r\n",
        "    res = []\r\n",
        "    \r\n",
        "    destinationNode = len(graph) - 1 #1 This part I would not have found alone\r\n",
        "\r\n",
        "    while len(stack) > 0:\r\n",
        "        curr = stack.pop()\r\n",
        "        currNode, currPath = curr[0], curr[1]\r\n",
        "        for neighbor in graph[currNode]:\r\n",
        "            newPath = currPath.copy()\r\n",
        "            newPath.append(neighbor)\r\n",
        "            if neighbor == destinationNode:\r\n",
        "                res.append(newPath)\r\n",
        "            else:\r\n",
        "                stack.append((neighbor, newPath))\r\n",
        "    res.sort()\r\n",
        "    return res"
      ],
      "execution_count": null,
      "outputs": []
    }
  ]
}