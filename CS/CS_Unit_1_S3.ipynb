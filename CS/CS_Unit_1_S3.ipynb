{
  "nbformat": 4,
  "nbformat_minor": 0,
  "metadata": {
    "colab": {
      "name": "CS Unit 1 S3.ipynb",
      "provenance": [],
      "collapsed_sections": []
    },
    "kernelspec": {
      "name": "python3",
      "display_name": "Python 3"
    }
  },
  "cells": [
    {
      "cell_type": "markdown",
      "metadata": {
        "id": "17fPA0AdwZXn"
      },
      "source": [
        "# Mod 1"
      ]
    },
    {
      "cell_type": "markdown",
      "metadata": {
        "id": "gCs_bt-GOmTe"
      },
      "source": [
        "## balancedBinaryTree\r\n",
        "\r\n",
        "You are given a binary tree and you need to write a function that can determine if it is height-balanced.\r\n",
        "\r\n",
        "A height-balanced tree can be defined as a binary tree in which the left and right subtrees of every node differ in height by a maximum of 1.\r\n",
        "\r\n",
        "Example 1:\r\n",
        "Given the following tree [5,10,25,None,None,12,3]:\r\n",
        "\r\n",
        "<pre><code class=\"language-plaintext\">    5\r\n",
        "   / \\\r\n",
        " 10  25\r\n",
        "    /  \\\r\n",
        "   12   3\r\n",
        "</code></pre>\r\n",
        "return True.\r\n",
        "\r\n",
        "Example 2:\r\n",
        "Given the following tree [5,6,6,7,7,None,None,8,8]:\r\n",
        "\r\n",
        "<pre><code class=\"language-plaintext\">       5\r\n",
        "      / \\\r\n",
        "     6   6\r\n",
        "    / \\\r\n",
        "   7   7\r\n",
        "  / \\\r\n",
        " 8   8\r\n",
        "</code></pre>\r\n",
        "\r\n",
        "return False.\r\n",
        "\r\n",
        "[execution time limit] 4 seconds (py3)\r\n",
        "\r\n",
        "[input] tree.integer root\r\n",
        "\r\n",
        "[output] boolean"
      ]
    },
    {
      "cell_type": "code",
      "metadata": {
        "id": "fY2eqr-LOMdL"
      },
      "source": [
        "# Binary trees are already defined with this interface:\r\n",
        "# class Tree(object):\r\n",
        "#   def __init__(self, x):\r\n",
        "#     self.value = x\r\n",
        "#     self.left = None\r\n",
        "#     self.right = None\r\n",
        "\r\n",
        "def depth(root):\r\n",
        "    if not root: \r\n",
        "        return 0\r\n",
        "    return max(depth(root.left), depth(root.right)) + 1\r\n",
        "  \r\n",
        "\r\n",
        "def balancedBinaryTree(root):\r\n",
        "    if not root: \r\n",
        "        return True\r\n",
        "    left_depth = depth(root.left) \r\n",
        "    right_depth = depth(root.right)\r\n",
        "    return (abs(left_depth - right_depth) <= 1) and balancedBinaryTree(root.left) and balancedBinaryTree(root.right)"
      ],
      "execution_count": null,
      "outputs": []
    },
    {
      "cell_type": "markdown",
      "metadata": {
        "id": "yxi5Atf_weg6"
      },
      "source": [
        "## minimumDepthBinaryTree\r\n",
        "\r\n",
        "You are given a binary tree and you are asked to write a function that finds its minimum depth. The minimum depth can be defined as the number of nodes along the shortest path from the root down to the nearest leaf node. As a reminder, a leaf node is a node with no children.\r\n",
        "\r\n",
        "Example:\r\n",
        "Given the binary tree [5,7,22,None,None,17,9],\r\n",
        "<pre><code class=\"language-plaintext\">    5\r\n",
        "   / \\\r\n",
        "  7  22\r\n",
        "    /  \\\r\n",
        "   17   9\r\n",
        "</code></pre>\r\n",
        "your function should return its minimum depth = 2.\r\n",
        "\r\n",
        "[execution time limit] 4 seconds (py3)\r\n",
        "\r\n",
        "[input] tree.integer root\r\n",
        "\r\n",
        "[output] integer"
      ]
    },
    {
      "cell_type": "code",
      "metadata": {
        "id": "OwXg-LX-wc_h"
      },
      "source": [
        "# Binary trees are already defined with this interface:\r\n",
        "# class Tree(object):\r\n",
        "#   def __init__(self, x):\r\n",
        "#     self.value = x\r\n",
        "#     self.left = None\r\n",
        "#     self.right = None\r\n",
        "def minimumDepthBinaryTree(root):\r\n",
        "    if root is None: \r\n",
        "        return 0 \r\n",
        "    if not root.left and not root.right: \r\n",
        "        return 1\r\n",
        "    if not root.left: #call again on right \r\n",
        "        return minimumDepthBinaryTree(root.right)+1\r\n",
        "    if not root.right: #call again on left\r\n",
        "        return minminimumDepthBinaryTreeDepth(root.left) +1 \r\n",
        "    # if none of these are true anymore, exit recursion & return the minimum\r\n",
        "    return min(minimumDepthBinaryTree(root.left), minimumDepthBinaryTree(root.right))+1"
      ],
      "execution_count": null,
      "outputs": []
    }
  ]
}